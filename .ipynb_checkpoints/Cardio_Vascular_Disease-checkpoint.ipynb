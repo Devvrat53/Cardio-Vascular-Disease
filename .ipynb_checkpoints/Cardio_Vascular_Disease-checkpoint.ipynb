{
 "cells": [
  {
   "cell_type": "code",
   "execution_count": 1,
   "metadata": {},
   "outputs": [],
   "source": [
    "import pandas as pd\n",
    "import numpy as np\n",
    "import matplotlib.pyplot as plt\n",
    "import seaborn as sns\n",
    "%matplotlib inline"
   ]
  },
  {
   "cell_type": "code",
   "execution_count": 2,
   "metadata": {},
   "outputs": [],
   "source": [
    "df = pd.read_csv(\"Data/cardio_train.csv\")"
   ]
  },
  {
   "cell_type": "code",
   "execution_count": 3,
   "metadata": {},
   "outputs": [
    {
     "data": {
      "text/html": [
       "<div>\n",
       "<style scoped>\n",
       "    .dataframe tbody tr th:only-of-type {\n",
       "        vertical-align: middle;\n",
       "    }\n",
       "\n",
       "    .dataframe tbody tr th {\n",
       "        vertical-align: top;\n",
       "    }\n",
       "\n",
       "    .dataframe thead th {\n",
       "        text-align: right;\n",
       "    }\n",
       "</style>\n",
       "<table border=\"1\" class=\"dataframe\">\n",
       "  <thead>\n",
       "    <tr style=\"text-align: right;\">\n",
       "      <th></th>\n",
       "      <th>id</th>\n",
       "      <th>age</th>\n",
       "      <th>gender</th>\n",
       "      <th>height</th>\n",
       "      <th>weight</th>\n",
       "      <th>ap_hi</th>\n",
       "      <th>ap_lo</th>\n",
       "      <th>cholesterol</th>\n",
       "      <th>gluc</th>\n",
       "      <th>smoke</th>\n",
       "      <th>alco</th>\n",
       "      <th>active</th>\n",
       "      <th>cardio</th>\n",
       "    </tr>\n",
       "  </thead>\n",
       "  <tbody>\n",
       "    <tr>\n",
       "      <th>0</th>\n",
       "      <td>988</td>\n",
       "      <td>22469</td>\n",
       "      <td>1</td>\n",
       "      <td>155</td>\n",
       "      <td>69.0</td>\n",
       "      <td>130</td>\n",
       "      <td>80</td>\n",
       "      <td>2</td>\n",
       "      <td>2</td>\n",
       "      <td>0</td>\n",
       "      <td>0</td>\n",
       "      <td>1</td>\n",
       "      <td>0</td>\n",
       "    </tr>\n",
       "    <tr>\n",
       "      <th>1</th>\n",
       "      <td>989</td>\n",
       "      <td>14648</td>\n",
       "      <td>1</td>\n",
       "      <td>163</td>\n",
       "      <td>71.0</td>\n",
       "      <td>110</td>\n",
       "      <td>70</td>\n",
       "      <td>1</td>\n",
       "      <td>1</td>\n",
       "      <td>0</td>\n",
       "      <td>0</td>\n",
       "      <td>1</td>\n",
       "      <td>1</td>\n",
       "    </tr>\n",
       "    <tr>\n",
       "      <th>2</th>\n",
       "      <td>990</td>\n",
       "      <td>21901</td>\n",
       "      <td>1</td>\n",
       "      <td>165</td>\n",
       "      <td>70.0</td>\n",
       "      <td>120</td>\n",
       "      <td>80</td>\n",
       "      <td>1</td>\n",
       "      <td>1</td>\n",
       "      <td>0</td>\n",
       "      <td>0</td>\n",
       "      <td>1</td>\n",
       "      <td>0</td>\n",
       "    </tr>\n",
       "    <tr>\n",
       "      <th>3</th>\n",
       "      <td>991</td>\n",
       "      <td>14549</td>\n",
       "      <td>2</td>\n",
       "      <td>165</td>\n",
       "      <td>85.0</td>\n",
       "      <td>120</td>\n",
       "      <td>80</td>\n",
       "      <td>1</td>\n",
       "      <td>1</td>\n",
       "      <td>1</td>\n",
       "      <td>1</td>\n",
       "      <td>1</td>\n",
       "      <td>0</td>\n",
       "    </tr>\n",
       "    <tr>\n",
       "      <th>4</th>\n",
       "      <td>992</td>\n",
       "      <td>23393</td>\n",
       "      <td>1</td>\n",
       "      <td>155</td>\n",
       "      <td>62.0</td>\n",
       "      <td>120</td>\n",
       "      <td>80</td>\n",
       "      <td>1</td>\n",
       "      <td>1</td>\n",
       "      <td>0</td>\n",
       "      <td>0</td>\n",
       "      <td>1</td>\n",
       "      <td>0</td>\n",
       "    </tr>\n",
       "  </tbody>\n",
       "</table>\n",
       "</div>"
      ],
      "text/plain": [
       "    id    age  gender  height  weight  ap_hi  ap_lo  cholesterol  gluc  smoke  \\\n",
       "0  988  22469       1     155    69.0    130     80            2     2      0   \n",
       "1  989  14648       1     163    71.0    110     70            1     1      0   \n",
       "2  990  21901       1     165    70.0    120     80            1     1      0   \n",
       "3  991  14549       2     165    85.0    120     80            1     1      1   \n",
       "4  992  23393       1     155    62.0    120     80            1     1      0   \n",
       "\n",
       "   alco  active  cardio  \n",
       "0     0       1       0  \n",
       "1     0       1       1  \n",
       "2     0       1       0  \n",
       "3     1       1       0  \n",
       "4     0       1       0  "
      ]
     },
     "execution_count": 3,
     "metadata": {},
     "output_type": "execute_result"
    }
   ],
   "source": [
    "df.head()"
   ]
  },
  {
   "cell_type": "markdown",
   "metadata": {},
   "source": [
    "The Dataset contains several fields which leads to the __Presence or absence of cardiovascular disease__ within a patient.\n",
    "\n",
    "1. __Age__ | Objective Feature | __age__ | int (days) |\n",
    "2. __Height__ | Objective Feature | __height__ | int (cm) |\n",
    "3. __Weight__ | Objective Feature | __weight__ | float (kg) |\n",
    "4. __Gender__ | Objective Feature | __gender__ | categorical code |\n",
    "5. __Systolic blood pressure__ | Examination Feature | __ap_hi__ | int |\n",
    "6. __Diastolic blood pressure__ | Examination Feature | __ap_lo__ | int |\n",
    "7. __Cholesterol__ | Examination Feature | __cholesterol__ | 1: normal, 2: above normal, 3: well above normal |\n",
    "8. __Glucose__ | Examination Feature | __gluc__ | 1: normal, 2: above normal, 3: well above normal |\n",
    "9. __Smoking__ | Subjective Feature | __smoke__ | binary |\n",
    "10. __Alcohol intake__ | Subjective Feature | __alco__ | binary |\n",
    "11. __Physical activity__ | Subjective Feature | __active__ | binary |\n",
    "12. __Presence or absence of cardiovascular disease__ | Target Variable | __cardio__ | binary |"
   ]
  },
  {
   "cell_type": "markdown",
   "metadata": {},
   "source": [
    "## Exploratory Data Analysis (EDA)"
   ]
  },
  {
   "cell_type": "code",
   "execution_count": 4,
   "metadata": {},
   "outputs": [
    {
     "data": {
      "text/plain": [
       "id             False\n",
       "age            False\n",
       "gender         False\n",
       "height         False\n",
       "weight         False\n",
       "ap_hi          False\n",
       "ap_lo          False\n",
       "cholesterol    False\n",
       "gluc           False\n",
       "smoke          False\n",
       "alco           False\n",
       "active         False\n",
       "cardio         False\n",
       "dtype: bool"
      ]
     },
     "execution_count": 4,
     "metadata": {},
     "output_type": "execute_result"
    }
   ],
   "source": [
    "# checking for null values\n",
    "df.isnull().any()"
   ]
  },
  {
   "cell_type": "code",
   "execution_count": 5,
   "metadata": {},
   "outputs": [
    {
     "data": {
      "text/plain": [
       "id               int64\n",
       "age              int64\n",
       "gender           int64\n",
       "height           int64\n",
       "weight         float64\n",
       "ap_hi            int64\n",
       "ap_lo            int64\n",
       "cholesterol      int64\n",
       "gluc             int64\n",
       "smoke            int64\n",
       "alco             int64\n",
       "active           int64\n",
       "cardio           int64\n",
       "dtype: object"
      ]
     },
     "execution_count": 5,
     "metadata": {},
     "output_type": "execute_result"
    }
   ],
   "source": [
    "# Checking the datatypes\n",
    "df.dtypes"
   ]
  },
  {
   "cell_type": "code",
   "execution_count": 6,
   "metadata": {},
   "outputs": [],
   "source": [
    "#changing the datatype of weight column\n",
    "df['weight'] = df['weight'].astype(int)"
   ]
  },
  {
   "cell_type": "code",
   "execution_count": 7,
   "metadata": {},
   "outputs": [
    {
     "data": {
      "text/html": [
       "<div>\n",
       "<style scoped>\n",
       "    .dataframe tbody tr th:only-of-type {\n",
       "        vertical-align: middle;\n",
       "    }\n",
       "\n",
       "    .dataframe tbody tr th {\n",
       "        vertical-align: top;\n",
       "    }\n",
       "\n",
       "    .dataframe thead th {\n",
       "        text-align: right;\n",
       "    }\n",
       "</style>\n",
       "<table border=\"1\" class=\"dataframe\">\n",
       "  <thead>\n",
       "    <tr style=\"text-align: right;\">\n",
       "      <th></th>\n",
       "      <th>id</th>\n",
       "      <th>age</th>\n",
       "      <th>gender</th>\n",
       "      <th>height</th>\n",
       "      <th>weight</th>\n",
       "      <th>ap_hi</th>\n",
       "      <th>ap_lo</th>\n",
       "      <th>cholesterol</th>\n",
       "      <th>gluc</th>\n",
       "      <th>smoke</th>\n",
       "      <th>alco</th>\n",
       "      <th>active</th>\n",
       "      <th>cardio</th>\n",
       "    </tr>\n",
       "  </thead>\n",
       "  <tbody>\n",
       "    <tr>\n",
       "      <th>0</th>\n",
       "      <td>988</td>\n",
       "      <td>22469</td>\n",
       "      <td>1</td>\n",
       "      <td>155</td>\n",
       "      <td>69</td>\n",
       "      <td>130</td>\n",
       "      <td>80</td>\n",
       "      <td>2</td>\n",
       "      <td>2</td>\n",
       "      <td>0</td>\n",
       "      <td>0</td>\n",
       "      <td>1</td>\n",
       "      <td>0</td>\n",
       "    </tr>\n",
       "    <tr>\n",
       "      <th>1</th>\n",
       "      <td>989</td>\n",
       "      <td>14648</td>\n",
       "      <td>1</td>\n",
       "      <td>163</td>\n",
       "      <td>71</td>\n",
       "      <td>110</td>\n",
       "      <td>70</td>\n",
       "      <td>1</td>\n",
       "      <td>1</td>\n",
       "      <td>0</td>\n",
       "      <td>0</td>\n",
       "      <td>1</td>\n",
       "      <td>1</td>\n",
       "    </tr>\n",
       "    <tr>\n",
       "      <th>2</th>\n",
       "      <td>990</td>\n",
       "      <td>21901</td>\n",
       "      <td>1</td>\n",
       "      <td>165</td>\n",
       "      <td>70</td>\n",
       "      <td>120</td>\n",
       "      <td>80</td>\n",
       "      <td>1</td>\n",
       "      <td>1</td>\n",
       "      <td>0</td>\n",
       "      <td>0</td>\n",
       "      <td>1</td>\n",
       "      <td>0</td>\n",
       "    </tr>\n",
       "    <tr>\n",
       "      <th>3</th>\n",
       "      <td>991</td>\n",
       "      <td>14549</td>\n",
       "      <td>2</td>\n",
       "      <td>165</td>\n",
       "      <td>85</td>\n",
       "      <td>120</td>\n",
       "      <td>80</td>\n",
       "      <td>1</td>\n",
       "      <td>1</td>\n",
       "      <td>1</td>\n",
       "      <td>1</td>\n",
       "      <td>1</td>\n",
       "      <td>0</td>\n",
       "    </tr>\n",
       "    <tr>\n",
       "      <th>4</th>\n",
       "      <td>992</td>\n",
       "      <td>23393</td>\n",
       "      <td>1</td>\n",
       "      <td>155</td>\n",
       "      <td>62</td>\n",
       "      <td>120</td>\n",
       "      <td>80</td>\n",
       "      <td>1</td>\n",
       "      <td>1</td>\n",
       "      <td>0</td>\n",
       "      <td>0</td>\n",
       "      <td>1</td>\n",
       "      <td>0</td>\n",
       "    </tr>\n",
       "    <tr>\n",
       "      <th>5</th>\n",
       "      <td>995</td>\n",
       "      <td>21143</td>\n",
       "      <td>1</td>\n",
       "      <td>164</td>\n",
       "      <td>61</td>\n",
       "      <td>100</td>\n",
       "      <td>70</td>\n",
       "      <td>1</td>\n",
       "      <td>1</td>\n",
       "      <td>0</td>\n",
       "      <td>0</td>\n",
       "      <td>1</td>\n",
       "      <td>0</td>\n",
       "    </tr>\n",
       "    <tr>\n",
       "      <th>6</th>\n",
       "      <td>996</td>\n",
       "      <td>18085</td>\n",
       "      <td>1</td>\n",
       "      <td>162</td>\n",
       "      <td>72</td>\n",
       "      <td>100</td>\n",
       "      <td>70</td>\n",
       "      <td>1</td>\n",
       "      <td>1</td>\n",
       "      <td>0</td>\n",
       "      <td>0</td>\n",
       "      <td>1</td>\n",
       "      <td>0</td>\n",
       "    </tr>\n",
       "    <tr>\n",
       "      <th>7</th>\n",
       "      <td>997</td>\n",
       "      <td>22547</td>\n",
       "      <td>1</td>\n",
       "      <td>161</td>\n",
       "      <td>93</td>\n",
       "      <td>140</td>\n",
       "      <td>90</td>\n",
       "      <td>2</td>\n",
       "      <td>1</td>\n",
       "      <td>0</td>\n",
       "      <td>0</td>\n",
       "      <td>1</td>\n",
       "      <td>1</td>\n",
       "    </tr>\n",
       "    <tr>\n",
       "      <th>8</th>\n",
       "      <td>999</td>\n",
       "      <td>21250</td>\n",
       "      <td>1</td>\n",
       "      <td>157</td>\n",
       "      <td>68</td>\n",
       "      <td>110</td>\n",
       "      <td>80</td>\n",
       "      <td>1</td>\n",
       "      <td>1</td>\n",
       "      <td>0</td>\n",
       "      <td>0</td>\n",
       "      <td>1</td>\n",
       "      <td>0</td>\n",
       "    </tr>\n",
       "    <tr>\n",
       "      <th>9</th>\n",
       "      <td>1000</td>\n",
       "      <td>22446</td>\n",
       "      <td>1</td>\n",
       "      <td>158</td>\n",
       "      <td>65</td>\n",
       "      <td>140</td>\n",
       "      <td>90</td>\n",
       "      <td>3</td>\n",
       "      <td>1</td>\n",
       "      <td>0</td>\n",
       "      <td>0</td>\n",
       "      <td>1</td>\n",
       "      <td>1</td>\n",
       "    </tr>\n",
       "    <tr>\n",
       "      <th>10</th>\n",
       "      <td>1001</td>\n",
       "      <td>16621</td>\n",
       "      <td>1</td>\n",
       "      <td>153</td>\n",
       "      <td>57</td>\n",
       "      <td>120</td>\n",
       "      <td>80</td>\n",
       "      <td>3</td>\n",
       "      <td>2</td>\n",
       "      <td>0</td>\n",
       "      <td>0</td>\n",
       "      <td>1</td>\n",
       "      <td>1</td>\n",
       "    </tr>\n",
       "    <tr>\n",
       "      <th>11</th>\n",
       "      <td>1002</td>\n",
       "      <td>20442</td>\n",
       "      <td>2</td>\n",
       "      <td>169</td>\n",
       "      <td>82</td>\n",
       "      <td>130</td>\n",
       "      <td>90</td>\n",
       "      <td>1</td>\n",
       "      <td>1</td>\n",
       "      <td>0</td>\n",
       "      <td>0</td>\n",
       "      <td>1</td>\n",
       "      <td>1</td>\n",
       "    </tr>\n",
       "    <tr>\n",
       "      <th>12</th>\n",
       "      <td>1003</td>\n",
       "      <td>23168</td>\n",
       "      <td>2</td>\n",
       "      <td>150</td>\n",
       "      <td>56</td>\n",
       "      <td>130</td>\n",
       "      <td>80</td>\n",
       "      <td>2</td>\n",
       "      <td>1</td>\n",
       "      <td>0</td>\n",
       "      <td>0</td>\n",
       "      <td>1</td>\n",
       "      <td>1</td>\n",
       "    </tr>\n",
       "    <tr>\n",
       "      <th>13</th>\n",
       "      <td>1004</td>\n",
       "      <td>22598</td>\n",
       "      <td>1</td>\n",
       "      <td>176</td>\n",
       "      <td>72</td>\n",
       "      <td>130</td>\n",
       "      <td>90</td>\n",
       "      <td>1</td>\n",
       "      <td>3</td>\n",
       "      <td>0</td>\n",
       "      <td>0</td>\n",
       "      <td>1</td>\n",
       "      <td>1</td>\n",
       "    </tr>\n",
       "    <tr>\n",
       "      <th>14</th>\n",
       "      <td>1006</td>\n",
       "      <td>20317</td>\n",
       "      <td>1</td>\n",
       "      <td>154</td>\n",
       "      <td>85</td>\n",
       "      <td>160</td>\n",
       "      <td>100</td>\n",
       "      <td>3</td>\n",
       "      <td>1</td>\n",
       "      <td>0</td>\n",
       "      <td>0</td>\n",
       "      <td>1</td>\n",
       "      <td>1</td>\n",
       "    </tr>\n",
       "  </tbody>\n",
       "</table>\n",
       "</div>"
      ],
      "text/plain": [
       "      id    age  gender  height  weight  ap_hi  ap_lo  cholesterol  gluc  \\\n",
       "0    988  22469       1     155      69    130     80            2     2   \n",
       "1    989  14648       1     163      71    110     70            1     1   \n",
       "2    990  21901       1     165      70    120     80            1     1   \n",
       "3    991  14549       2     165      85    120     80            1     1   \n",
       "4    992  23393       1     155      62    120     80            1     1   \n",
       "5    995  21143       1     164      61    100     70            1     1   \n",
       "6    996  18085       1     162      72    100     70            1     1   \n",
       "7    997  22547       1     161      93    140     90            2     1   \n",
       "8    999  21250       1     157      68    110     80            1     1   \n",
       "9   1000  22446       1     158      65    140     90            3     1   \n",
       "10  1001  16621       1     153      57    120     80            3     2   \n",
       "11  1002  20442       2     169      82    130     90            1     1   \n",
       "12  1003  23168       2     150      56    130     80            2     1   \n",
       "13  1004  22598       1     176      72    130     90            1     3   \n",
       "14  1006  20317       1     154      85    160    100            3     1   \n",
       "\n",
       "    smoke  alco  active  cardio  \n",
       "0       0     0       1       0  \n",
       "1       0     0       1       1  \n",
       "2       0     0       1       0  \n",
       "3       1     1       1       0  \n",
       "4       0     0       1       0  \n",
       "5       0     0       1       0  \n",
       "6       0     0       1       0  \n",
       "7       0     0       1       1  \n",
       "8       0     0       1       0  \n",
       "9       0     0       1       1  \n",
       "10      0     0       1       1  \n",
       "11      0     0       1       1  \n",
       "12      0     0       1       1  \n",
       "13      0     0       1       1  \n",
       "14      0     0       1       1  "
      ]
     },
     "execution_count": 7,
     "metadata": {},
     "output_type": "execute_result"
    }
   ],
   "source": [
    "df.head(15)"
   ]
  },
  {
   "cell_type": "code",
   "execution_count": 8,
   "metadata": {},
   "outputs": [
    {
     "data": {
      "text/html": [
       "<div>\n",
       "<style scoped>\n",
       "    .dataframe tbody tr th:only-of-type {\n",
       "        vertical-align: middle;\n",
       "    }\n",
       "\n",
       "    .dataframe tbody tr th {\n",
       "        vertical-align: top;\n",
       "    }\n",
       "\n",
       "    .dataframe thead th {\n",
       "        text-align: right;\n",
       "    }\n",
       "</style>\n",
       "<table border=\"1\" class=\"dataframe\">\n",
       "  <thead>\n",
       "    <tr style=\"text-align: right;\">\n",
       "      <th></th>\n",
       "      <th>id</th>\n",
       "      <th>age</th>\n",
       "      <th>gender</th>\n",
       "      <th>height</th>\n",
       "      <th>weight</th>\n",
       "      <th>ap_hi</th>\n",
       "      <th>ap_lo</th>\n",
       "      <th>cholesterol</th>\n",
       "      <th>gluc</th>\n",
       "      <th>smoke</th>\n",
       "      <th>alco</th>\n",
       "      <th>active</th>\n",
       "      <th>cardio</th>\n",
       "    </tr>\n",
       "  </thead>\n",
       "  <tbody>\n",
       "    <tr>\n",
       "      <th>0</th>\n",
       "      <td>988</td>\n",
       "      <td>61</td>\n",
       "      <td>1</td>\n",
       "      <td>155</td>\n",
       "      <td>69</td>\n",
       "      <td>130</td>\n",
       "      <td>80</td>\n",
       "      <td>2</td>\n",
       "      <td>2</td>\n",
       "      <td>0</td>\n",
       "      <td>0</td>\n",
       "      <td>1</td>\n",
       "      <td>0</td>\n",
       "    </tr>\n",
       "    <tr>\n",
       "      <th>1</th>\n",
       "      <td>989</td>\n",
       "      <td>40</td>\n",
       "      <td>1</td>\n",
       "      <td>163</td>\n",
       "      <td>71</td>\n",
       "      <td>110</td>\n",
       "      <td>70</td>\n",
       "      <td>1</td>\n",
       "      <td>1</td>\n",
       "      <td>0</td>\n",
       "      <td>0</td>\n",
       "      <td>1</td>\n",
       "      <td>1</td>\n",
       "    </tr>\n",
       "    <tr>\n",
       "      <th>2</th>\n",
       "      <td>990</td>\n",
       "      <td>60</td>\n",
       "      <td>1</td>\n",
       "      <td>165</td>\n",
       "      <td>70</td>\n",
       "      <td>120</td>\n",
       "      <td>80</td>\n",
       "      <td>1</td>\n",
       "      <td>1</td>\n",
       "      <td>0</td>\n",
       "      <td>0</td>\n",
       "      <td>1</td>\n",
       "      <td>0</td>\n",
       "    </tr>\n",
       "    <tr>\n",
       "      <th>3</th>\n",
       "      <td>991</td>\n",
       "      <td>39</td>\n",
       "      <td>2</td>\n",
       "      <td>165</td>\n",
       "      <td>85</td>\n",
       "      <td>120</td>\n",
       "      <td>80</td>\n",
       "      <td>1</td>\n",
       "      <td>1</td>\n",
       "      <td>1</td>\n",
       "      <td>1</td>\n",
       "      <td>1</td>\n",
       "      <td>0</td>\n",
       "    </tr>\n",
       "    <tr>\n",
       "      <th>4</th>\n",
       "      <td>992</td>\n",
       "      <td>64</td>\n",
       "      <td>1</td>\n",
       "      <td>155</td>\n",
       "      <td>62</td>\n",
       "      <td>120</td>\n",
       "      <td>80</td>\n",
       "      <td>1</td>\n",
       "      <td>1</td>\n",
       "      <td>0</td>\n",
       "      <td>0</td>\n",
       "      <td>1</td>\n",
       "      <td>0</td>\n",
       "    </tr>\n",
       "    <tr>\n",
       "      <th>5</th>\n",
       "      <td>995</td>\n",
       "      <td>57</td>\n",
       "      <td>1</td>\n",
       "      <td>164</td>\n",
       "      <td>61</td>\n",
       "      <td>100</td>\n",
       "      <td>70</td>\n",
       "      <td>1</td>\n",
       "      <td>1</td>\n",
       "      <td>0</td>\n",
       "      <td>0</td>\n",
       "      <td>1</td>\n",
       "      <td>0</td>\n",
       "    </tr>\n",
       "    <tr>\n",
       "      <th>6</th>\n",
       "      <td>996</td>\n",
       "      <td>49</td>\n",
       "      <td>1</td>\n",
       "      <td>162</td>\n",
       "      <td>72</td>\n",
       "      <td>100</td>\n",
       "      <td>70</td>\n",
       "      <td>1</td>\n",
       "      <td>1</td>\n",
       "      <td>0</td>\n",
       "      <td>0</td>\n",
       "      <td>1</td>\n",
       "      <td>0</td>\n",
       "    </tr>\n",
       "    <tr>\n",
       "      <th>7</th>\n",
       "      <td>997</td>\n",
       "      <td>61</td>\n",
       "      <td>1</td>\n",
       "      <td>161</td>\n",
       "      <td>93</td>\n",
       "      <td>140</td>\n",
       "      <td>90</td>\n",
       "      <td>2</td>\n",
       "      <td>1</td>\n",
       "      <td>0</td>\n",
       "      <td>0</td>\n",
       "      <td>1</td>\n",
       "      <td>1</td>\n",
       "    </tr>\n",
       "    <tr>\n",
       "      <th>8</th>\n",
       "      <td>999</td>\n",
       "      <td>58</td>\n",
       "      <td>1</td>\n",
       "      <td>157</td>\n",
       "      <td>68</td>\n",
       "      <td>110</td>\n",
       "      <td>80</td>\n",
       "      <td>1</td>\n",
       "      <td>1</td>\n",
       "      <td>0</td>\n",
       "      <td>0</td>\n",
       "      <td>1</td>\n",
       "      <td>0</td>\n",
       "    </tr>\n",
       "    <tr>\n",
       "      <th>9</th>\n",
       "      <td>1000</td>\n",
       "      <td>61</td>\n",
       "      <td>1</td>\n",
       "      <td>158</td>\n",
       "      <td>65</td>\n",
       "      <td>140</td>\n",
       "      <td>90</td>\n",
       "      <td>3</td>\n",
       "      <td>1</td>\n",
       "      <td>0</td>\n",
       "      <td>0</td>\n",
       "      <td>1</td>\n",
       "      <td>1</td>\n",
       "    </tr>\n",
       "    <tr>\n",
       "      <th>10</th>\n",
       "      <td>1001</td>\n",
       "      <td>45</td>\n",
       "      <td>1</td>\n",
       "      <td>153</td>\n",
       "      <td>57</td>\n",
       "      <td>120</td>\n",
       "      <td>80</td>\n",
       "      <td>3</td>\n",
       "      <td>2</td>\n",
       "      <td>0</td>\n",
       "      <td>0</td>\n",
       "      <td>1</td>\n",
       "      <td>1</td>\n",
       "    </tr>\n",
       "    <tr>\n",
       "      <th>11</th>\n",
       "      <td>1002</td>\n",
       "      <td>56</td>\n",
       "      <td>2</td>\n",
       "      <td>169</td>\n",
       "      <td>82</td>\n",
       "      <td>130</td>\n",
       "      <td>90</td>\n",
       "      <td>1</td>\n",
       "      <td>1</td>\n",
       "      <td>0</td>\n",
       "      <td>0</td>\n",
       "      <td>1</td>\n",
       "      <td>1</td>\n",
       "    </tr>\n",
       "    <tr>\n",
       "      <th>12</th>\n",
       "      <td>1003</td>\n",
       "      <td>63</td>\n",
       "      <td>2</td>\n",
       "      <td>150</td>\n",
       "      <td>56</td>\n",
       "      <td>130</td>\n",
       "      <td>80</td>\n",
       "      <td>2</td>\n",
       "      <td>1</td>\n",
       "      <td>0</td>\n",
       "      <td>0</td>\n",
       "      <td>1</td>\n",
       "      <td>1</td>\n",
       "    </tr>\n",
       "    <tr>\n",
       "      <th>13</th>\n",
       "      <td>1004</td>\n",
       "      <td>61</td>\n",
       "      <td>1</td>\n",
       "      <td>176</td>\n",
       "      <td>72</td>\n",
       "      <td>130</td>\n",
       "      <td>90</td>\n",
       "      <td>1</td>\n",
       "      <td>3</td>\n",
       "      <td>0</td>\n",
       "      <td>0</td>\n",
       "      <td>1</td>\n",
       "      <td>1</td>\n",
       "    </tr>\n",
       "    <tr>\n",
       "      <th>14</th>\n",
       "      <td>1006</td>\n",
       "      <td>55</td>\n",
       "      <td>1</td>\n",
       "      <td>154</td>\n",
       "      <td>85</td>\n",
       "      <td>160</td>\n",
       "      <td>100</td>\n",
       "      <td>3</td>\n",
       "      <td>1</td>\n",
       "      <td>0</td>\n",
       "      <td>0</td>\n",
       "      <td>1</td>\n",
       "      <td>1</td>\n",
       "    </tr>\n",
       "  </tbody>\n",
       "</table>\n",
       "</div>"
      ],
      "text/plain": [
       "      id  age  gender  height  weight  ap_hi  ap_lo  cholesterol  gluc  smoke  \\\n",
       "0    988   61       1     155      69    130     80            2     2      0   \n",
       "1    989   40       1     163      71    110     70            1     1      0   \n",
       "2    990   60       1     165      70    120     80            1     1      0   \n",
       "3    991   39       2     165      85    120     80            1     1      1   \n",
       "4    992   64       1     155      62    120     80            1     1      0   \n",
       "5    995   57       1     164      61    100     70            1     1      0   \n",
       "6    996   49       1     162      72    100     70            1     1      0   \n",
       "7    997   61       1     161      93    140     90            2     1      0   \n",
       "8    999   58       1     157      68    110     80            1     1      0   \n",
       "9   1000   61       1     158      65    140     90            3     1      0   \n",
       "10  1001   45       1     153      57    120     80            3     2      0   \n",
       "11  1002   56       2     169      82    130     90            1     1      0   \n",
       "12  1003   63       2     150      56    130     80            2     1      0   \n",
       "13  1004   61       1     176      72    130     90            1     3      0   \n",
       "14  1006   55       1     154      85    160    100            3     1      0   \n",
       "\n",
       "    alco  active  cardio  \n",
       "0      0       1       0  \n",
       "1      0       1       1  \n",
       "2      0       1       0  \n",
       "3      1       1       0  \n",
       "4      0       1       0  \n",
       "5      0       1       0  \n",
       "6      0       1       0  \n",
       "7      0       1       1  \n",
       "8      0       1       0  \n",
       "9      0       1       1  \n",
       "10     0       1       1  \n",
       "11     0       1       1  \n",
       "12     0       1       1  \n",
       "13     0       1       1  \n",
       "14     0       1       1  "
      ]
     },
     "execution_count": 8,
     "metadata": {},
     "output_type": "execute_result"
    }
   ],
   "source": [
    "# Converting days into years in 'age' parameter\n",
    "df['age'] = df['age']/365\n",
    "df['age'] = df['age'].astype(int)\n",
    "df.head(15)"
   ]
  },
  {
   "cell_type": "code",
   "execution_count": 9,
   "metadata": {},
   "outputs": [
    {
     "data": {
      "text/plain": [
       "id             int64\n",
       "age            int64\n",
       "gender         int64\n",
       "height         int64\n",
       "weight         int64\n",
       "ap_hi          int64\n",
       "ap_lo          int64\n",
       "cholesterol    int64\n",
       "gluc           int64\n",
       "smoke          int64\n",
       "alco           int64\n",
       "active         int64\n",
       "cardio         int64\n",
       "dtype: object"
      ]
     },
     "execution_count": 9,
     "metadata": {},
     "output_type": "execute_result"
    }
   ],
   "source": [
    "df.dtypes"
   ]
  },
  {
   "cell_type": "code",
   "execution_count": 10,
   "metadata": {},
   "outputs": [
    {
     "data": {
      "text/html": [
       "<div>\n",
       "<style scoped>\n",
       "    .dataframe tbody tr th:only-of-type {\n",
       "        vertical-align: middle;\n",
       "    }\n",
       "\n",
       "    .dataframe tbody tr th {\n",
       "        vertical-align: top;\n",
       "    }\n",
       "\n",
       "    .dataframe thead th {\n",
       "        text-align: right;\n",
       "    }\n",
       "</style>\n",
       "<table border=\"1\" class=\"dataframe\">\n",
       "  <thead>\n",
       "    <tr style=\"text-align: right;\">\n",
       "      <th></th>\n",
       "      <th>gender</th>\n",
       "    </tr>\n",
       "  </thead>\n",
       "  <tbody>\n",
       "    <tr>\n",
       "      <th>1</th>\n",
       "      <td>45079</td>\n",
       "    </tr>\n",
       "    <tr>\n",
       "      <th>2</th>\n",
       "      <td>24222</td>\n",
       "    </tr>\n",
       "  </tbody>\n",
       "</table>\n",
       "</div>"
      ],
      "text/plain": [
       "   gender\n",
       "1   45079\n",
       "2   24222"
      ]
     },
     "execution_count": 10,
     "metadata": {},
     "output_type": "execute_result"
    }
   ],
   "source": [
    "df['gender'].value_counts().to_frame()"
   ]
  },
  {
   "cell_type": "code",
   "execution_count": 11,
   "metadata": {},
   "outputs": [
    {
     "data": {
      "image/png": "[encoded data removed]",
      "text/plain": [
       "<Figure size 1296x432 with 1 Axes>"
      ]
     },
     "metadata": {
      "needs_background": "light"
     },
     "output_type": "display_data"
    }
   ],
   "source": [
    "#box plot \n",
    "plt.figure(figsize=(18, 6))\n",
    "sns.boxplot(x='age', y='weight', data=df)\n",
    "plt.xticks(size=15)\n",
    "plt.yticks(size=15)\n",
    "plt.xlabel(\"Age\", size=18)\n",
    "plt.ylabel(\"Weight\", size=18)\n",
    "plt.show()"
   ]
  },
  {
   "cell_type": "code",
   "execution_count": 12,
   "metadata": {},
   "outputs": [
    {
     "data": {
      "image/png": "[encoded data removed]",
      "text/plain": [
       "<Figure size 1296x432 with 1 Axes>"
      ]
     },
     "metadata": {
      "needs_background": "light"
     },
     "output_type": "display_data"
    }
   ],
   "source": [
    "plt.figure(figsize=(18, 6))\n",
    "sns.barplot(x= 'age', y= 'ap_hi', data= df)\n",
    "plt.xticks(size= 15)\n",
    "plt.yticks(size= 15)\n",
    "plt.xlabel('Age', size= 18)\n",
    "plt.ylabel('Systolic Blood Pressure', size= 18)\n",
    "plt.show()"
   ]
  },
  {
   "cell_type": "code",
   "execution_count": 13,
   "metadata": {},
   "outputs": [
    {
     "data": {
      "image/png": "[encoded data removed]",
      "text/plain": [
       "<Figure size 1296x432 with 1 Axes>"
      ]
     },
     "metadata": {
      "needs_background": "light"
     },
     "output_type": "display_data"
    }
   ],
   "source": [
    "plt.figure(figsize=(18, 6))\n",
    "sns.barplot(x= 'age', y= 'ap_lo', data= df)\n",
    "plt.xticks(size= 15)\n",
    "plt.yticks(size= 15)\n",
    "plt.xlabel('Age', size= 18)\n",
    "plt.ylabel('Diabolic Blood Pressure', size= 18)\n",
    "plt.show()"
   ]
  },
  {
   "cell_type": "markdown",
   "metadata": {},
   "source": [
    "### Feature Selection"
   ]
  },
  {
   "cell_type": "code",
   "execution_count": 14,
   "metadata": {},
   "outputs": [
    {
     "data": {
      "text/plain": [
       "array([[ 61,   1, 155,  69, 130,  80,   2,   2,   0,   0,   1],\n",
       "       [ 40,   1, 163,  71, 110,  70,   1,   1,   0,   0,   1],\n",
       "       [ 60,   1, 165,  70, 120,  80,   1,   1,   0,   0,   1],\n",
       "       [ 39,   2, 165,  85, 120,  80,   1,   1,   1,   1,   1],\n",
       "       [ 64,   1, 155,  62, 120,  80,   1,   1,   0,   0,   1]])"
      ]
     },
     "execution_count": 14,
     "metadata": {},
     "output_type": "execute_result"
    }
   ],
   "source": [
    "X = df[['age', 'gender', 'height', 'weight', 'ap_hi', 'ap_lo', 'cholesterol', 'gluc', 'smoke', 'alco', 'active']].values\n",
    "X[:5]"
   ]
  },
  {
   "cell_type": "code",
   "execution_count": 15,
   "metadata": {},
   "outputs": [
    {
     "data": {
      "text/html": [
       "<div>\n",
       "<style scoped>\n",
       "    .dataframe tbody tr th:only-of-type {\n",
       "        vertical-align: middle;\n",
       "    }\n",
       "\n",
       "    .dataframe tbody tr th {\n",
       "        vertical-align: top;\n",
       "    }\n",
       "\n",
       "    .dataframe thead th {\n",
       "        text-align: right;\n",
       "    }\n",
       "</style>\n",
       "<table border=\"1\" class=\"dataframe\">\n",
       "  <thead>\n",
       "    <tr style=\"text-align: right;\">\n",
       "      <th></th>\n",
       "      <th>id</th>\n",
       "      <th>age</th>\n",
       "      <th>gender</th>\n",
       "      <th>height</th>\n",
       "      <th>weight</th>\n",
       "      <th>ap_hi</th>\n",
       "      <th>ap_lo</th>\n",
       "      <th>cholesterol</th>\n",
       "      <th>gluc</th>\n",
       "      <th>smoke</th>\n",
       "      <th>alco</th>\n",
       "      <th>active</th>\n",
       "      <th>cardio</th>\n",
       "    </tr>\n",
       "  </thead>\n",
       "  <tbody>\n",
       "    <tr>\n",
       "      <th>0</th>\n",
       "      <td>988</td>\n",
       "      <td>61</td>\n",
       "      <td>1</td>\n",
       "      <td>155</td>\n",
       "      <td>69</td>\n",
       "      <td>130</td>\n",
       "      <td>80</td>\n",
       "      <td>2</td>\n",
       "      <td>2</td>\n",
       "      <td>0</td>\n",
       "      <td>0</td>\n",
       "      <td>1</td>\n",
       "      <td>0</td>\n",
       "    </tr>\n",
       "    <tr>\n",
       "      <th>1</th>\n",
       "      <td>989</td>\n",
       "      <td>40</td>\n",
       "      <td>1</td>\n",
       "      <td>163</td>\n",
       "      <td>71</td>\n",
       "      <td>110</td>\n",
       "      <td>70</td>\n",
       "      <td>1</td>\n",
       "      <td>1</td>\n",
       "      <td>0</td>\n",
       "      <td>0</td>\n",
       "      <td>1</td>\n",
       "      <td>1</td>\n",
       "    </tr>\n",
       "    <tr>\n",
       "      <th>2</th>\n",
       "      <td>990</td>\n",
       "      <td>60</td>\n",
       "      <td>1</td>\n",
       "      <td>165</td>\n",
       "      <td>70</td>\n",
       "      <td>120</td>\n",
       "      <td>80</td>\n",
       "      <td>1</td>\n",
       "      <td>1</td>\n",
       "      <td>0</td>\n",
       "      <td>0</td>\n",
       "      <td>1</td>\n",
       "      <td>0</td>\n",
       "    </tr>\n",
       "    <tr>\n",
       "      <th>3</th>\n",
       "      <td>991</td>\n",
       "      <td>39</td>\n",
       "      <td>2</td>\n",
       "      <td>165</td>\n",
       "      <td>85</td>\n",
       "      <td>120</td>\n",
       "      <td>80</td>\n",
       "      <td>1</td>\n",
       "      <td>1</td>\n",
       "      <td>1</td>\n",
       "      <td>1</td>\n",
       "      <td>1</td>\n",
       "      <td>0</td>\n",
       "    </tr>\n",
       "    <tr>\n",
       "      <th>4</th>\n",
       "      <td>992</td>\n",
       "      <td>64</td>\n",
       "      <td>1</td>\n",
       "      <td>155</td>\n",
       "      <td>62</td>\n",
       "      <td>120</td>\n",
       "      <td>80</td>\n",
       "      <td>1</td>\n",
       "      <td>1</td>\n",
       "      <td>0</td>\n",
       "      <td>0</td>\n",
       "      <td>1</td>\n",
       "      <td>0</td>\n",
       "    </tr>\n",
       "  </tbody>\n",
       "</table>\n",
       "</div>"
      ],
      "text/plain": [
       "    id  age  gender  height  weight  ap_hi  ap_lo  cholesterol  gluc  smoke  \\\n",
       "0  988   61       1     155      69    130     80            2     2      0   \n",
       "1  989   40       1     163      71    110     70            1     1      0   \n",
       "2  990   60       1     165      70    120     80            1     1      0   \n",
       "3  991   39       2     165      85    120     80            1     1      1   \n",
       "4  992   64       1     155      62    120     80            1     1      0   \n",
       "\n",
       "   alco  active  cardio  \n",
       "0     0       1       0  \n",
       "1     0       1       1  \n",
       "2     0       1       0  \n",
       "3     1       1       0  \n",
       "4     0       1       0  "
      ]
     },
     "execution_count": 15,
     "metadata": {},
     "output_type": "execute_result"
    }
   ],
   "source": [
    "df.head()"
   ]
  },
  {
   "cell_type": "code",
   "execution_count": 16,
   "metadata": {},
   "outputs": [
    {
     "data": {
      "text/plain": [
       "array([[0],\n",
       "       [1],\n",
       "       [0],\n",
       "       [0],\n",
       "       [0]])"
      ]
     },
     "execution_count": 16,
     "metadata": {},
     "output_type": "execute_result"
    }
   ],
   "source": [
    "y = df[['cardio']].values\n",
    "y[:5]"
   ]
  },
  {
   "cell_type": "markdown",
   "metadata": {},
   "source": [
    "### Logistic Regression"
   ]
  },
  {
   "cell_type": "code",
   "execution_count": 17,
   "metadata": {},
   "outputs": [],
   "source": [
    "from sklearn.model_selection import train_test_split\n",
    "from sklearn.linear_model import LogisticRegression"
   ]
  },
  {
   "cell_type": "code",
   "execution_count": 18,
   "metadata": {
    "scrolled": true
   },
   "outputs": [
    {
     "name": "stderr",
     "output_type": "stream",
     "text": [
      "/home/devvrat/anaconda3/lib/python3.7/site-packages/sklearn/utils/validation.py:724: DataConversionWarning: A column-vector y was passed when a 1d array was expected. Please change the shape of y to (n_samples, ), for example using ravel().\n",
      "  y = column_or_1d(y, warn=True)\n",
      "/home/devvrat/anaconda3/lib/python3.7/site-packages/sklearn/utils/validation.py:724: DataConversionWarning: A column-vector y was passed when a 1d array was expected. Please change the shape of y to (n_samples, ), for example using ravel().\n",
      "  y = column_or_1d(y, warn=True)\n"
     ]
    },
    {
     "name": "stdout",
     "output_type": "stream",
     "text": [
      "Test: 0.7084367484367484 and Train: 0.7053561122013159 and Random state= 0\n"
     ]
    },
    {
     "name": "stderr",
     "output_type": "stream",
     "text": [
      "/home/devvrat/anaconda3/lib/python3.7/site-packages/sklearn/utils/validation.py:724: DataConversionWarning: A column-vector y was passed when a 1d array was expected. Please change the shape of y to (n_samples, ), for example using ravel().\n",
      "  y = column_or_1d(y, warn=True)\n",
      "/home/devvrat/anaconda3/lib/python3.7/site-packages/sklearn/utils/validation.py:724: DataConversionWarning: A column-vector y was passed when a 1d array was expected. Please change the shape of y to (n_samples, ), for example using ravel().\n",
      "  y = column_or_1d(y, warn=True)\n"
     ]
    },
    {
     "name": "stdout",
     "output_type": "stream",
     "text": [
      "Test: 0.7085329485329486 and Train: 0.7084728154219093 and Random state= 1\n"
     ]
    },
    {
     "name": "stderr",
     "output_type": "stream",
     "text": [
      "/home/devvrat/anaconda3/lib/python3.7/site-packages/sklearn/utils/validation.py:724: DataConversionWarning: A column-vector y was passed when a 1d array was expected. Please change the shape of y to (n_samples, ), for example using ravel().\n",
      "  y = column_or_1d(y, warn=True)\n",
      "/home/devvrat/anaconda3/lib/python3.7/site-packages/sklearn/utils/validation.py:724: DataConversionWarning: A column-vector y was passed when a 1d array was expected. Please change the shape of y to (n_samples, ), for example using ravel().\n",
      "  y = column_or_1d(y, warn=True)\n"
     ]
    },
    {
     "name": "stdout",
     "output_type": "stream",
     "text": [
      "Test: 0.7077825877825877 and Train: 0.7032205933279464 and Random state= 2\n"
     ]
    },
    {
     "name": "stderr",
     "output_type": "stream",
     "text": [
      "/home/devvrat/anaconda3/lib/python3.7/site-packages/sklearn/utils/validation.py:724: DataConversionWarning: A column-vector y was passed when a 1d array was expected. Please change the shape of y to (n_samples, ), for example using ravel().\n",
      "  y = column_or_1d(y, warn=True)\n",
      "/home/devvrat/anaconda3/lib/python3.7/site-packages/sklearn/utils/validation.py:724: DataConversionWarning: A column-vector y was passed when a 1d array was expected. Please change the shape of y to (n_samples, ), for example using ravel().\n",
      "  y = column_or_1d(y, warn=True)\n"
     ]
    },
    {
     "name": "stdout",
     "output_type": "stream",
     "text": [
      "Test: 0.7125541125541126 and Train: 0.711878102274039 and Random state= 3\n"
     ]
    },
    {
     "name": "stderr",
     "output_type": "stream",
     "text": [
      "/home/devvrat/anaconda3/lib/python3.7/site-packages/sklearn/utils/validation.py:724: DataConversionWarning: A column-vector y was passed when a 1d array was expected. Please change the shape of y to (n_samples, ), for example using ravel().\n",
      "  y = column_or_1d(y, warn=True)\n",
      "/home/devvrat/anaconda3/lib/python3.7/site-packages/sklearn/utils/validation.py:724: DataConversionWarning: A column-vector y was passed when a 1d array was expected. Please change the shape of y to (n_samples, ), for example using ravel().\n",
      "  y = column_or_1d(y, warn=True)\n"
     ]
    },
    {
     "name": "stdout",
     "output_type": "stream",
     "text": [
      "Test: 0.7077056277056277 and Train: 0.7074339143483782 and Random state= 4\n"
     ]
    },
    {
     "name": "stderr",
     "output_type": "stream",
     "text": [
      "/home/devvrat/anaconda3/lib/python3.7/site-packages/sklearn/utils/validation.py:724: DataConversionWarning: A column-vector y was passed when a 1d array was expected. Please change the shape of y to (n_samples, ), for example using ravel().\n",
      "  y = column_or_1d(y, warn=True)\n",
      "/home/devvrat/anaconda3/lib/python3.7/site-packages/sklearn/utils/validation.py:724: DataConversionWarning: A column-vector y was passed when a 1d array was expected. Please change the shape of y to (n_samples, ), for example using ravel().\n",
      "  y = column_or_1d(y, warn=True)\n"
     ]
    },
    {
     "name": "stdout",
     "output_type": "stream",
     "text": [
      "Test: 0.7083020683020683 and Train: 0.705990996190696 and Random state= 5\n"
     ]
    },
    {
     "name": "stderr",
     "output_type": "stream",
     "text": [
      "/home/devvrat/anaconda3/lib/python3.7/site-packages/sklearn/utils/validation.py:724: DataConversionWarning: A column-vector y was passed when a 1d array was expected. Please change the shape of y to (n_samples, ), for example using ravel().\n",
      "  y = column_or_1d(y, warn=True)\n",
      "/home/devvrat/anaconda3/lib/python3.7/site-packages/sklearn/utils/validation.py:724: DataConversionWarning: A column-vector y was passed when a 1d array was expected. Please change the shape of y to (n_samples, ), for example using ravel().\n",
      "  y = column_or_1d(y, warn=True)\n"
     ]
    },
    {
     "name": "stdout",
     "output_type": "stream",
     "text": [
      "Test: 0.7065319865319866 and Train: 0.7077802147062219 and Random state= 6\n"
     ]
    },
    {
     "name": "stderr",
     "output_type": "stream",
     "text": [
      "/home/devvrat/anaconda3/lib/python3.7/site-packages/sklearn/utils/validation.py:724: DataConversionWarning: A column-vector y was passed when a 1d array was expected. Please change the shape of y to (n_samples, ), for example using ravel().\n",
      "  y = column_or_1d(y, warn=True)\n",
      "/home/devvrat/anaconda3/lib/python3.7/site-packages/sklearn/utils/validation.py:724: DataConversionWarning: A column-vector y was passed when a 1d array was expected. Please change the shape of y to (n_samples, ), for example using ravel().\n",
      "  y = column_or_1d(y, warn=True)\n"
     ]
    },
    {
     "name": "stdout",
     "output_type": "stream",
     "text": [
      "Test: 0.7134968734968735 and Train: 0.7075493478009928 and Random state= 7\n"
     ]
    },
    {
     "name": "stderr",
     "output_type": "stream",
     "text": [
      "/home/devvrat/anaconda3/lib/python3.7/site-packages/sklearn/utils/validation.py:724: DataConversionWarning: A column-vector y was passed when a 1d array was expected. Please change the shape of y to (n_samples, ), for example using ravel().\n",
      "  y = column_or_1d(y, warn=True)\n",
      "/home/devvrat/anaconda3/lib/python3.7/site-packages/sklearn/utils/validation.py:724: DataConversionWarning: A column-vector y was passed when a 1d array was expected. Please change the shape of y to (n_samples, ), for example using ravel().\n",
      "  y = column_or_1d(y, warn=True)\n"
     ]
    },
    {
     "name": "stdout",
     "output_type": "stream",
     "text": [
      "Test: 0.711996151996152 and Train: 0.7158028396629343 and Random state= 8\n"
     ]
    },
    {
     "name": "stderr",
     "output_type": "stream",
     "text": [
      "/home/devvrat/anaconda3/lib/python3.7/site-packages/sklearn/utils/validation.py:724: DataConversionWarning: A column-vector y was passed when a 1d array was expected. Please change the shape of y to (n_samples, ), for example using ravel().\n",
      "  y = column_or_1d(y, warn=True)\n",
      "/home/devvrat/anaconda3/lib/python3.7/site-packages/sklearn/utils/validation.py:724: DataConversionWarning: A column-vector y was passed when a 1d array was expected. Please change the shape of y to (n_samples, ), for example using ravel().\n",
      "  y = column_or_1d(y, warn=True)\n"
     ]
    },
    {
     "name": "stdout",
     "output_type": "stream",
     "text": [
      "Test: 0.712919672919673 and Train: 0.7087613990534457 and Random state= 9\n"
     ]
    },
    {
     "name": "stderr",
     "output_type": "stream",
     "text": [
      "/home/devvrat/anaconda3/lib/python3.7/site-packages/sklearn/utils/validation.py:724: DataConversionWarning: A column-vector y was passed when a 1d array was expected. Please change the shape of y to (n_samples, ), for example using ravel().\n",
      "  y = column_or_1d(y, warn=True)\n",
      "/home/devvrat/anaconda3/lib/python3.7/site-packages/sklearn/utils/validation.py:724: DataConversionWarning: A column-vector y was passed when a 1d array was expected. Please change the shape of y to (n_samples, ), for example using ravel().\n",
      "  y = column_or_1d(y, warn=True)\n"
     ]
    },
    {
     "name": "stdout",
     "output_type": "stream",
     "text": [
      "Test: 0.7081096681096681 and Train: 0.7091076994112894 and Random state= 10\n"
     ]
    },
    {
     "name": "stderr",
     "output_type": "stream",
     "text": [
      "/home/devvrat/anaconda3/lib/python3.7/site-packages/sklearn/utils/validation.py:724: DataConversionWarning: A column-vector y was passed when a 1d array was expected. Please change the shape of y to (n_samples, ), for example using ravel().\n",
      "  y = column_or_1d(y, warn=True)\n",
      "/home/devvrat/anaconda3/lib/python3.7/site-packages/sklearn/utils/validation.py:724: DataConversionWarning: A column-vector y was passed when a 1d array was expected. Please change the shape of y to (n_samples, ), for example using ravel().\n",
      "  y = column_or_1d(y, warn=True)\n"
     ]
    },
    {
     "name": "stdout",
     "output_type": "stream",
     "text": [
      "Test: 0.7121693121693121 and Train: 0.7132633037054138 and Random state= 11\n"
     ]
    },
    {
     "name": "stderr",
     "output_type": "stream",
     "text": [
      "/home/devvrat/anaconda3/lib/python3.7/site-packages/sklearn/utils/validation.py:724: DataConversionWarning: A column-vector y was passed when a 1d array was expected. Please change the shape of y to (n_samples, ), for example using ravel().\n",
      "  y = column_or_1d(y, warn=True)\n",
      "/home/devvrat/anaconda3/lib/python3.7/site-packages/sklearn/utils/validation.py:724: DataConversionWarning: A column-vector y was passed when a 1d array was expected. Please change the shape of y to (n_samples, ), for example using ravel().\n",
      "  y = column_or_1d(y, warn=True)\n"
     ]
    },
    {
     "name": "stdout",
     "output_type": "stream",
     "text": [
      "Test: 0.7146320346320346 and Train: 0.7171880410943091 and Random state= 12\n"
     ]
    },
    {
     "name": "stderr",
     "output_type": "stream",
     "text": [
      "/home/devvrat/anaconda3/lib/python3.7/site-packages/sklearn/utils/validation.py:724: DataConversionWarning: A column-vector y was passed when a 1d array was expected. Please change the shape of y to (n_samples, ), for example using ravel().\n",
      "  y = column_or_1d(y, warn=True)\n",
      "/home/devvrat/anaconda3/lib/python3.7/site-packages/sklearn/utils/validation.py:724: DataConversionWarning: A column-vector y was passed when a 1d array was expected. Please change the shape of y to (n_samples, ), for example using ravel().\n",
      "  y = column_or_1d(y, warn=True)\n"
     ]
    },
    {
     "name": "stdout",
     "output_type": "stream",
     "text": [
      "Test: 0.7082443482443482 and Train: 0.7021816922544153 and Random state= 13\n"
     ]
    },
    {
     "name": "stderr",
     "output_type": "stream",
     "text": [
      "/home/devvrat/anaconda3/lib/python3.7/site-packages/sklearn/utils/validation.py:724: DataConversionWarning: A column-vector y was passed when a 1d array was expected. Please change the shape of y to (n_samples, ), for example using ravel().\n",
      "  y = column_or_1d(y, warn=True)\n",
      "/home/devvrat/anaconda3/lib/python3.7/site-packages/sklearn/utils/validation.py:724: DataConversionWarning: A column-vector y was passed when a 1d array was expected. Please change the shape of y to (n_samples, ), for example using ravel().\n",
      "  y = column_or_1d(y, warn=True)\n"
     ]
    },
    {
     "name": "stdout",
     "output_type": "stream",
     "text": [
      "Test: 0.7116113516113516 and Train: 0.7002770402862749 and Random state= 14\n"
     ]
    },
    {
     "name": "stderr",
     "output_type": "stream",
     "text": [
      "/home/devvrat/anaconda3/lib/python3.7/site-packages/sklearn/utils/validation.py:724: DataConversionWarning: A column-vector y was passed when a 1d array was expected. Please change the shape of y to (n_samples, ), for example using ravel().\n",
      "  y = column_or_1d(y, warn=True)\n",
      "/home/devvrat/anaconda3/lib/python3.7/site-packages/sklearn/utils/validation.py:724: DataConversionWarning: A column-vector y was passed when a 1d array was expected. Please change the shape of y to (n_samples, ), for example using ravel().\n",
      "  y = column_or_1d(y, warn=True)\n"
     ]
    },
    {
     "name": "stdout",
     "output_type": "stream",
     "text": [
      "Test: 0.7133621933621933 and Train: 0.7098003001269768 and Random state= 15\n"
     ]
    },
    {
     "name": "stderr",
     "output_type": "stream",
     "text": [
      "/home/devvrat/anaconda3/lib/python3.7/site-packages/sklearn/utils/validation.py:724: DataConversionWarning: A column-vector y was passed when a 1d array was expected. Please change the shape of y to (n_samples, ), for example using ravel().\n",
      "  y = column_or_1d(y, warn=True)\n",
      "/home/devvrat/anaconda3/lib/python3.7/site-packages/sklearn/utils/validation.py:724: DataConversionWarning: A column-vector y was passed when a 1d array was expected. Please change the shape of y to (n_samples, ), for example using ravel().\n",
      "  y = column_or_1d(y, warn=True)\n"
     ]
    },
    {
     "name": "stdout",
     "output_type": "stream",
     "text": [
      "Test: 0.7065704665704665 and Train: 0.7128015698949556 and Random state= 16\n"
     ]
    },
    {
     "name": "stderr",
     "output_type": "stream",
     "text": [
      "/home/devvrat/anaconda3/lib/python3.7/site-packages/sklearn/utils/validation.py:724: DataConversionWarning: A column-vector y was passed when a 1d array was expected. Please change the shape of y to (n_samples, ), for example using ravel().\n",
      "  y = column_or_1d(y, warn=True)\n",
      "/home/devvrat/anaconda3/lib/python3.7/site-packages/sklearn/utils/validation.py:724: DataConversionWarning: A column-vector y was passed when a 1d array was expected. Please change the shape of y to (n_samples, ), for example using ravel().\n",
      "  y = column_or_1d(y, warn=True)\n"
     ]
    },
    {
     "name": "stdout",
     "output_type": "stream",
     "text": [
      "Test: 0.714035594035594 and Train: 0.7179960752626111 and Random state= 17\n"
     ]
    },
    {
     "name": "stderr",
     "output_type": "stream",
     "text": [
      "/home/devvrat/anaconda3/lib/python3.7/site-packages/sklearn/utils/validation.py:724: DataConversionWarning: A column-vector y was passed when a 1d array was expected. Please change the shape of y to (n_samples, ), for example using ravel().\n",
      "  y = column_or_1d(y, warn=True)\n",
      "/home/devvrat/anaconda3/lib/python3.7/site-packages/sklearn/utils/validation.py:724: DataConversionWarning: A column-vector y was passed when a 1d array was expected. Please change the shape of y to (n_samples, ), for example using ravel().\n",
      "  y = column_or_1d(y, warn=True)\n"
     ]
    },
    {
     "name": "stdout",
     "output_type": "stream",
     "text": [
      "Test: 0.7115151515151515 and Train: 0.7132055869791065 and Random state= 18\n"
     ]
    },
    {
     "name": "stderr",
     "output_type": "stream",
     "text": [
      "/home/devvrat/anaconda3/lib/python3.7/site-packages/sklearn/utils/validation.py:724: DataConversionWarning: A column-vector y was passed when a 1d array was expected. Please change the shape of y to (n_samples, ), for example using ravel().\n",
      "  y = column_or_1d(y, warn=True)\n",
      "/home/devvrat/anaconda3/lib/python3.7/site-packages/sklearn/utils/validation.py:724: DataConversionWarning: A column-vector y was passed when a 1d array was expected. Please change the shape of y to (n_samples, ), for example using ravel().\n",
      "  y = column_or_1d(y, warn=True)\n"
     ]
    },
    {
     "name": "stdout",
     "output_type": "stream",
     "text": [
      "Test: 0.7113612313612314 and Train: 0.7131478702527992 and Random state= 19\n"
     ]
    },
    {
     "name": "stderr",
     "output_type": "stream",
     "text": [
      "/home/devvrat/anaconda3/lib/python3.7/site-packages/sklearn/utils/validation.py:724: DataConversionWarning: A column-vector y was passed when a 1d array was expected. Please change the shape of y to (n_samples, ), for example using ravel().\n",
      "  y = column_or_1d(y, warn=True)\n",
      "/home/devvrat/anaconda3/lib/python3.7/site-packages/sklearn/utils/validation.py:724: DataConversionWarning: A column-vector y was passed when a 1d array was expected. Please change the shape of y to (n_samples, ), for example using ravel().\n",
      "  y = column_or_1d(y, warn=True)\n"
     ]
    },
    {
     "name": "stdout",
     "output_type": "stream",
     "text": [
      "Test: 0.7141125541125541 and Train: 0.7061641463696179 and Random state= 20\n"
     ]
    },
    {
     "name": "stderr",
     "output_type": "stream",
     "text": [
      "/home/devvrat/anaconda3/lib/python3.7/site-packages/sklearn/utils/validation.py:724: DataConversionWarning: A column-vector y was passed when a 1d array was expected. Please change the shape of y to (n_samples, ), for example using ravel().\n",
      "  y = column_or_1d(y, warn=True)\n",
      "/home/devvrat/anaconda3/lib/python3.7/site-packages/sklearn/utils/validation.py:724: DataConversionWarning: A column-vector y was passed when a 1d array was expected. Please change the shape of y to (n_samples, ), for example using ravel().\n",
      "  y = column_or_1d(y, warn=True)\n"
     ]
    },
    {
     "name": "stdout",
     "output_type": "stream",
     "text": [
      "Test: 0.7078980278980279 and Train: 0.7068567470853053 and Random state= 21\n"
     ]
    },
    {
     "name": "stderr",
     "output_type": "stream",
     "text": [
      "/home/devvrat/anaconda3/lib/python3.7/site-packages/sklearn/utils/validation.py:724: DataConversionWarning: A column-vector y was passed when a 1d array was expected. Please change the shape of y to (n_samples, ), for example using ravel().\n",
      "  y = column_or_1d(y, warn=True)\n",
      "/home/devvrat/anaconda3/lib/python3.7/site-packages/sklearn/utils/validation.py:724: DataConversionWarning: A column-vector y was passed when a 1d array was expected. Please change the shape of y to (n_samples, ), for example using ravel().\n",
      "  y = column_or_1d(y, warn=True)\n"
     ]
    },
    {
     "name": "stdout",
     "output_type": "stream",
     "text": [
      "Test: 0.7118999518999519 and Train: 0.7118203855477317 and Random state= 22\n"
     ]
    },
    {
     "name": "stderr",
     "output_type": "stream",
     "text": [
      "/home/devvrat/anaconda3/lib/python3.7/site-packages/sklearn/utils/validation.py:724: DataConversionWarning: A column-vector y was passed when a 1d array was expected. Please change the shape of y to (n_samples, ), for example using ravel().\n",
      "  y = column_or_1d(y, warn=True)\n",
      "/home/devvrat/anaconda3/lib/python3.7/site-packages/sklearn/utils/validation.py:724: DataConversionWarning: A column-vector y was passed when a 1d array was expected. Please change the shape of y to (n_samples, ), for example using ravel().\n",
      "  y = column_or_1d(y, warn=True)\n"
     ]
    },
    {
     "name": "stdout",
     "output_type": "stream",
     "text": [
      "Test: 0.7132082732082732 and Train: 0.7077802147062219 and Random state= 23\n"
     ]
    },
    {
     "name": "stderr",
     "output_type": "stream",
     "text": [
      "/home/devvrat/anaconda3/lib/python3.7/site-packages/sklearn/utils/validation.py:724: DataConversionWarning: A column-vector y was passed when a 1d array was expected. Please change the shape of y to (n_samples, ), for example using ravel().\n",
      "  y = column_or_1d(y, warn=True)\n",
      "/home/devvrat/anaconda3/lib/python3.7/site-packages/sklearn/utils/validation.py:724: DataConversionWarning: A column-vector y was passed when a 1d array was expected. Please change the shape of y to (n_samples, ), for example using ravel().\n",
      "  y = column_or_1d(y, warn=True)\n"
     ]
    },
    {
     "name": "stdout",
     "output_type": "stream",
     "text": [
      "Test: 0.7072823472823473 and Train: 0.7067413136326908 and Random state= 24\n"
     ]
    },
    {
     "name": "stderr",
     "output_type": "stream",
     "text": [
      "/home/devvrat/anaconda3/lib/python3.7/site-packages/sklearn/utils/validation.py:724: DataConversionWarning: A column-vector y was passed when a 1d array was expected. Please change the shape of y to (n_samples, ), for example using ravel().\n",
      "  y = column_or_1d(y, warn=True)\n",
      "/home/devvrat/anaconda3/lib/python3.7/site-packages/sklearn/utils/validation.py:724: DataConversionWarning: A column-vector y was passed when a 1d array was expected. Please change the shape of y to (n_samples, ), for example using ravel().\n",
      "  y = column_or_1d(y, warn=True)\n"
     ]
    },
    {
     "name": "stdout",
     "output_type": "stream",
     "text": [
      "Test: 0.7104184704184704 and Train: 0.7046635114856286 and Random state= 25\n"
     ]
    },
    {
     "name": "stderr",
     "output_type": "stream",
     "text": [
      "/home/devvrat/anaconda3/lib/python3.7/site-packages/sklearn/utils/validation.py:724: DataConversionWarning: A column-vector y was passed when a 1d array was expected. Please change the shape of y to (n_samples, ), for example using ravel().\n",
      "  y = column_or_1d(y, warn=True)\n",
      "/home/devvrat/anaconda3/lib/python3.7/site-packages/sklearn/utils/validation.py:724: DataConversionWarning: A column-vector y was passed when a 1d array was expected. Please change the shape of y to (n_samples, ), for example using ravel().\n",
      "  y = column_or_1d(y, warn=True)\n"
     ]
    },
    {
     "name": "stdout",
     "output_type": "stream",
     "text": [
      "Test: 0.7074170274170274 and Train: 0.7076070645273 and Random state= 26\n"
     ]
    },
    {
     "name": "stderr",
     "output_type": "stream",
     "text": [
      "/home/devvrat/anaconda3/lib/python3.7/site-packages/sklearn/utils/validation.py:724: DataConversionWarning: A column-vector y was passed when a 1d array was expected. Please change the shape of y to (n_samples, ), for example using ravel().\n",
      "  y = column_or_1d(y, warn=True)\n",
      "/home/devvrat/anaconda3/lib/python3.7/site-packages/sklearn/utils/validation.py:724: DataConversionWarning: A column-vector y was passed when a 1d array was expected. Please change the shape of y to (n_samples, ), for example using ravel().\n",
      "  y = column_or_1d(y, warn=True)\n"
     ]
    },
    {
     "name": "stdout",
     "output_type": "stream",
     "text": [
      "Test: 0.7114959114959115 and Train: 0.7109546346531225 and Random state= 27\n"
     ]
    },
    {
     "name": "stderr",
     "output_type": "stream",
     "text": [
      "/home/devvrat/anaconda3/lib/python3.7/site-packages/sklearn/utils/validation.py:724: DataConversionWarning: A column-vector y was passed when a 1d array was expected. Please change the shape of y to (n_samples, ), for example using ravel().\n",
      "  y = column_or_1d(y, warn=True)\n",
      "/home/devvrat/anaconda3/lib/python3.7/site-packages/sklearn/utils/validation.py:724: DataConversionWarning: A column-vector y was passed when a 1d array was expected. Please change the shape of y to (n_samples, ), for example using ravel().\n",
      "  y = column_or_1d(y, warn=True)\n"
     ]
    },
    {
     "name": "stdout",
     "output_type": "stream",
     "text": [
      "Test: 0.7095911495911496 and Train: 0.7093962830428258 and Random state= 28\n"
     ]
    },
    {
     "name": "stderr",
     "output_type": "stream",
     "text": [
      "/home/devvrat/anaconda3/lib/python3.7/site-packages/sklearn/utils/validation.py:724: DataConversionWarning: A column-vector y was passed when a 1d array was expected. Please change the shape of y to (n_samples, ), for example using ravel().\n",
      "  y = column_or_1d(y, warn=True)\n",
      "/home/devvrat/anaconda3/lib/python3.7/site-packages/sklearn/utils/validation.py:724: DataConversionWarning: A column-vector y was passed when a 1d array was expected. Please change the shape of y to (n_samples, ), for example using ravel().\n",
      "  y = column_or_1d(y, warn=True)\n"
     ]
    },
    {
     "name": "stdout",
     "output_type": "stream",
     "text": [
      "Test: 0.7095526695526696 and Train: 0.7084728154219093 and Random state= 29\n"
     ]
    }
   ],
   "source": [
    "for i in range(0, 30):\n",
    "    X_train, X_test, y_train, y_test = train_test_split(X, y, test_size= 0.25, random_state= i)\n",
    "    lr = LogisticRegression(C= 0.01, solver= 'liblinear').fit(X_train, y_train)\n",
    "    lr.fit(X_train, y_train)\n",
    "    \n",
    "    train_score = lr.score(X_train, y_train)\n",
    "    test_score = lr.score(X_test, y_test)\n",
    "    print(\"Test: {} and Train: {} and Random state= {}\".format(train_score, test_score, i))"
   ]
  },
  {
   "cell_type": "markdown",
   "metadata": {},
   "source": [
    "### Artificial Neural Network"
   ]
  },
  {
   "cell_type": "code",
   "execution_count": 19,
   "metadata": {},
   "outputs": [
    {
     "name": "stderr",
     "output_type": "stream",
     "text": [
      "Using TensorFlow backend.\n"
     ]
    }
   ],
   "source": [
    "import keras\n",
    "from keras.models import Sequential\n",
    "from keras.layers import Dense"
   ]
  },
  {
   "cell_type": "code",
   "execution_count": 20,
   "metadata": {},
   "outputs": [
    {
     "name": "stdout",
     "output_type": "stream",
     "text": [
      "Epoch 1/150\n",
      "51975/51975 [==============================] - 8s 156us/step - loss: 0.6237 - accuracy: 0.6648\n",
      "Epoch 2/150\n",
      "51975/51975 [==============================] - 9s 169us/step - loss: 0.5839 - accuracy: 0.7070\n",
      "Epoch 3/150\n",
      "51975/51975 [==============================] - 9s 181us/step - loss: 0.5778 - accuracy: 0.7102\n",
      "Epoch 4/150\n",
      "51975/51975 [==============================] - 7s 142us/step - loss: 0.5734 - accuracy: 0.7115\n",
      "Epoch 5/150\n",
      "51975/51975 [==============================] - 9s 171us/step - loss: 0.5683 - accuracy: 0.7151\n",
      "Epoch 6/150\n",
      "51975/51975 [==============================] - 8s 154us/step - loss: 0.5665 - accuracy: 0.7157\n",
      "Epoch 7/150\n",
      "51975/51975 [==============================] - 8s 152us/step - loss: 0.5644 - accuracy: 0.7181\n",
      "Epoch 8/150\n",
      "51975/51975 [==============================] - 8s 149us/step - loss: 0.5624 - accuracy: 0.7182\n",
      "Epoch 9/150\n",
      "51975/51975 [==============================] - 8s 148us/step - loss: 0.5621 - accuracy: 0.7188\n",
      "Epoch 10/150\n",
      "51975/51975 [==============================] - 8s 152us/step - loss: 0.5604 - accuracy: 0.7207\n",
      "Epoch 11/150\n",
      "51975/51975 [==============================] - 8s 153us/step - loss: 0.5601 - accuracy: 0.7213\n",
      "Epoch 12/150\n",
      "51975/51975 [==============================] - 8s 153us/step - loss: 0.5594 - accuracy: 0.7197\n",
      "Epoch 13/150\n",
      "51975/51975 [==============================] - 9s 167us/step - loss: 0.5579 - accuracy: 0.7231\n",
      "Epoch 14/150\n",
      "51975/51975 [==============================] - 8s 162us/step - loss: 0.5577 - accuracy: 0.7230\n",
      "Epoch 15/150\n",
      "51975/51975 [==============================] - 8s 148us/step - loss: 0.5578 - accuracy: 0.7235\n",
      "Epoch 16/150\n",
      "51975/51975 [==============================] - 8s 151us/step - loss: 0.5574 - accuracy: 0.7245\n",
      "Epoch 17/150\n",
      "51975/51975 [==============================] - 8s 149us/step - loss: 0.5569 - accuracy: 0.7239\n",
      "Epoch 18/150\n",
      "51975/51975 [==============================] - 8s 155us/step - loss: 0.5563 - accuracy: 0.7252\n",
      "Epoch 19/150\n",
      "51975/51975 [==============================] - 8s 156us/step - loss: 0.5559 - accuracy: 0.7242\n",
      "Epoch 20/150\n",
      "51975/51975 [==============================] - 8s 156us/step - loss: 0.5559 - accuracy: 0.7253\n",
      "Epoch 21/150\n",
      "51975/51975 [==============================] - 8s 147us/step - loss: 0.5562 - accuracy: 0.7236\n",
      "Epoch 22/150\n",
      "51975/51975 [==============================] - 8s 148us/step - loss: 0.5551 - accuracy: 0.7252\n",
      "Epoch 23/150\n",
      "51975/51975 [==============================] - 8s 149us/step - loss: 0.5559 - accuracy: 0.7240\n",
      "Epoch 24/150\n",
      "51975/51975 [==============================] - 8s 147us/step - loss: 0.5549 - accuracy: 0.7259\n",
      "Epoch 25/150\n",
      "51975/51975 [==============================] - 8s 147us/step - loss: 0.5550 - accuracy: 0.7255\n",
      "Epoch 26/150\n",
      "51975/51975 [==============================] - 8s 148us/step - loss: 0.5549 - accuracy: 0.7249\n",
      "Epoch 27/150\n",
      "51975/51975 [==============================] - 8s 147us/step - loss: 0.5550 - accuracy: 0.7257\n",
      "Epoch 28/150\n",
      "51975/51975 [==============================] - 8s 147us/step - loss: 0.5550 - accuracy: 0.7243\n",
      "Epoch 29/150\n",
      "51975/51975 [==============================] - 8s 148us/step - loss: 0.5544 - accuracy: 0.7265\n",
      "Epoch 30/150\n",
      "51975/51975 [==============================] - 8s 148us/step - loss: 0.5541 - accuracy: 0.7268\n",
      "Epoch 31/150\n",
      "51975/51975 [==============================] - 8s 147us/step - loss: 0.5566 - accuracy: 0.7237\n",
      "Epoch 32/150\n",
      "51975/51975 [==============================] - 8s 148us/step - loss: 0.5576 - accuracy: 0.7241\n",
      "Epoch 33/150\n",
      "51975/51975 [==============================] - 8s 147us/step - loss: 0.5550 - accuracy: 0.7265\n",
      "Epoch 34/150\n",
      "51975/51975 [==============================] - 8s 148us/step - loss: 0.5544 - accuracy: 0.7263\n",
      "Epoch 35/150\n",
      "51975/51975 [==============================] - 8s 148us/step - loss: 0.5539 - accuracy: 0.7264\n",
      "Epoch 36/150\n",
      "51975/51975 [==============================] - 8s 147us/step - loss: 0.5539 - accuracy: 0.7258\n",
      "Epoch 37/150\n",
      "51975/51975 [==============================] - 8s 147us/step - loss: 0.5543 - accuracy: 0.7261\n",
      "Epoch 38/150\n",
      "51975/51975 [==============================] - 8s 149us/step - loss: 0.5532 - accuracy: 0.7278\n",
      "Epoch 39/150\n",
      "51975/51975 [==============================] - 8s 148us/step - loss: 0.5535 - accuracy: 0.7268\n",
      "Epoch 40/150\n",
      "51975/51975 [==============================] - 8s 148us/step - loss: 0.5529 - accuracy: 0.7273\n",
      "Epoch 41/150\n",
      "51975/51975 [==============================] - 8s 150us/step - loss: 0.5537 - accuracy: 0.7257\n",
      "Epoch 42/150\n",
      "51975/51975 [==============================] - 8s 148us/step - loss: 0.5534 - accuracy: 0.7278\n",
      "Epoch 43/150\n",
      "51975/51975 [==============================] - 8s 153us/step - loss: 0.5527 - accuracy: 0.7270\n",
      "Epoch 44/150\n",
      "51975/51975 [==============================] - 9s 171us/step - loss: 0.5536 - accuracy: 0.7262\n",
      "Epoch 45/150\n",
      "51975/51975 [==============================] - 12s 234us/step - loss: 0.5538 - accuracy: 0.7263\n",
      "Epoch 46/150\n",
      "51975/51975 [==============================] - 12s 234us/step - loss: 0.5533 - accuracy: 0.7274\n",
      "Epoch 47/150\n",
      "51975/51975 [==============================] - 13s 245us/step - loss: 0.5527 - accuracy: 0.7257\n",
      "Epoch 48/150\n",
      "51975/51975 [==============================] - 11s 211us/step - loss: 0.5531 - accuracy: 0.7266\n",
      "Epoch 49/150\n",
      "51975/51975 [==============================] - 9s 182us/step - loss: 0.5527 - accuracy: 0.7284\n",
      "Epoch 50/150\n",
      "51975/51975 [==============================] - 9s 173us/step - loss: 0.5534 - accuracy: 0.7262\n",
      "Epoch 51/150\n",
      "51975/51975 [==============================] - 10s 196us/step - loss: 0.5531 - accuracy: 0.7264\n",
      "Epoch 52/150\n",
      "51975/51975 [==============================] - 11s 206us/step - loss: 0.5527 - accuracy: 0.7273\n",
      "Epoch 53/150\n",
      "51975/51975 [==============================] - 7s 141us/step - loss: 0.5523 - accuracy: 0.7282\n",
      "Epoch 54/150\n",
      "51975/51975 [==============================] - 9s 164us/step - loss: 0.5527 - accuracy: 0.7273\n",
      "Epoch 55/150\n",
      "51975/51975 [==============================] - 9s 165us/step - loss: 0.5530 - accuracy: 0.7266\n",
      "Epoch 56/150\n",
      "51975/51975 [==============================] - 8s 151us/step - loss: 0.5528 - accuracy: 0.7282\n",
      "Epoch 57/150\n",
      "51975/51975 [==============================] - 9s 181us/step - loss: 0.5523 - accuracy: 0.7275\n",
      "Epoch 58/150\n",
      "51975/51975 [==============================] - 10s 193us/step - loss: 0.5522 - accuracy: 0.7280\n",
      "Epoch 59/150\n",
      "51975/51975 [==============================] - 10s 187us/step - loss: 0.5526 - accuracy: 0.7267\n",
      "Epoch 60/150\n",
      "51975/51975 [==============================] - 9s 177us/step - loss: 0.5531 - accuracy: 0.7261\n",
      "Epoch 61/150\n",
      "51975/51975 [==============================] - 11s 205us/step - loss: 0.5527 - accuracy: 0.7259\n",
      "Epoch 62/150\n",
      "51975/51975 [==============================] - 10s 192us/step - loss: 0.5532 - accuracy: 0.7259\n",
      "Epoch 63/150\n",
      "51975/51975 [==============================] - 12s 233us/step - loss: 0.5526 - accuracy: 0.7265\n",
      "Epoch 64/150\n",
      "51975/51975 [==============================] - 9s 176us/step - loss: 0.5522 - accuracy: 0.7277\n",
      "Epoch 65/150\n",
      "51975/51975 [==============================] - 9s 180us/step - loss: 0.5526 - accuracy: 0.7268\n",
      "Epoch 66/150\n",
      "51975/51975 [==============================] - 10s 199us/step - loss: 0.5529 - accuracy: 0.7279\n",
      "Epoch 67/150\n",
      "51975/51975 [==============================] - 10s 196us/step - loss: 0.5525 - accuracy: 0.7285\n",
      "Epoch 68/150\n",
      "51975/51975 [==============================] - 11s 203us/step - loss: 0.5524 - accuracy: 0.7271\n",
      "Epoch 69/150\n",
      "51975/51975 [==============================] - 11s 219us/step - loss: 0.5526 - accuracy: 0.7267\n",
      "Epoch 70/150\n",
      "51975/51975 [==============================] - 13s 246us/step - loss: 0.5528 - accuracy: 0.7273\n",
      "Epoch 71/150\n",
      "51975/51975 [==============================] - 13s 258us/step - loss: 0.5523 - accuracy: 0.7254\n",
      "Epoch 72/150\n",
      "51975/51975 [==============================] - 11s 221us/step - loss: 0.5525 - accuracy: 0.7272\n",
      "Epoch 73/150\n",
      "51975/51975 [==============================] - 10s 193us/step - loss: 0.5522 - accuracy: 0.7283\n",
      "Epoch 74/150\n",
      "51975/51975 [==============================] - 10s 185us/step - loss: 0.5530 - accuracy: 0.7272\n",
      "Epoch 75/150\n",
      "51975/51975 [==============================] - 9s 174us/step - loss: 0.5523 - accuracy: 0.7277\n",
      "Epoch 76/150\n"
     ]
    },
    {
     "name": "stdout",
     "output_type": "stream",
     "text": [
      "51975/51975 [==============================] - 8s 161us/step - loss: 0.5521 - accuracy: 0.7270\n",
      "Epoch 77/150\n",
      "51975/51975 [==============================] - 9s 166us/step - loss: 0.5525 - accuracy: 0.7282\n",
      "Epoch 78/150\n",
      "51975/51975 [==============================] - 8s 160us/step - loss: 0.5525 - accuracy: 0.7276\n",
      "Epoch 79/150\n",
      "51975/51975 [==============================] - 8s 154us/step - loss: 0.5526 - accuracy: 0.7266\n",
      "Epoch 80/150\n",
      "51975/51975 [==============================] - 8s 156us/step - loss: 0.5521 - accuracy: 0.7275\n",
      "Epoch 81/150\n",
      "51975/51975 [==============================] - 8s 155us/step - loss: 0.5520 - accuracy: 0.7283\n",
      "Epoch 82/150\n",
      "51975/51975 [==============================] - 8s 159us/step - loss: 0.5518 - accuracy: 0.7272\n",
      "Epoch 83/150\n",
      "51975/51975 [==============================] - 9s 168us/step - loss: 0.5523 - accuracy: 0.7278\n",
      "Epoch 84/150\n",
      "51975/51975 [==============================] - 9s 174us/step - loss: 0.5520 - accuracy: 0.7268\n",
      "Epoch 85/150\n",
      "51975/51975 [==============================] - 9s 179us/step - loss: 0.5523 - accuracy: 0.7286\n",
      "Epoch 86/150\n",
      "51975/51975 [==============================] - 10s 191us/step - loss: 0.5525 - accuracy: 0.7269\n",
      "Epoch 87/150\n",
      "51975/51975 [==============================] - 9s 171us/step - loss: 0.5518 - accuracy: 0.7288\n",
      "Epoch 88/150\n",
      "51975/51975 [==============================] - 9s 168us/step - loss: 0.5518 - accuracy: 0.7275\n",
      "Epoch 89/150\n",
      "51975/51975 [==============================] - 8s 163us/step - loss: 0.5518 - accuracy: 0.7276\n",
      "Epoch 90/150\n",
      "51975/51975 [==============================] - 13s 251us/step - loss: 0.5522 - accuracy: 0.7281\n",
      "Epoch 91/150\n",
      "51975/51975 [==============================] - 10s 187us/step - loss: 0.5521 - accuracy: 0.7279\n",
      "Epoch 92/150\n",
      "51975/51975 [==============================] - 9s 171us/step - loss: 0.5519 - accuracy: 0.7282\n",
      "Epoch 93/150\n",
      "51975/51975 [==============================] - 9s 175us/step - loss: 0.5518 - accuracy: 0.7272\n",
      "Epoch 94/150\n",
      "51975/51975 [==============================] - 9s 166us/step - loss: 0.5523 - accuracy: 0.7264\n",
      "Epoch 95/150\n",
      "51975/51975 [==============================] - 10s 188us/step - loss: 0.5520 - accuracy: 0.7283\n",
      "Epoch 96/150\n",
      "51975/51975 [==============================] - 14s 264us/step - loss: 0.5520 - accuracy: 0.7284\n",
      "Epoch 97/150\n",
      "51975/51975 [==============================] - 14s 268us/step - loss: 0.5516 - accuracy: 0.7279\n",
      "Epoch 98/150\n",
      "51975/51975 [==============================] - 9s 169us/step - loss: 0.5517 - accuracy: 0.7283\n",
      "Epoch 99/150\n",
      "51975/51975 [==============================] - 8s 162us/step - loss: 0.5511 - accuracy: 0.7286\n",
      "Epoch 100/150\n",
      "51975/51975 [==============================] - 9s 164us/step - loss: 0.5515 - accuracy: 0.7275\n",
      "Epoch 101/150\n",
      "51975/51975 [==============================] - 9s 172us/step - loss: 0.5518 - accuracy: 0.7289\n",
      "Epoch 102/150\n",
      "51975/51975 [==============================] - 9s 174us/step - loss: 0.5520 - accuracy: 0.7268\n",
      "Epoch 103/150\n",
      "51975/51975 [==============================] - 11s 218us/step - loss: 0.5517 - accuracy: 0.7283\n",
      "Epoch 104/150\n",
      "51975/51975 [==============================] - 10s 193us/step - loss: 0.5519 - accuracy: 0.7279\n",
      "Epoch 105/150\n",
      "51975/51975 [==============================] - 9s 179us/step - loss: 0.5520 - accuracy: 0.7280\n",
      "Epoch 106/150\n",
      "51975/51975 [==============================] - 9s 180us/step - loss: 0.5518 - accuracy: 0.7281\n",
      "Epoch 107/150\n",
      "51975/51975 [==============================] - 10s 183us/step - loss: 0.5519 - accuracy: 0.7284\n",
      "Epoch 108/150\n",
      "51975/51975 [==============================] - 9s 168us/step - loss: 0.5514 - accuracy: 0.7280\n",
      "Epoch 109/150\n",
      "51975/51975 [==============================] - 9s 168us/step - loss: 0.5519 - accuracy: 0.7271\n",
      "Epoch 110/150\n",
      "51975/51975 [==============================] - 9s 174us/step - loss: 0.5521 - accuracy: 0.7273\n",
      "Epoch 111/150\n",
      "51975/51975 [==============================] - 10s 186us/step - loss: 0.5521 - accuracy: 0.7271\n",
      "Epoch 112/150\n",
      "51975/51975 [==============================] - 9s 168us/step - loss: 0.5517 - accuracy: 0.7284\n",
      "Epoch 113/150\n",
      "51975/51975 [==============================] - 9s 173us/step - loss: 0.5515 - accuracy: 0.7291\n",
      "Epoch 114/150\n",
      "51975/51975 [==============================] - 11s 207us/step - loss: 0.5517 - accuracy: 0.7276\n",
      "Epoch 115/150\n",
      "51975/51975 [==============================] - 9s 170us/step - loss: 0.5519 - accuracy: 0.7291\n",
      "Epoch 116/150\n",
      "51975/51975 [==============================] - 9s 165us/step - loss: 0.5519 - accuracy: 0.7273\n",
      "Epoch 117/150\n",
      "51975/51975 [==============================] - 8s 161us/step - loss: 0.5519 - accuracy: 0.7284\n",
      "Epoch 118/150\n",
      "51975/51975 [==============================] - 8s 162us/step - loss: 0.5511 - accuracy: 0.7289\n",
      "Epoch 119/150\n",
      "51975/51975 [==============================] - 8s 160us/step - loss: 0.5517 - accuracy: 0.7292\n",
      "Epoch 120/150\n",
      "51975/51975 [==============================] - 8s 159us/step - loss: 0.5518 - accuracy: 0.7279\n",
      "Epoch 121/150\n",
      "51975/51975 [==============================] - 8s 162us/step - loss: 0.5517 - accuracy: 0.7270\n",
      "Epoch 122/150\n",
      "51975/51975 [==============================] - 8s 159us/step - loss: 0.5514 - accuracy: 0.7284\n",
      "Epoch 123/150\n",
      "51975/51975 [==============================] - 8s 160us/step - loss: 0.5513 - accuracy: 0.7276\n",
      "Epoch 124/150\n",
      "51975/51975 [==============================] - 8s 161us/step - loss: 0.5511 - accuracy: 0.7282\n",
      "Epoch 125/150\n",
      "51975/51975 [==============================] - 9s 165us/step - loss: 0.5510 - accuracy: 0.7279\n",
      "Epoch 126/150\n",
      "51975/51975 [==============================] - 8s 161us/step - loss: 0.5514 - accuracy: 0.7262\n",
      "Epoch 127/150\n",
      "51975/51975 [==============================] - 9s 164us/step - loss: 0.5517 - accuracy: 0.7273\n",
      "Epoch 128/150\n",
      "51975/51975 [==============================] - 9s 165us/step - loss: 0.5514 - accuracy: 0.7290\n",
      "Epoch 129/150\n",
      "51975/51975 [==============================] - 8s 162us/step - loss: 0.5512 - accuracy: 0.7274\n",
      "Epoch 130/150\n",
      "51975/51975 [==============================] - 8s 160us/step - loss: 0.5510 - accuracy: 0.7287\n",
      "Epoch 131/150\n",
      "51975/51975 [==============================] - 8s 160us/step - loss: 0.5514 - accuracy: 0.7277\n",
      "Epoch 132/150\n",
      "51975/51975 [==============================] - 8s 162us/step - loss: 0.5518 - accuracy: 0.7294\n",
      "Epoch 133/150\n",
      "51975/51975 [==============================] - 8s 159us/step - loss: 0.5511 - accuracy: 0.7295\n",
      "Epoch 134/150\n",
      "51975/51975 [==============================] - 8s 159us/step - loss: 0.5518 - accuracy: 0.7274\n",
      "Epoch 135/150\n",
      "51975/51975 [==============================] - 8s 158us/step - loss: 0.5513 - accuracy: 0.7274\n",
      "Epoch 136/150\n",
      "51975/51975 [==============================] - 8s 160us/step - loss: 0.5515 - accuracy: 0.7285\n",
      "Epoch 137/150\n",
      "51975/51975 [==============================] - 8s 159us/step - loss: 0.5512 - accuracy: 0.7286\n",
      "Epoch 138/150\n",
      "51975/51975 [==============================] - 8s 160us/step - loss: 0.5526 - accuracy: 0.7269\n",
      "Epoch 139/150\n",
      "51975/51975 [==============================] - 9s 166us/step - loss: 0.5517 - accuracy: 0.7280\n",
      "Epoch 140/150\n",
      "51975/51975 [==============================] - 8s 161us/step - loss: 0.5519 - accuracy: 0.7283\n",
      "Epoch 141/150\n",
      "51975/51975 [==============================] - 8s 159us/step - loss: 0.5512 - accuracy: 0.7284\n",
      "Epoch 142/150\n",
      "51975/51975 [==============================] - 8s 160us/step - loss: 0.5522 - accuracy: 0.7269\n",
      "Epoch 143/150\n",
      "51975/51975 [==============================] - 8s 162us/step - loss: 0.5511 - accuracy: 0.7282\n",
      "Epoch 144/150\n",
      "51975/51975 [==============================] - 8s 158us/step - loss: 0.5518 - accuracy: 0.7290\n",
      "Epoch 145/150\n",
      "51975/51975 [==============================] - 8s 161us/step - loss: 0.5519 - accuracy: 0.7276\n",
      "Epoch 146/150\n",
      "51975/51975 [==============================] - 8s 161us/step - loss: 0.5518 - accuracy: 0.7273\n",
      "Epoch 147/150\n",
      "51975/51975 [==============================] - 9s 165us/step - loss: 0.5516 - accuracy: 0.7281\n",
      "Epoch 148/150\n",
      "51975/51975 [==============================] - 8s 160us/step - loss: 0.5512 - accuracy: 0.7289\n",
      "Epoch 149/150\n",
      "51975/51975 [==============================] - 8s 162us/step - loss: 0.5513 - accuracy: 0.7283\n",
      "Epoch 150/150\n",
      "51975/51975 [==============================] - 8s 160us/step - loss: 0.5513 - accuracy: 0.7289\n"
     ]
    },
    {
     "data": {
      "text/plain": [
       "<keras.callbacks.callbacks.History at 0x7efce0cf5160>"
      ]
     },
     "execution_count": 20,
     "metadata": {},
     "output_type": "execute_result"
    }
   ],
   "source": [
    "# Initialize ANN\n",
    "ann_classifier = Sequential()\n",
    "\n",
    "# Add input and first hidden layer\n",
    "ann_classifier.add(Dense(activation= 'relu', input_dim= 11, units= 7, kernel_initializer= 'uniform'))\n",
    "\n",
    "# Add input and second hidden layer\n",
    "ann_classifier.add(Dense(activation= 'relu', units= 7, kernel_initializer= 'uniform'))\n",
    "\n",
    "# Output layer\n",
    "ann_classifier.add(Dense(activation= 'sigmoid', units= 2, kernel_initializer= 'uniform'))\n",
    "\n",
    "# Compile ANN\n",
    "ann_classifier.compile(optimizer= 'adam', loss= 'binary_crossentropy', metrics= ['accuracy'])\n",
    "ann_classifier.add(Dense(activation= 'relu', units= 7, kernel_initializer= 'uniform'))\n",
    "ann_classifier.add(Dense(activation= 'sigmoid', units= 1, kernel_initializer= 'uniform'))\n",
    "ann_classifier.compile(optimizer= 'adam', loss= 'binary_crossentropy', metrics= ['accuracy'])\n",
    "\n",
    "ann_classifier.fit(np.array(X_train), np.array(y_train), batch_size= 10, epochs= 150)"
   ]
  },
  {
   "cell_type": "markdown",
   "metadata": {},
   "source": [
    "### Naive Bayes Classifier"
   ]
  },
  {
   "cell_type": "code",
   "execution_count": 21,
   "metadata": {},
   "outputs": [],
   "source": [
    "from sklearn.naive_bayes import GaussianNB"
   ]
  },
  {
   "cell_type": "code",
   "execution_count": 22,
   "metadata": {},
   "outputs": [
    {
     "name": "stdout",
     "output_type": "stream",
     "text": [
      "Test: 0.5897065897065897, Train: 0.5858247720189311 and Random state: 0\n"
     ]
    },
    {
     "name": "stderr",
     "output_type": "stream",
     "text": [
      "/home/devvrat/anaconda3/lib/python3.7/site-packages/sklearn/utils/validation.py:724: DataConversionWarning: A column-vector y was passed when a 1d array was expected. Please change the shape of y to (n_samples, ), for example using ravel().\n",
      "  y = column_or_1d(y, warn=True)\n",
      "/home/devvrat/anaconda3/lib/python3.7/site-packages/sklearn/utils/validation.py:724: DataConversionWarning: A column-vector y was passed when a 1d array was expected. Please change the shape of y to (n_samples, ), for example using ravel().\n",
      "  y = column_or_1d(y, warn=True)\n",
      "/home/devvrat/anaconda3/lib/python3.7/site-packages/sklearn/utils/validation.py:724: DataConversionWarning: A column-vector y was passed when a 1d array was expected. Please change the shape of y to (n_samples, ), for example using ravel().\n",
      "  y = column_or_1d(y, warn=True)\n",
      "/home/devvrat/anaconda3/lib/python3.7/site-packages/sklearn/utils/validation.py:724: DataConversionWarning: A column-vector y was passed when a 1d array was expected. Please change the shape of y to (n_samples, ), for example using ravel().\n",
      "  y = column_or_1d(y, warn=True)\n"
     ]
    },
    {
     "name": "stdout",
     "output_type": "stream",
     "text": [
      "Test: 0.59001443001443, Train: 0.591711878102274 and Random state: 1\n",
      "Test: 0.6045598845598845, Train: 0.6022163222901997 and Random state: 2\n",
      "Test: 0.5834920634920635, Train: 0.5828812189772596 and Random state: 3\n",
      "Test: 0.5900913900913901, Train: 0.5861710723767748 and Random state: 4\n"
     ]
    },
    {
     "name": "stderr",
     "output_type": "stream",
     "text": [
      "/home/devvrat/anaconda3/lib/python3.7/site-packages/sklearn/utils/validation.py:724: DataConversionWarning: A column-vector y was passed when a 1d array was expected. Please change the shape of y to (n_samples, ), for example using ravel().\n",
      "  y = column_or_1d(y, warn=True)\n",
      "/home/devvrat/anaconda3/lib/python3.7/site-packages/sklearn/utils/validation.py:724: DataConversionWarning: A column-vector y was passed when a 1d array was expected. Please change the shape of y to (n_samples, ), for example using ravel().\n",
      "  y = column_or_1d(y, warn=True)\n",
      "/home/devvrat/anaconda3/lib/python3.7/site-packages/sklearn/utils/validation.py:724: DataConversionWarning: A column-vector y was passed when a 1d array was expected. Please change the shape of y to (n_samples, ), for example using ravel().\n",
      "  y = column_or_1d(y, warn=True)\n",
      "/home/devvrat/anaconda3/lib/python3.7/site-packages/sklearn/utils/validation.py:724: DataConversionWarning: A column-vector y was passed when a 1d array was expected. Please change the shape of y to (n_samples, ), for example using ravel().\n",
      "  y = column_or_1d(y, warn=True)\n"
     ]
    },
    {
     "name": "stdout",
     "output_type": "stream",
     "text": [
      "Test: 0.588936988936989, Train: 0.589056908692139 and Random state: 5\n",
      "Test: 0.6003463203463203, Train: 0.6024471891954288 and Random state: 6\n",
      "Test: 0.5922077922077922, Train: 0.5769941128939167 and Random state: 7\n",
      "Test: 0.589013949013949, Train: 0.586632806187233 and Random state: 8\n"
     ]
    },
    {
     "name": "stderr",
     "output_type": "stream",
     "text": [
      "/home/devvrat/anaconda3/lib/python3.7/site-packages/sklearn/utils/validation.py:724: DataConversionWarning: A column-vector y was passed when a 1d array was expected. Please change the shape of y to (n_samples, ), for example using ravel().\n",
      "  y = column_or_1d(y, warn=True)\n",
      "/home/devvrat/anaconda3/lib/python3.7/site-packages/sklearn/utils/validation.py:724: DataConversionWarning: A column-vector y was passed when a 1d array was expected. Please change the shape of y to (n_samples, ), for example using ravel().\n",
      "  y = column_or_1d(y, warn=True)\n",
      "/home/devvrat/anaconda3/lib/python3.7/site-packages/sklearn/utils/validation.py:724: DataConversionWarning: A column-vector y was passed when a 1d array was expected. Please change the shape of y to (n_samples, ), for example using ravel().\n",
      "  y = column_or_1d(y, warn=True)\n",
      "/home/devvrat/anaconda3/lib/python3.7/site-packages/sklearn/utils/validation.py:724: DataConversionWarning: A column-vector y was passed when a 1d array was expected. Please change the shape of y to (n_samples, ), for example using ravel().\n",
      "  y = column_or_1d(y, warn=True)\n"
     ]
    },
    {
     "name": "stdout",
     "output_type": "stream",
     "text": [
      "Test: 0.5901875901875901, Train: 0.5891146254184463 and Random state: 9\n",
      "Test: 0.6133525733525733, Train: 0.6111624148678287 and Random state: 10\n",
      "Test: 0.5835305435305436, Train: 0.5870945399976913 and Random state: 11\n",
      "Test: 0.5878018278018278, Train: 0.5941936973334873 and Random state: 12\n"
     ]
    },
    {
     "name": "stderr",
     "output_type": "stream",
     "text": [
      "/home/devvrat/anaconda3/lib/python3.7/site-packages/sklearn/utils/validation.py:724: DataConversionWarning: A column-vector y was passed when a 1d array was expected. Please change the shape of y to (n_samples, ), for example using ravel().\n",
      "  y = column_or_1d(y, warn=True)\n",
      "/home/devvrat/anaconda3/lib/python3.7/site-packages/sklearn/utils/validation.py:724: DataConversionWarning: A column-vector y was passed when a 1d array was expected. Please change the shape of y to (n_samples, ), for example using ravel().\n",
      "  y = column_or_1d(y, warn=True)\n",
      "/home/devvrat/anaconda3/lib/python3.7/site-packages/sklearn/utils/validation.py:724: DataConversionWarning: A column-vector y was passed when a 1d array was expected. Please change the shape of y to (n_samples, ), for example using ravel().\n",
      "  y = column_or_1d(y, warn=True)\n",
      "/home/devvrat/anaconda3/lib/python3.7/site-packages/sklearn/utils/validation.py:724: DataConversionWarning: A column-vector y was passed when a 1d array was expected. Please change the shape of y to (n_samples, ), for example using ravel().\n",
      "  y = column_or_1d(y, warn=True)\n"
     ]
    },
    {
     "name": "stdout",
     "output_type": "stream",
     "text": [
      "Test: 0.5931697931697931, Train: 0.5918850282811959 and Random state: 13\n",
      "Test: 0.5912073112073112, Train: 0.5909615606602794 and Random state: 14\n",
      "Test: 0.5877825877825877, Train: 0.5899803763130556 and Random state: 15\n",
      "Test: 0.5856277056277056, Train: 0.5940205471545654 and Random state: 16\n"
     ]
    },
    {
     "name": "stderr",
     "output_type": "stream",
     "text": [
      "/home/devvrat/anaconda3/lib/python3.7/site-packages/sklearn/utils/validation.py:724: DataConversionWarning: A column-vector y was passed when a 1d array was expected. Please change the shape of y to (n_samples, ), for example using ravel().\n",
      "  y = column_or_1d(y, warn=True)\n",
      "/home/devvrat/anaconda3/lib/python3.7/site-packages/sklearn/utils/validation.py:724: DataConversionWarning: A column-vector y was passed when a 1d array was expected. Please change the shape of y to (n_samples, ), for example using ravel().\n",
      "  y = column_or_1d(y, warn=True)\n",
      "/home/devvrat/anaconda3/lib/python3.7/site-packages/sklearn/utils/validation.py:724: DataConversionWarning: A column-vector y was passed when a 1d array was expected. Please change the shape of y to (n_samples, ), for example using ravel().\n",
      "  y = column_or_1d(y, warn=True)\n",
      "/home/devvrat/anaconda3/lib/python3.7/site-packages/sklearn/utils/validation.py:724: DataConversionWarning: A column-vector y was passed when a 1d array was expected. Please change the shape of y to (n_samples, ), for example using ravel().\n",
      "  y = column_or_1d(y, warn=True)\n"
     ]
    },
    {
     "name": "stdout",
     "output_type": "stream",
     "text": [
      "Test: 0.586012506012506, Train: 0.5878448574396861 and Random state: 17\n",
      "Test: 0.5894949494949495, Train: 0.584381853861249 and Random state: 18\n",
      "Test: 0.5911688311688311, Train: 0.5897495094078263 and Random state: 19\n",
      "Test: 0.5895526695526696, Train: 0.583169802608796 and Random state: 20\n"
     ]
    },
    {
     "name": "stderr",
     "output_type": "stream",
     "text": [
      "/home/devvrat/anaconda3/lib/python3.7/site-packages/sklearn/utils/validation.py:724: DataConversionWarning: A column-vector y was passed when a 1d array was expected. Please change the shape of y to (n_samples, ), for example using ravel().\n",
      "  y = column_or_1d(y, warn=True)\n",
      "/home/devvrat/anaconda3/lib/python3.7/site-packages/sklearn/utils/validation.py:724: DataConversionWarning: A column-vector y was passed when a 1d array was expected. Please change the shape of y to (n_samples, ), for example using ravel().\n",
      "  y = column_or_1d(y, warn=True)\n",
      "/home/devvrat/anaconda3/lib/python3.7/site-packages/sklearn/utils/validation.py:724: DataConversionWarning: A column-vector y was passed when a 1d array was expected. Please change the shape of y to (n_samples, ), for example using ravel().\n",
      "  y = column_or_1d(y, warn=True)\n",
      "/home/devvrat/anaconda3/lib/python3.7/site-packages/sklearn/utils/validation.py:724: DataConversionWarning: A column-vector y was passed when a 1d array was expected. Please change the shape of y to (n_samples, ), for example using ravel().\n",
      "  y = column_or_1d(y, warn=True)\n"
     ]
    },
    {
     "name": "stdout",
     "output_type": "stream",
     "text": [
      "Test: 0.5978643578643579, Train: 0.597194967101466 and Random state: 21\n",
      "Test: 0.5833573833573834, Train: 0.581553734272192 and Random state: 22\n",
      "Test: 0.5912842712842713, Train: 0.5798799492092809 and Random state: 23\n",
      "Test: 0.5943819143819143, Train: 0.5856516218400092 and Random state: 24\n"
     ]
    },
    {
     "name": "stderr",
     "output_type": "stream",
     "text": [
      "/home/devvrat/anaconda3/lib/python3.7/site-packages/sklearn/utils/validation.py:724: DataConversionWarning: A column-vector y was passed when a 1d array was expected. Please change the shape of y to (n_samples, ), for example using ravel().\n",
      "  y = column_or_1d(y, warn=True)\n",
      "/home/devvrat/anaconda3/lib/python3.7/site-packages/sklearn/utils/validation.py:724: DataConversionWarning: A column-vector y was passed when a 1d array was expected. Please change the shape of y to (n_samples, ), for example using ravel().\n",
      "  y = column_or_1d(y, warn=True)\n",
      "/home/devvrat/anaconda3/lib/python3.7/site-packages/sklearn/utils/validation.py:724: DataConversionWarning: A column-vector y was passed when a 1d array was expected. Please change the shape of y to (n_samples, ), for example using ravel().\n",
      "  y = column_or_1d(y, warn=True)\n",
      "/home/devvrat/anaconda3/lib/python3.7/site-packages/sklearn/utils/validation.py:724: DataConversionWarning: A column-vector y was passed when a 1d array was expected. Please change the shape of y to (n_samples, ), for example using ravel().\n",
      "  y = column_or_1d(y, warn=True)\n"
     ]
    },
    {
     "name": "stdout",
     "output_type": "stream",
     "text": [
      "Test: 0.6034247234247234, Train: 0.5993882027011428 and Random state: 25\n",
      "Test: 0.5918422318422318, Train: 0.5902112432182847 and Random state: 26\n",
      "Test: 0.5873785473785473, Train: 0.5885374581553734 and Random state: 27\n",
      "Test: 0.591014911014911, Train: 0.5892877755973681 and Random state: 28\n",
      "Test: 0.5998268398268398, Train: 0.5996190696063719 and Random state: 29\n"
     ]
    },
    {
     "name": "stderr",
     "output_type": "stream",
     "text": [
      "/home/devvrat/anaconda3/lib/python3.7/site-packages/sklearn/utils/validation.py:724: DataConversionWarning: A column-vector y was passed when a 1d array was expected. Please change the shape of y to (n_samples, ), for example using ravel().\n",
      "  y = column_or_1d(y, warn=True)\n",
      "/home/devvrat/anaconda3/lib/python3.7/site-packages/sklearn/utils/validation.py:724: DataConversionWarning: A column-vector y was passed when a 1d array was expected. Please change the shape of y to (n_samples, ), for example using ravel().\n",
      "  y = column_or_1d(y, warn=True)\n"
     ]
    }
   ],
   "source": [
    "for i in range(0, 30):\n",
    "    X_train, X_test, y_train, y_test = train_test_split(X, y, random_state= i)\n",
    "    gnb = GaussianNB()\n",
    "    gnb.fit(X_train, y_train)\n",
    "    \n",
    "    train_score = gnb.score(X_train, y_train)\n",
    "    test_score = gnb.score(X_test, y_test)\n",
    "    \n",
    "    print(\"Test: {}, Train: {} and Random state: {}\".format(train_score, test_score, i))"
   ]
  },
  {
   "cell_type": "markdown",
   "metadata": {},
   "source": [
    "### Support Vector Machine"
   ]
  },
  {
   "cell_type": "code",
   "execution_count": null,
   "metadata": {},
   "outputs": [],
   "source": [
    "from sklearn.svm import SVC"
   ]
  },
  {
   "cell_type": "code",
   "execution_count": null,
   "metadata": {},
   "outputs": [],
   "source": [
    "for i in range(0, 30):\n",
    "    X_train, X_test, y_train, y_test = train_test_split(X, y, random_state= i)\n",
    "    svm = SVC(kernel= 'linear', random_state= i)\n",
    "    svm.fit(X_train, y_train)\n",
    "    \n",
    "    train_score = svm.score(X_train, y_train)\n",
    "    test_score = svm.score(X_test, y_test)\n",
    "    \n",
    "    print(\"Test: {}, Train: {} and Random state: {}\".format(train_score, test_score, i))"
   ]
  }
 ],
 "metadata": {
  "kernelspec": {
   "display_name": "Python 3",
   "language": "python",
   "name": "python3"
  },
  "language_info": {
   "codemirror_mode": {
    "name": "ipython",
    "version": 3
   },
   "file_extension": ".py",
   "mimetype": "text/x-python",
   "name": "python",
   "nbconvert_exporter": "python",
   "pygments_lexer": "ipython3",
   "version": "3.7.3"
  }
 },
 "nbformat": 4,
 "nbformat_minor": 2
}
