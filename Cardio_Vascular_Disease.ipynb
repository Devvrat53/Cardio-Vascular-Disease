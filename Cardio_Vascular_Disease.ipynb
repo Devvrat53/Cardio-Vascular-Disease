{
 "cells": [
  {
   "cell_type": "code",
   "execution_count": 1,
   "metadata": {},
   "outputs": [],
   "source": [
    "import pandas as pd\n",
    "import numpy as np\n",
    "import matplotlib.pyplot as plt\n",
    "import seaborn as sns\n",
    "%matplotlib inline"
   ]
  },
  {
   "cell_type": "code",
   "execution_count": 2,
   "metadata": {},
   "outputs": [],
   "source": [
    "df = pd.read_csv(\"Data/cardio_train.csv\")"
   ]
  },
  {
   "cell_type": "code",
   "execution_count": 3,
   "metadata": {},
   "outputs": [
    {
     "data": {
      "text/html": [
       "<div>\n",
       "<style scoped>\n",
       "    .dataframe tbody tr th:only-of-type {\n",
       "        vertical-align: middle;\n",
       "    }\n",
       "\n",
       "    .dataframe tbody tr th {\n",
       "        vertical-align: top;\n",
       "    }\n",
       "\n",
       "    .dataframe thead th {\n",
       "        text-align: right;\n",
       "    }\n",
       "</style>\n",
       "<table border=\"1\" class=\"dataframe\">\n",
       "  <thead>\n",
       "    <tr style=\"text-align: right;\">\n",
       "      <th></th>\n",
       "      <th>id</th>\n",
       "      <th>age</th>\n",
       "      <th>gender</th>\n",
       "      <th>height</th>\n",
       "      <th>weight</th>\n",
       "      <th>ap_hi</th>\n",
       "      <th>ap_lo</th>\n",
       "      <th>cholesterol</th>\n",
       "      <th>gluc</th>\n",
       "      <th>smoke</th>\n",
       "      <th>alco</th>\n",
       "      <th>active</th>\n",
       "      <th>cardio</th>\n",
       "    </tr>\n",
       "  </thead>\n",
       "  <tbody>\n",
       "    <tr>\n",
       "      <th>0</th>\n",
       "      <td>988</td>\n",
       "      <td>22469</td>\n",
       "      <td>1</td>\n",
       "      <td>155</td>\n",
       "      <td>69.0</td>\n",
       "      <td>130</td>\n",
       "      <td>80</td>\n",
       "      <td>2</td>\n",
       "      <td>2</td>\n",
       "      <td>0</td>\n",
       "      <td>0</td>\n",
       "      <td>1</td>\n",
       "      <td>0</td>\n",
       "    </tr>\n",
       "    <tr>\n",
       "      <th>1</th>\n",
       "      <td>989</td>\n",
       "      <td>14648</td>\n",
       "      <td>1</td>\n",
       "      <td>163</td>\n",
       "      <td>71.0</td>\n",
       "      <td>110</td>\n",
       "      <td>70</td>\n",
       "      <td>1</td>\n",
       "      <td>1</td>\n",
       "      <td>0</td>\n",
       "      <td>0</td>\n",
       "      <td>1</td>\n",
       "      <td>1</td>\n",
       "    </tr>\n",
       "    <tr>\n",
       "      <th>2</th>\n",
       "      <td>990</td>\n",
       "      <td>21901</td>\n",
       "      <td>1</td>\n",
       "      <td>165</td>\n",
       "      <td>70.0</td>\n",
       "      <td>120</td>\n",
       "      <td>80</td>\n",
       "      <td>1</td>\n",
       "      <td>1</td>\n",
       "      <td>0</td>\n",
       "      <td>0</td>\n",
       "      <td>1</td>\n",
       "      <td>0</td>\n",
       "    </tr>\n",
       "    <tr>\n",
       "      <th>3</th>\n",
       "      <td>991</td>\n",
       "      <td>14549</td>\n",
       "      <td>2</td>\n",
       "      <td>165</td>\n",
       "      <td>85.0</td>\n",
       "      <td>120</td>\n",
       "      <td>80</td>\n",
       "      <td>1</td>\n",
       "      <td>1</td>\n",
       "      <td>1</td>\n",
       "      <td>1</td>\n",
       "      <td>1</td>\n",
       "      <td>0</td>\n",
       "    </tr>\n",
       "    <tr>\n",
       "      <th>4</th>\n",
       "      <td>992</td>\n",
       "      <td>23393</td>\n",
       "      <td>1</td>\n",
       "      <td>155</td>\n",
       "      <td>62.0</td>\n",
       "      <td>120</td>\n",
       "      <td>80</td>\n",
       "      <td>1</td>\n",
       "      <td>1</td>\n",
       "      <td>0</td>\n",
       "      <td>0</td>\n",
       "      <td>1</td>\n",
       "      <td>0</td>\n",
       "    </tr>\n",
       "  </tbody>\n",
       "</table>\n",
       "</div>"
      ],
      "text/plain": [
       "    id    age  gender  height  weight  ap_hi  ap_lo  cholesterol  gluc  smoke  \\\n",
       "0  988  22469       1     155    69.0    130     80            2     2      0   \n",
       "1  989  14648       1     163    71.0    110     70            1     1      0   \n",
       "2  990  21901       1     165    70.0    120     80            1     1      0   \n",
       "3  991  14549       2     165    85.0    120     80            1     1      1   \n",
       "4  992  23393       1     155    62.0    120     80            1     1      0   \n",
       "\n",
       "   alco  active  cardio  \n",
       "0     0       1       0  \n",
       "1     0       1       1  \n",
       "2     0       1       0  \n",
       "3     1       1       0  \n",
       "4     0       1       0  "
      ]
     },
     "execution_count": 3,
     "metadata": {},
     "output_type": "execute_result"
    }
   ],
   "source": [
    "df.head()"
   ]
  },
  {
   "cell_type": "markdown",
   "metadata": {},
   "source": [
    "The Dataset contains several fields which leads to the __Presence or absence of cardiovascular disease__ within a patient.\n",
    "\n",
    "1. __Age__ | Objective Feature | __age__ | int (days) |\n",
    "2. __Height__ | Objective Feature | __height__ | int (cm) |\n",
    "3. __Weight__ | Objective Feature | __weight__ | float (kg) |\n",
    "4. __Gender__ | Objective Feature | __gender__ | categorical code |\n",
    "5. __Systolic blood pressure__ | Examination Feature | __ap_hi__ | int |\n",
    "6. __Diastolic blood pressure__ | Examination Feature | __ap_lo__ | int |\n",
    "7. __Cholesterol__ | Examination Feature | __cholesterol__ | 1: normal, 2: above normal, 3: well above normal |\n",
    "8. __Glucose__ | Examination Feature | __gluc__ | 1: normal, 2: above normal, 3: well above normal |\n",
    "9. __Smoking__ | Subjective Feature | __smoke__ | binary |\n",
    "10. __Alcohol intake__ | Subjective Feature | __alco__ | binary |\n",
    "11. __Physical activity__ | Subjective Feature | __active__ | binary |\n",
    "12. __Presence or absence of cardiovascular disease__ | Target Variable | __cardio__ | binary |"
   ]
  },
  {
   "cell_type": "markdown",
   "metadata": {},
   "source": [
    "## Exploratory Data Analysis (EDA)"
   ]
  },
  {
   "cell_type": "code",
   "execution_count": 4,
   "metadata": {},
   "outputs": [
    {
     "data": {
      "text/plain": [
       "id             False\n",
       "age            False\n",
       "gender         False\n",
       "height         False\n",
       "weight         False\n",
       "ap_hi          False\n",
       "ap_lo          False\n",
       "cholesterol    False\n",
       "gluc           False\n",
       "smoke          False\n",
       "alco           False\n",
       "active         False\n",
       "cardio         False\n",
       "dtype: bool"
      ]
     },
     "execution_count": 4,
     "metadata": {},
     "output_type": "execute_result"
    }
   ],
   "source": [
    "# checking for null values\n",
    "df.isnull().any()"
   ]
  },
  {
   "cell_type": "code",
   "execution_count": 5,
   "metadata": {},
   "outputs": [
    {
     "data": {
      "text/plain": [
       "id               int64\n",
       "age              int64\n",
       "gender           int64\n",
       "height           int64\n",
       "weight         float64\n",
       "ap_hi            int64\n",
       "ap_lo            int64\n",
       "cholesterol      int64\n",
       "gluc             int64\n",
       "smoke            int64\n",
       "alco             int64\n",
       "active           int64\n",
       "cardio           int64\n",
       "dtype: object"
      ]
     },
     "execution_count": 5,
     "metadata": {},
     "output_type": "execute_result"
    }
   ],
   "source": [
    "# Checking the datatypes\n",
    "df.dtypes"
   ]
  },
  {
   "cell_type": "code",
   "execution_count": 6,
   "metadata": {},
   "outputs": [],
   "source": [
    "#changing the datatype of weight column\n",
    "df['weight'] = df['weight'].astype(int)"
   ]
  },
  {
   "cell_type": "code",
   "execution_count": 7,
   "metadata": {},
   "outputs": [
    {
     "data": {
      "text/html": [
       "<div>\n",
       "<style scoped>\n",
       "    .dataframe tbody tr th:only-of-type {\n",
       "        vertical-align: middle;\n",
       "    }\n",
       "\n",
       "    .dataframe tbody tr th {\n",
       "        vertical-align: top;\n",
       "    }\n",
       "\n",
       "    .dataframe thead th {\n",
       "        text-align: right;\n",
       "    }\n",
       "</style>\n",
       "<table border=\"1\" class=\"dataframe\">\n",
       "  <thead>\n",
       "    <tr style=\"text-align: right;\">\n",
       "      <th></th>\n",
       "      <th>id</th>\n",
       "      <th>age</th>\n",
       "      <th>gender</th>\n",
       "      <th>height</th>\n",
       "      <th>weight</th>\n",
       "      <th>ap_hi</th>\n",
       "      <th>ap_lo</th>\n",
       "      <th>cholesterol</th>\n",
       "      <th>gluc</th>\n",
       "      <th>smoke</th>\n",
       "      <th>alco</th>\n",
       "      <th>active</th>\n",
       "      <th>cardio</th>\n",
       "    </tr>\n",
       "  </thead>\n",
       "  <tbody>\n",
       "    <tr>\n",
       "      <th>0</th>\n",
       "      <td>988</td>\n",
       "      <td>22469</td>\n",
       "      <td>1</td>\n",
       "      <td>155</td>\n",
       "      <td>69</td>\n",
       "      <td>130</td>\n",
       "      <td>80</td>\n",
       "      <td>2</td>\n",
       "      <td>2</td>\n",
       "      <td>0</td>\n",
       "      <td>0</td>\n",
       "      <td>1</td>\n",
       "      <td>0</td>\n",
       "    </tr>\n",
       "    <tr>\n",
       "      <th>1</th>\n",
       "      <td>989</td>\n",
       "      <td>14648</td>\n",
       "      <td>1</td>\n",
       "      <td>163</td>\n",
       "      <td>71</td>\n",
       "      <td>110</td>\n",
       "      <td>70</td>\n",
       "      <td>1</td>\n",
       "      <td>1</td>\n",
       "      <td>0</td>\n",
       "      <td>0</td>\n",
       "      <td>1</td>\n",
       "      <td>1</td>\n",
       "    </tr>\n",
       "    <tr>\n",
       "      <th>2</th>\n",
       "      <td>990</td>\n",
       "      <td>21901</td>\n",
       "      <td>1</td>\n",
       "      <td>165</td>\n",
       "      <td>70</td>\n",
       "      <td>120</td>\n",
       "      <td>80</td>\n",
       "      <td>1</td>\n",
       "      <td>1</td>\n",
       "      <td>0</td>\n",
       "      <td>0</td>\n",
       "      <td>1</td>\n",
       "      <td>0</td>\n",
       "    </tr>\n",
       "    <tr>\n",
       "      <th>3</th>\n",
       "      <td>991</td>\n",
       "      <td>14549</td>\n",
       "      <td>2</td>\n",
       "      <td>165</td>\n",
       "      <td>85</td>\n",
       "      <td>120</td>\n",
       "      <td>80</td>\n",
       "      <td>1</td>\n",
       "      <td>1</td>\n",
       "      <td>1</td>\n",
       "      <td>1</td>\n",
       "      <td>1</td>\n",
       "      <td>0</td>\n",
       "    </tr>\n",
       "    <tr>\n",
       "      <th>4</th>\n",
       "      <td>992</td>\n",
       "      <td>23393</td>\n",
       "      <td>1</td>\n",
       "      <td>155</td>\n",
       "      <td>62</td>\n",
       "      <td>120</td>\n",
       "      <td>80</td>\n",
       "      <td>1</td>\n",
       "      <td>1</td>\n",
       "      <td>0</td>\n",
       "      <td>0</td>\n",
       "      <td>1</td>\n",
       "      <td>0</td>\n",
       "    </tr>\n",
       "    <tr>\n",
       "      <th>5</th>\n",
       "      <td>995</td>\n",
       "      <td>21143</td>\n",
       "      <td>1</td>\n",
       "      <td>164</td>\n",
       "      <td>61</td>\n",
       "      <td>100</td>\n",
       "      <td>70</td>\n",
       "      <td>1</td>\n",
       "      <td>1</td>\n",
       "      <td>0</td>\n",
       "      <td>0</td>\n",
       "      <td>1</td>\n",
       "      <td>0</td>\n",
       "    </tr>\n",
       "    <tr>\n",
       "      <th>6</th>\n",
       "      <td>996</td>\n",
       "      <td>18085</td>\n",
       "      <td>1</td>\n",
       "      <td>162</td>\n",
       "      <td>72</td>\n",
       "      <td>100</td>\n",
       "      <td>70</td>\n",
       "      <td>1</td>\n",
       "      <td>1</td>\n",
       "      <td>0</td>\n",
       "      <td>0</td>\n",
       "      <td>1</td>\n",
       "      <td>0</td>\n",
       "    </tr>\n",
       "    <tr>\n",
       "      <th>7</th>\n",
       "      <td>997</td>\n",
       "      <td>22547</td>\n",
       "      <td>1</td>\n",
       "      <td>161</td>\n",
       "      <td>93</td>\n",
       "      <td>140</td>\n",
       "      <td>90</td>\n",
       "      <td>2</td>\n",
       "      <td>1</td>\n",
       "      <td>0</td>\n",
       "      <td>0</td>\n",
       "      <td>1</td>\n",
       "      <td>1</td>\n",
       "    </tr>\n",
       "    <tr>\n",
       "      <th>8</th>\n",
       "      <td>999</td>\n",
       "      <td>21250</td>\n",
       "      <td>1</td>\n",
       "      <td>157</td>\n",
       "      <td>68</td>\n",
       "      <td>110</td>\n",
       "      <td>80</td>\n",
       "      <td>1</td>\n",
       "      <td>1</td>\n",
       "      <td>0</td>\n",
       "      <td>0</td>\n",
       "      <td>1</td>\n",
       "      <td>0</td>\n",
       "    </tr>\n",
       "    <tr>\n",
       "      <th>9</th>\n",
       "      <td>1000</td>\n",
       "      <td>22446</td>\n",
       "      <td>1</td>\n",
       "      <td>158</td>\n",
       "      <td>65</td>\n",
       "      <td>140</td>\n",
       "      <td>90</td>\n",
       "      <td>3</td>\n",
       "      <td>1</td>\n",
       "      <td>0</td>\n",
       "      <td>0</td>\n",
       "      <td>1</td>\n",
       "      <td>1</td>\n",
       "    </tr>\n",
       "    <tr>\n",
       "      <th>10</th>\n",
       "      <td>1001</td>\n",
       "      <td>16621</td>\n",
       "      <td>1</td>\n",
       "      <td>153</td>\n",
       "      <td>57</td>\n",
       "      <td>120</td>\n",
       "      <td>80</td>\n",
       "      <td>3</td>\n",
       "      <td>2</td>\n",
       "      <td>0</td>\n",
       "      <td>0</td>\n",
       "      <td>1</td>\n",
       "      <td>1</td>\n",
       "    </tr>\n",
       "    <tr>\n",
       "      <th>11</th>\n",
       "      <td>1002</td>\n",
       "      <td>20442</td>\n",
       "      <td>2</td>\n",
       "      <td>169</td>\n",
       "      <td>82</td>\n",
       "      <td>130</td>\n",
       "      <td>90</td>\n",
       "      <td>1</td>\n",
       "      <td>1</td>\n",
       "      <td>0</td>\n",
       "      <td>0</td>\n",
       "      <td>1</td>\n",
       "      <td>1</td>\n",
       "    </tr>\n",
       "    <tr>\n",
       "      <th>12</th>\n",
       "      <td>1003</td>\n",
       "      <td>23168</td>\n",
       "      <td>2</td>\n",
       "      <td>150</td>\n",
       "      <td>56</td>\n",
       "      <td>130</td>\n",
       "      <td>80</td>\n",
       "      <td>2</td>\n",
       "      <td>1</td>\n",
       "      <td>0</td>\n",
       "      <td>0</td>\n",
       "      <td>1</td>\n",
       "      <td>1</td>\n",
       "    </tr>\n",
       "    <tr>\n",
       "      <th>13</th>\n",
       "      <td>1004</td>\n",
       "      <td>22598</td>\n",
       "      <td>1</td>\n",
       "      <td>176</td>\n",
       "      <td>72</td>\n",
       "      <td>130</td>\n",
       "      <td>90</td>\n",
       "      <td>1</td>\n",
       "      <td>3</td>\n",
       "      <td>0</td>\n",
       "      <td>0</td>\n",
       "      <td>1</td>\n",
       "      <td>1</td>\n",
       "    </tr>\n",
       "    <tr>\n",
       "      <th>14</th>\n",
       "      <td>1006</td>\n",
       "      <td>20317</td>\n",
       "      <td>1</td>\n",
       "      <td>154</td>\n",
       "      <td>85</td>\n",
       "      <td>160</td>\n",
       "      <td>100</td>\n",
       "      <td>3</td>\n",
       "      <td>1</td>\n",
       "      <td>0</td>\n",
       "      <td>0</td>\n",
       "      <td>1</td>\n",
       "      <td>1</td>\n",
       "    </tr>\n",
       "  </tbody>\n",
       "</table>\n",
       "</div>"
      ],
      "text/plain": [
       "      id    age  gender  height  weight  ap_hi  ap_lo  cholesterol  gluc  \\\n",
       "0    988  22469       1     155      69    130     80            2     2   \n",
       "1    989  14648       1     163      71    110     70            1     1   \n",
       "2    990  21901       1     165      70    120     80            1     1   \n",
       "3    991  14549       2     165      85    120     80            1     1   \n",
       "4    992  23393       1     155      62    120     80            1     1   \n",
       "5    995  21143       1     164      61    100     70            1     1   \n",
       "6    996  18085       1     162      72    100     70            1     1   \n",
       "7    997  22547       1     161      93    140     90            2     1   \n",
       "8    999  21250       1     157      68    110     80            1     1   \n",
       "9   1000  22446       1     158      65    140     90            3     1   \n",
       "10  1001  16621       1     153      57    120     80            3     2   \n",
       "11  1002  20442       2     169      82    130     90            1     1   \n",
       "12  1003  23168       2     150      56    130     80            2     1   \n",
       "13  1004  22598       1     176      72    130     90            1     3   \n",
       "14  1006  20317       1     154      85    160    100            3     1   \n",
       "\n",
       "    smoke  alco  active  cardio  \n",
       "0       0     0       1       0  \n",
       "1       0     0       1       1  \n",
       "2       0     0       1       0  \n",
       "3       1     1       1       0  \n",
       "4       0     0       1       0  \n",
       "5       0     0       1       0  \n",
       "6       0     0       1       0  \n",
       "7       0     0       1       1  \n",
       "8       0     0       1       0  \n",
       "9       0     0       1       1  \n",
       "10      0     0       1       1  \n",
       "11      0     0       1       1  \n",
       "12      0     0       1       1  \n",
       "13      0     0       1       1  \n",
       "14      0     0       1       1  "
      ]
     },
     "execution_count": 7,
     "metadata": {},
     "output_type": "execute_result"
    }
   ],
   "source": [
    "df.head(15)"
   ]
  },
  {
   "cell_type": "code",
   "execution_count": 8,
   "metadata": {},
   "outputs": [
    {
     "data": {
      "text/html": [
       "<div>\n",
       "<style scoped>\n",
       "    .dataframe tbody tr th:only-of-type {\n",
       "        vertical-align: middle;\n",
       "    }\n",
       "\n",
       "    .dataframe tbody tr th {\n",
       "        vertical-align: top;\n",
       "    }\n",
       "\n",
       "    .dataframe thead th {\n",
       "        text-align: right;\n",
       "    }\n",
       "</style>\n",
       "<table border=\"1\" class=\"dataframe\">\n",
       "  <thead>\n",
       "    <tr style=\"text-align: right;\">\n",
       "      <th></th>\n",
       "      <th>id</th>\n",
       "      <th>age</th>\n",
       "      <th>gender</th>\n",
       "      <th>height</th>\n",
       "      <th>weight</th>\n",
       "      <th>ap_hi</th>\n",
       "      <th>ap_lo</th>\n",
       "      <th>cholesterol</th>\n",
       "      <th>gluc</th>\n",
       "      <th>smoke</th>\n",
       "      <th>alco</th>\n",
       "      <th>active</th>\n",
       "      <th>cardio</th>\n",
       "    </tr>\n",
       "  </thead>\n",
       "  <tbody>\n",
       "    <tr>\n",
       "      <th>0</th>\n",
       "      <td>988</td>\n",
       "      <td>61</td>\n",
       "      <td>1</td>\n",
       "      <td>155</td>\n",
       "      <td>69</td>\n",
       "      <td>130</td>\n",
       "      <td>80</td>\n",
       "      <td>2</td>\n",
       "      <td>2</td>\n",
       "      <td>0</td>\n",
       "      <td>0</td>\n",
       "      <td>1</td>\n",
       "      <td>0</td>\n",
       "    </tr>\n",
       "    <tr>\n",
       "      <th>1</th>\n",
       "      <td>989</td>\n",
       "      <td>40</td>\n",
       "      <td>1</td>\n",
       "      <td>163</td>\n",
       "      <td>71</td>\n",
       "      <td>110</td>\n",
       "      <td>70</td>\n",
       "      <td>1</td>\n",
       "      <td>1</td>\n",
       "      <td>0</td>\n",
       "      <td>0</td>\n",
       "      <td>1</td>\n",
       "      <td>1</td>\n",
       "    </tr>\n",
       "    <tr>\n",
       "      <th>2</th>\n",
       "      <td>990</td>\n",
       "      <td>60</td>\n",
       "      <td>1</td>\n",
       "      <td>165</td>\n",
       "      <td>70</td>\n",
       "      <td>120</td>\n",
       "      <td>80</td>\n",
       "      <td>1</td>\n",
       "      <td>1</td>\n",
       "      <td>0</td>\n",
       "      <td>0</td>\n",
       "      <td>1</td>\n",
       "      <td>0</td>\n",
       "    </tr>\n",
       "    <tr>\n",
       "      <th>3</th>\n",
       "      <td>991</td>\n",
       "      <td>39</td>\n",
       "      <td>2</td>\n",
       "      <td>165</td>\n",
       "      <td>85</td>\n",
       "      <td>120</td>\n",
       "      <td>80</td>\n",
       "      <td>1</td>\n",
       "      <td>1</td>\n",
       "      <td>1</td>\n",
       "      <td>1</td>\n",
       "      <td>1</td>\n",
       "      <td>0</td>\n",
       "    </tr>\n",
       "    <tr>\n",
       "      <th>4</th>\n",
       "      <td>992</td>\n",
       "      <td>64</td>\n",
       "      <td>1</td>\n",
       "      <td>155</td>\n",
       "      <td>62</td>\n",
       "      <td>120</td>\n",
       "      <td>80</td>\n",
       "      <td>1</td>\n",
       "      <td>1</td>\n",
       "      <td>0</td>\n",
       "      <td>0</td>\n",
       "      <td>1</td>\n",
       "      <td>0</td>\n",
       "    </tr>\n",
       "    <tr>\n",
       "      <th>5</th>\n",
       "      <td>995</td>\n",
       "      <td>57</td>\n",
       "      <td>1</td>\n",
       "      <td>164</td>\n",
       "      <td>61</td>\n",
       "      <td>100</td>\n",
       "      <td>70</td>\n",
       "      <td>1</td>\n",
       "      <td>1</td>\n",
       "      <td>0</td>\n",
       "      <td>0</td>\n",
       "      <td>1</td>\n",
       "      <td>0</td>\n",
       "    </tr>\n",
       "    <tr>\n",
       "      <th>6</th>\n",
       "      <td>996</td>\n",
       "      <td>49</td>\n",
       "      <td>1</td>\n",
       "      <td>162</td>\n",
       "      <td>72</td>\n",
       "      <td>100</td>\n",
       "      <td>70</td>\n",
       "      <td>1</td>\n",
       "      <td>1</td>\n",
       "      <td>0</td>\n",
       "      <td>0</td>\n",
       "      <td>1</td>\n",
       "      <td>0</td>\n",
       "    </tr>\n",
       "    <tr>\n",
       "      <th>7</th>\n",
       "      <td>997</td>\n",
       "      <td>61</td>\n",
       "      <td>1</td>\n",
       "      <td>161</td>\n",
       "      <td>93</td>\n",
       "      <td>140</td>\n",
       "      <td>90</td>\n",
       "      <td>2</td>\n",
       "      <td>1</td>\n",
       "      <td>0</td>\n",
       "      <td>0</td>\n",
       "      <td>1</td>\n",
       "      <td>1</td>\n",
       "    </tr>\n",
       "    <tr>\n",
       "      <th>8</th>\n",
       "      <td>999</td>\n",
       "      <td>58</td>\n",
       "      <td>1</td>\n",
       "      <td>157</td>\n",
       "      <td>68</td>\n",
       "      <td>110</td>\n",
       "      <td>80</td>\n",
       "      <td>1</td>\n",
       "      <td>1</td>\n",
       "      <td>0</td>\n",
       "      <td>0</td>\n",
       "      <td>1</td>\n",
       "      <td>0</td>\n",
       "    </tr>\n",
       "    <tr>\n",
       "      <th>9</th>\n",
       "      <td>1000</td>\n",
       "      <td>61</td>\n",
       "      <td>1</td>\n",
       "      <td>158</td>\n",
       "      <td>65</td>\n",
       "      <td>140</td>\n",
       "      <td>90</td>\n",
       "      <td>3</td>\n",
       "      <td>1</td>\n",
       "      <td>0</td>\n",
       "      <td>0</td>\n",
       "      <td>1</td>\n",
       "      <td>1</td>\n",
       "    </tr>\n",
       "    <tr>\n",
       "      <th>10</th>\n",
       "      <td>1001</td>\n",
       "      <td>45</td>\n",
       "      <td>1</td>\n",
       "      <td>153</td>\n",
       "      <td>57</td>\n",
       "      <td>120</td>\n",
       "      <td>80</td>\n",
       "      <td>3</td>\n",
       "      <td>2</td>\n",
       "      <td>0</td>\n",
       "      <td>0</td>\n",
       "      <td>1</td>\n",
       "      <td>1</td>\n",
       "    </tr>\n",
       "    <tr>\n",
       "      <th>11</th>\n",
       "      <td>1002</td>\n",
       "      <td>56</td>\n",
       "      <td>2</td>\n",
       "      <td>169</td>\n",
       "      <td>82</td>\n",
       "      <td>130</td>\n",
       "      <td>90</td>\n",
       "      <td>1</td>\n",
       "      <td>1</td>\n",
       "      <td>0</td>\n",
       "      <td>0</td>\n",
       "      <td>1</td>\n",
       "      <td>1</td>\n",
       "    </tr>\n",
       "    <tr>\n",
       "      <th>12</th>\n",
       "      <td>1003</td>\n",
       "      <td>63</td>\n",
       "      <td>2</td>\n",
       "      <td>150</td>\n",
       "      <td>56</td>\n",
       "      <td>130</td>\n",
       "      <td>80</td>\n",
       "      <td>2</td>\n",
       "      <td>1</td>\n",
       "      <td>0</td>\n",
       "      <td>0</td>\n",
       "      <td>1</td>\n",
       "      <td>1</td>\n",
       "    </tr>\n",
       "    <tr>\n",
       "      <th>13</th>\n",
       "      <td>1004</td>\n",
       "      <td>61</td>\n",
       "      <td>1</td>\n",
       "      <td>176</td>\n",
       "      <td>72</td>\n",
       "      <td>130</td>\n",
       "      <td>90</td>\n",
       "      <td>1</td>\n",
       "      <td>3</td>\n",
       "      <td>0</td>\n",
       "      <td>0</td>\n",
       "      <td>1</td>\n",
       "      <td>1</td>\n",
       "    </tr>\n",
       "    <tr>\n",
       "      <th>14</th>\n",
       "      <td>1006</td>\n",
       "      <td>55</td>\n",
       "      <td>1</td>\n",
       "      <td>154</td>\n",
       "      <td>85</td>\n",
       "      <td>160</td>\n",
       "      <td>100</td>\n",
       "      <td>3</td>\n",
       "      <td>1</td>\n",
       "      <td>0</td>\n",
       "      <td>0</td>\n",
       "      <td>1</td>\n",
       "      <td>1</td>\n",
       "    </tr>\n",
       "  </tbody>\n",
       "</table>\n",
       "</div>"
      ],
      "text/plain": [
       "      id  age  gender  height  weight  ap_hi  ap_lo  cholesterol  gluc  smoke  \\\n",
       "0    988   61       1     155      69    130     80            2     2      0   \n",
       "1    989   40       1     163      71    110     70            1     1      0   \n",
       "2    990   60       1     165      70    120     80            1     1      0   \n",
       "3    991   39       2     165      85    120     80            1     1      1   \n",
       "4    992   64       1     155      62    120     80            1     1      0   \n",
       "5    995   57       1     164      61    100     70            1     1      0   \n",
       "6    996   49       1     162      72    100     70            1     1      0   \n",
       "7    997   61       1     161      93    140     90            2     1      0   \n",
       "8    999   58       1     157      68    110     80            1     1      0   \n",
       "9   1000   61       1     158      65    140     90            3     1      0   \n",
       "10  1001   45       1     153      57    120     80            3     2      0   \n",
       "11  1002   56       2     169      82    130     90            1     1      0   \n",
       "12  1003   63       2     150      56    130     80            2     1      0   \n",
       "13  1004   61       1     176      72    130     90            1     3      0   \n",
       "14  1006   55       1     154      85    160    100            3     1      0   \n",
       "\n",
       "    alco  active  cardio  \n",
       "0      0       1       0  \n",
       "1      0       1       1  \n",
       "2      0       1       0  \n",
       "3      1       1       0  \n",
       "4      0       1       0  \n",
       "5      0       1       0  \n",
       "6      0       1       0  \n",
       "7      0       1       1  \n",
       "8      0       1       0  \n",
       "9      0       1       1  \n",
       "10     0       1       1  \n",
       "11     0       1       1  \n",
       "12     0       1       1  \n",
       "13     0       1       1  \n",
       "14     0       1       1  "
      ]
     },
     "execution_count": 8,
     "metadata": {},
     "output_type": "execute_result"
    }
   ],
   "source": [
    "# Converting days into years in 'age' parameter\n",
    "df['age'] = df['age']/365\n",
    "df['age'] = df['age'].astype(int)\n",
    "df.head(15)"
   ]
  },
  {
   "cell_type": "code",
   "execution_count": 9,
   "metadata": {},
   "outputs": [
    {
     "data": {
      "text/plain": [
       "id             int64\n",
       "age            int64\n",
       "gender         int64\n",
       "height         int64\n",
       "weight         int64\n",
       "ap_hi          int64\n",
       "ap_lo          int64\n",
       "cholesterol    int64\n",
       "gluc           int64\n",
       "smoke          int64\n",
       "alco           int64\n",
       "active         int64\n",
       "cardio         int64\n",
       "dtype: object"
      ]
     },
     "execution_count": 9,
     "metadata": {},
     "output_type": "execute_result"
    }
   ],
   "source": [
    "df.dtypes"
   ]
  },
  {
   "cell_type": "code",
   "execution_count": 10,
   "metadata": {},
   "outputs": [
    {
     "data": {
      "text/html": [
       "<div>\n",
       "<style scoped>\n",
       "    .dataframe tbody tr th:only-of-type {\n",
       "        vertical-align: middle;\n",
       "    }\n",
       "\n",
       "    .dataframe tbody tr th {\n",
       "        vertical-align: top;\n",
       "    }\n",
       "\n",
       "    .dataframe thead th {\n",
       "        text-align: right;\n",
       "    }\n",
       "</style>\n",
       "<table border=\"1\" class=\"dataframe\">\n",
       "  <thead>\n",
       "    <tr style=\"text-align: right;\">\n",
       "      <th></th>\n",
       "      <th>gender</th>\n",
       "    </tr>\n",
       "  </thead>\n",
       "  <tbody>\n",
       "    <tr>\n",
       "      <th>1</th>\n",
       "      <td>45079</td>\n",
       "    </tr>\n",
       "    <tr>\n",
       "      <th>2</th>\n",
       "      <td>24222</td>\n",
       "    </tr>\n",
       "  </tbody>\n",
       "</table>\n",
       "</div>"
      ],
      "text/plain": [
       "   gender\n",
       "1   45079\n",
       "2   24222"
      ]
     },
     "execution_count": 10,
     "metadata": {},
     "output_type": "execute_result"
    }
   ],
   "source": [
    "df['gender'].value_counts().to_frame()"
   ]
  },
  {
   "cell_type": "code",
   "execution_count": 11,
   "metadata": {},
   "outputs": [
    {
     "data": {
      "image/png": "[encoded data removed]",
      "text/plain": [
       "<Figure size 1296x432 with 1 Axes>"
      ]
     },
     "metadata": {
      "needs_background": "light"
     },
     "output_type": "display_data"
    }
   ],
   "source": [
    "#box plot \n",
    "plt.figure(figsize=(18, 6))\n",
    "sns.boxplot(x='age', y='weight', data=df)\n",
    "plt.xticks(size=15)\n",
    "plt.yticks(size=15)\n",
    "plt.xlabel(\"Age\", size=18)\n",
    "plt.ylabel(\"Weight\", size=18)\n",
    "plt.show()"
   ]
  },
  {
   "cell_type": "code",
   "execution_count": 12,
   "metadata": {},
   "outputs": [
    {
     "data": {
      "image/png": "[encoded data removed]",
      "text/plain": [
       "<Figure size 1296x432 with 1 Axes>"
      ]
     },
     "metadata": {
      "needs_background": "light"
     },
     "output_type": "display_data"
    }
   ],
   "source": [
    "plt.figure(figsize=(18, 6))\n",
    "sns.barplot(x= 'age', y= 'ap_hi', data= df)\n",
    "plt.xticks(size= 15)\n",
    "plt.yticks(size= 15)\n",
    "plt.xlabel('Age', size= 18)\n",
    "plt.ylabel('Systolic Blood Pressure', size= 18)\n",
    "plt.show()"
   ]
  },
  {
   "cell_type": "code",
   "execution_count": 13,
   "metadata": {},
   "outputs": [
    {
     "data": {
      "image/png": "[encoded data removed]",
      "text/plain": [
       "<Figure size 1296x432 with 1 Axes>"
      ]
     },
     "metadata": {
      "needs_background": "light"
     },
     "output_type": "display_data"
    }
   ],
   "source": [
    "plt.figure(figsize=(18, 6))\n",
    "sns.barplot(x= 'age', y= 'ap_lo', data= df)\n",
    "plt.xticks(size= 15)\n",
    "plt.yticks(size= 15)\n",
    "plt.xlabel('Age', size= 18)\n",
    "plt.ylabel('Diabolic Blood Pressure', size= 18)\n",
    "plt.show()"
   ]
  },
  {
   "cell_type": "markdown",
   "metadata": {},
   "source": [
    "### Feature Selection"
   ]
  },
  {
   "cell_type": "code",
   "execution_count": 14,
   "metadata": {},
   "outputs": [
    {
     "data": {
      "text/plain": [
       "array([[ 61,   1, 155,  69, 130,  80,   2,   2,   0,   0,   1],\n",
       "       [ 40,   1, 163,  71, 110,  70,   1,   1,   0,   0,   1],\n",
       "       [ 60,   1, 165,  70, 120,  80,   1,   1,   0,   0,   1],\n",
       "       [ 39,   2, 165,  85, 120,  80,   1,   1,   1,   1,   1],\n",
       "       [ 64,   1, 155,  62, 120,  80,   1,   1,   0,   0,   1]])"
      ]
     },
     "execution_count": 14,
     "metadata": {},
     "output_type": "execute_result"
    }
   ],
   "source": [
    "#X = df[['age', 'gender', 'height', 'weight', 'ap_hi', 'ap_lo', 'cholesterol', 'gluc', 'smoke', 'alco', 'active']].values\n",
    "X = df.iloc[:, 1:12].values\n",
    "X[:5]"
   ]
  },
  {
   "cell_type": "code",
   "execution_count": 15,
   "metadata": {},
   "outputs": [
    {
     "data": {
      "text/html": [
       "<div>\n",
       "<style scoped>\n",
       "    .dataframe tbody tr th:only-of-type {\n",
       "        vertical-align: middle;\n",
       "    }\n",
       "\n",
       "    .dataframe tbody tr th {\n",
       "        vertical-align: top;\n",
       "    }\n",
       "\n",
       "    .dataframe thead th {\n",
       "        text-align: right;\n",
       "    }\n",
       "</style>\n",
       "<table border=\"1\" class=\"dataframe\">\n",
       "  <thead>\n",
       "    <tr style=\"text-align: right;\">\n",
       "      <th></th>\n",
       "      <th>id</th>\n",
       "      <th>age</th>\n",
       "      <th>gender</th>\n",
       "      <th>height</th>\n",
       "      <th>weight</th>\n",
       "      <th>ap_hi</th>\n",
       "      <th>ap_lo</th>\n",
       "      <th>cholesterol</th>\n",
       "      <th>gluc</th>\n",
       "      <th>smoke</th>\n",
       "      <th>alco</th>\n",
       "      <th>active</th>\n",
       "      <th>cardio</th>\n",
       "    </tr>\n",
       "  </thead>\n",
       "  <tbody>\n",
       "    <tr>\n",
       "      <th>0</th>\n",
       "      <td>988</td>\n",
       "      <td>61</td>\n",
       "      <td>1</td>\n",
       "      <td>155</td>\n",
       "      <td>69</td>\n",
       "      <td>130</td>\n",
       "      <td>80</td>\n",
       "      <td>2</td>\n",
       "      <td>2</td>\n",
       "      <td>0</td>\n",
       "      <td>0</td>\n",
       "      <td>1</td>\n",
       "      <td>0</td>\n",
       "    </tr>\n",
       "    <tr>\n",
       "      <th>1</th>\n",
       "      <td>989</td>\n",
       "      <td>40</td>\n",
       "      <td>1</td>\n",
       "      <td>163</td>\n",
       "      <td>71</td>\n",
       "      <td>110</td>\n",
       "      <td>70</td>\n",
       "      <td>1</td>\n",
       "      <td>1</td>\n",
       "      <td>0</td>\n",
       "      <td>0</td>\n",
       "      <td>1</td>\n",
       "      <td>1</td>\n",
       "    </tr>\n",
       "    <tr>\n",
       "      <th>2</th>\n",
       "      <td>990</td>\n",
       "      <td>60</td>\n",
       "      <td>1</td>\n",
       "      <td>165</td>\n",
       "      <td>70</td>\n",
       "      <td>120</td>\n",
       "      <td>80</td>\n",
       "      <td>1</td>\n",
       "      <td>1</td>\n",
       "      <td>0</td>\n",
       "      <td>0</td>\n",
       "      <td>1</td>\n",
       "      <td>0</td>\n",
       "    </tr>\n",
       "    <tr>\n",
       "      <th>3</th>\n",
       "      <td>991</td>\n",
       "      <td>39</td>\n",
       "      <td>2</td>\n",
       "      <td>165</td>\n",
       "      <td>85</td>\n",
       "      <td>120</td>\n",
       "      <td>80</td>\n",
       "      <td>1</td>\n",
       "      <td>1</td>\n",
       "      <td>1</td>\n",
       "      <td>1</td>\n",
       "      <td>1</td>\n",
       "      <td>0</td>\n",
       "    </tr>\n",
       "    <tr>\n",
       "      <th>4</th>\n",
       "      <td>992</td>\n",
       "      <td>64</td>\n",
       "      <td>1</td>\n",
       "      <td>155</td>\n",
       "      <td>62</td>\n",
       "      <td>120</td>\n",
       "      <td>80</td>\n",
       "      <td>1</td>\n",
       "      <td>1</td>\n",
       "      <td>0</td>\n",
       "      <td>0</td>\n",
       "      <td>1</td>\n",
       "      <td>0</td>\n",
       "    </tr>\n",
       "  </tbody>\n",
       "</table>\n",
       "</div>"
      ],
      "text/plain": [
       "    id  age  gender  height  weight  ap_hi  ap_lo  cholesterol  gluc  smoke  \\\n",
       "0  988   61       1     155      69    130     80            2     2      0   \n",
       "1  989   40       1     163      71    110     70            1     1      0   \n",
       "2  990   60       1     165      70    120     80            1     1      0   \n",
       "3  991   39       2     165      85    120     80            1     1      1   \n",
       "4  992   64       1     155      62    120     80            1     1      0   \n",
       "\n",
       "   alco  active  cardio  \n",
       "0     0       1       0  \n",
       "1     0       1       1  \n",
       "2     0       1       0  \n",
       "3     1       1       0  \n",
       "4     0       1       0  "
      ]
     },
     "execution_count": 15,
     "metadata": {},
     "output_type": "execute_result"
    }
   ],
   "source": [
    "df.head()"
   ]
  },
  {
   "cell_type": "code",
   "execution_count": 16,
   "metadata": {},
   "outputs": [
    {
     "data": {
      "text/plain": [
       "array([0, 1, 0, 0, 0])"
      ]
     },
     "execution_count": 16,
     "metadata": {},
     "output_type": "execute_result"
    }
   ],
   "source": [
    "y = df['cardio'].values\n",
    "y[:5]"
   ]
  },
  {
   "cell_type": "code",
   "execution_count": 17,
   "metadata": {},
   "outputs": [],
   "source": [
    "from sklearn.preprocessing import MinMaxScaler\n",
    "scaler = MinMaxScaler()"
   ]
  },
  {
   "cell_type": "markdown",
   "metadata": {},
   "source": [
    "### Logistic Regression"
   ]
  },
  {
   "cell_type": "code",
   "execution_count": 18,
   "metadata": {},
   "outputs": [],
   "source": [
    "from sklearn.model_selection import train_test_split\n",
    "from sklearn.linear_model import LogisticRegression"
   ]
  },
  {
   "cell_type": "code",
   "execution_count": 19,
   "metadata": {
    "scrolled": true
   },
   "outputs": [
    {
     "name": "stdout",
     "output_type": "stream",
     "text": [
      "Test: 0.7084367484367484 and Train: 0.7053561122013159 and Random state= 0\n",
      "Test: 0.7085329485329486 and Train: 0.7084728154219093 and Random state= 1\n",
      "Test: 0.7077825877825877 and Train: 0.7032205933279464 and Random state= 2\n",
      "Test: 0.7125541125541126 and Train: 0.711878102274039 and Random state= 3\n",
      "Test: 0.7077056277056277 and Train: 0.7074339143483782 and Random state= 4\n",
      "Test: 0.7083020683020683 and Train: 0.705990996190696 and Random state= 5\n",
      "Test: 0.7065319865319866 and Train: 0.7077802147062219 and Random state= 6\n",
      "Test: 0.7134968734968735 and Train: 0.7075493478009928 and Random state= 7\n",
      "Test: 0.711996151996152 and Train: 0.7158028396629343 and Random state= 8\n",
      "Test: 0.712919672919673 and Train: 0.7087613990534457 and Random state= 9\n",
      "Test: 0.7081096681096681 and Train: 0.7091076994112894 and Random state= 10\n",
      "Test: 0.7121693121693121 and Train: 0.7132633037054138 and Random state= 11\n",
      "Test: 0.7146320346320346 and Train: 0.7171880410943091 and Random state= 12\n",
      "Test: 0.7082443482443482 and Train: 0.7021816922544153 and Random state= 13\n",
      "Test: 0.7116113516113516 and Train: 0.7002770402862749 and Random state= 14\n",
      "Test: 0.7133621933621933 and Train: 0.7098003001269768 and Random state= 15\n",
      "Test: 0.7065704665704665 and Train: 0.7128015698949556 and Random state= 16\n",
      "Test: 0.714035594035594 and Train: 0.7179960752626111 and Random state= 17\n",
      "Test: 0.7115151515151515 and Train: 0.7132055869791065 and Random state= 18\n",
      "Test: 0.7113612313612314 and Train: 0.7131478702527992 and Random state= 19\n",
      "Test: 0.7141125541125541 and Train: 0.7061641463696179 and Random state= 20\n",
      "Test: 0.7078980278980279 and Train: 0.7068567470853053 and Random state= 21\n",
      "Test: 0.7118999518999519 and Train: 0.7118203855477317 and Random state= 22\n",
      "Test: 0.7132082732082732 and Train: 0.7077802147062219 and Random state= 23\n",
      "Test: 0.7072823472823473 and Train: 0.7067413136326908 and Random state= 24\n",
      "Test: 0.7104184704184704 and Train: 0.7046635114856286 and Random state= 25\n",
      "Test: 0.7074170274170274 and Train: 0.7076070645273 and Random state= 26\n",
      "Test: 0.7114959114959115 and Train: 0.7109546346531225 and Random state= 27\n",
      "Test: 0.7095911495911496 and Train: 0.7093962830428258 and Random state= 28\n",
      "Test: 0.7095526695526696 and Train: 0.7084728154219093 and Random state= 29\n"
     ]
    }
   ],
   "source": [
    "for i in range(0, 30):\n",
    "    X_train, X_test, y_train, y_test = train_test_split(X, y, test_size= 0.25, random_state= i)\n",
    "    lr = LogisticRegression(C= 0.01, solver= 'liblinear').fit(X_train, y_train)\n",
    "    lr.fit(X_train, y_train)\n",
    "    \n",
    "    train_score = lr.score(X_train, y_train)\n",
    "    test_score = lr.score(X_test, y_test)\n",
    "    print(\"Test: {:.3f}, Train: {:.3f} and Random state: {}\".format(train_score, test_score, i))"
   ]
  },
  {
   "cell_type": "code",
   "execution_count": 20,
   "metadata": {},
   "outputs": [
    {
     "data": {
      "text/plain": [
       "LogisticRegression(C=0.01, class_weight=None, dual=False, fit_intercept=True,\n",
       "                   intercept_scaling=1, l1_ratio=None, max_iter=100,\n",
       "                   multi_class='warn', n_jobs=None, penalty='l2',\n",
       "                   random_state=None, solver='liblinear', tol=0.0001, verbose=0,\n",
       "                   warm_start=False)"
      ]
     },
     "execution_count": 20,
     "metadata": {},
     "output_type": "execute_result"
    }
   ],
   "source": [
    "X_train, X_test, y_train, y_test = train_test_split(X, y, test_size= 0.25, random_state= 7)\n",
    "lr = LogisticRegression(C= 0.01, solver= 'liblinear').fit(X_train, y_train)\n",
    "lr.fit(X_train, y_train)"
   ]
  },
  {
   "cell_type": "code",
   "execution_count": 21,
   "metadata": {},
   "outputs": [
    {
     "data": {
      "text/plain": [
       "array([1, 1, 1, 0, 1, 0, 1, 1, 0, 1, 1, 0, 0, 1, 1])"
      ]
     },
     "execution_count": 21,
     "metadata": {},
     "output_type": "execute_result"
    }
   ],
   "source": [
    "yhat_logistic = lr.predict(X_test)\n",
    "yhat_logistic[:15]"
   ]
  },
  {
   "cell_type": "code",
   "execution_count": 22,
   "metadata": {},
   "outputs": [],
   "source": [
    "from sklearn.metrics import classification_report"
   ]
  },
  {
   "cell_type": "code",
   "execution_count": 23,
   "metadata": {},
   "outputs": [
    {
     "name": "stdout",
     "output_type": "stream",
     "text": [
      "              precision    recall  f1-score   support\n",
      "\n",
      "     Absence       0.69      0.75      0.72      8557\n",
      "    Presence       0.73      0.66      0.70      8769\n",
      "\n",
      "    accuracy                           0.71     17326\n",
      "   macro avg       0.71      0.71      0.71     17326\n",
      "weighted avg       0.71      0.71      0.71     17326\n",
      "\n"
     ]
    }
   ],
   "source": [
    "print(classification_report(y_test, yhat_logistic, target_names= ['Absence', 'Presence']))"
   ]
  },
  {
   "cell_type": "markdown",
   "metadata": {},
   "source": [
    "### Naive Bayes Classifier"
   ]
  },
  {
   "cell_type": "code",
   "execution_count": 24,
   "metadata": {},
   "outputs": [],
   "source": [
    "from sklearn.naive_bayes import GaussianNB"
   ]
  },
  {
   "cell_type": "code",
   "execution_count": 25,
   "metadata": {},
   "outputs": [
    {
     "name": "stdout",
     "output_type": "stream",
     "text": [
      "Test: 0.5897065897065897, Train: 0.5858247720189311 and Random state: 0\n",
      "Test: 0.59001443001443, Train: 0.591711878102274 and Random state: 1\n",
      "Test: 0.6045598845598845, Train: 0.6022163222901997 and Random state: 2\n",
      "Test: 0.5834920634920635, Train: 0.5828812189772596 and Random state: 3\n",
      "Test: 0.5900913900913901, Train: 0.5861710723767748 and Random state: 4\n",
      "Test: 0.588936988936989, Train: 0.589056908692139 and Random state: 5\n",
      "Test: 0.6003463203463203, Train: 0.6024471891954288 and Random state: 6\n",
      "Test: 0.5922077922077922, Train: 0.5769941128939167 and Random state: 7\n",
      "Test: 0.589013949013949, Train: 0.586632806187233 and Random state: 8\n",
      "Test: 0.5901875901875901, Train: 0.5891146254184463 and Random state: 9\n",
      "Test: 0.6133525733525733, Train: 0.6111624148678287 and Random state: 10\n",
      "Test: 0.5835305435305436, Train: 0.5870945399976913 and Random state: 11\n",
      "Test: 0.5878018278018278, Train: 0.5941936973334873 and Random state: 12\n",
      "Test: 0.5931697931697931, Train: 0.5918850282811959 and Random state: 13\n",
      "Test: 0.5912073112073112, Train: 0.5909615606602794 and Random state: 14\n",
      "Test: 0.5877825877825877, Train: 0.5899803763130556 and Random state: 15\n",
      "Test: 0.5856277056277056, Train: 0.5940205471545654 and Random state: 16\n",
      "Test: 0.586012506012506, Train: 0.5878448574396861 and Random state: 17\n",
      "Test: 0.5894949494949495, Train: 0.584381853861249 and Random state: 18\n",
      "Test: 0.5911688311688311, Train: 0.5897495094078263 and Random state: 19\n",
      "Test: 0.5895526695526696, Train: 0.583169802608796 and Random state: 20\n",
      "Test: 0.5978643578643579, Train: 0.597194967101466 and Random state: 21\n",
      "Test: 0.5833573833573834, Train: 0.581553734272192 and Random state: 22\n",
      "Test: 0.5912842712842713, Train: 0.5798799492092809 and Random state: 23\n",
      "Test: 0.5943819143819143, Train: 0.5856516218400092 and Random state: 24\n",
      "Test: 0.6034247234247234, Train: 0.5993882027011428 and Random state: 25\n",
      "Test: 0.5918422318422318, Train: 0.5902112432182847 and Random state: 26\n",
      "Test: 0.5873785473785473, Train: 0.5885374581553734 and Random state: 27\n",
      "Test: 0.591014911014911, Train: 0.5892877755973681 and Random state: 28\n",
      "Test: 0.5998268398268398, Train: 0.5996190696063719 and Random state: 29\n"
     ]
    }
   ],
   "source": [
    "for i in range(0, 30):\n",
    "    X_train, X_test, y_train, y_test = train_test_split(X, y, random_state= i)\n",
    "    gnb = GaussianNB()\n",
    "    gnb.fit(X_train, y_train)\n",
    "    \n",
    "    train_score = gnb.score(X_train, y_train)\n",
    "    test_score = gnb.score(X_test, y_test)\n",
    "    \n",
    "    print(\"Test: {:.3f}, Train: {:.3f} and Random state: {}\".format(train_score, test_score, i))"
   ]
  },
  {
   "cell_type": "code",
   "execution_count": null,
   "metadata": {},
   "outputs": [],
   "source": [
    "X_train, X_test, y_train, y_test = train_test_split(X, y, random_state= )\n",
    "gnb = GaussianNB().fit(X_train, y_train)"
   ]
  },
  {
   "cell_type": "code",
   "execution_count": 26,
   "metadata": {},
   "outputs": [
    {
     "data": {
      "text/plain": [
       "array([1, 0, 0, 0, 0, 1, 0, 0, 1, 0, 1, 0, 0, 1, 1])"
      ]
     },
     "execution_count": 26,
     "metadata": {},
     "output_type": "execute_result"
    }
   ],
   "source": [
    "yhat_gaussian = gnb.predict(X_test)\n",
    "yhat_gaussian[:15]"
   ]
  },
  {
   "cell_type": "code",
   "execution_count": 27,
   "metadata": {},
   "outputs": [
    {
     "name": "stdout",
     "output_type": "stream",
     "text": [
      "              precision    recall  f1-score   support\n",
      "\n",
      "     Absence       0.57      0.87      0.69      8687\n",
      "    Presence       0.72      0.32      0.45      8639\n",
      "\n",
      "    accuracy                           0.60     17326\n",
      "   macro avg       0.64      0.60      0.57     17326\n",
      "weighted avg       0.64      0.60      0.57     17326\n",
      "\n"
     ]
    }
   ],
   "source": [
    "print(classification_report(y_test, yhat_gaussian, target_names= ['Absence', 'Presence']))"
   ]
  },
  {
   "cell_type": "markdown",
   "metadata": {},
   "source": [
    "### Random Forest Classifier"
   ]
  },
  {
   "cell_type": "code",
   "execution_count": 28,
   "metadata": {},
   "outputs": [],
   "source": [
    "from sklearn.ensemble import RandomForestClassifier"
   ]
  },
  {
   "cell_type": "code",
   "execution_count": 29,
   "metadata": {},
   "outputs": [
    {
     "name": "stdout",
     "output_type": "stream",
     "text": [
      "Test score: 0.7091076994112894, Train score: 0.9816835016835017 and Random state: 0\n",
      "Test score: 0.7081842317903728, Train score: 0.9813371813371813 and Random state: 1\n",
      "Test score: 0.7095117164954404, Train score: 0.9811255411255412 and Random state: 2\n",
      "Test score: 0.7042594944014775, Train score: 0.9816642616642617 and Random state: 3\n",
      "Test score: 0.7032783100542537, Train score: 0.9811832611832612 and Random state: 4\n",
      "Test score: 0.7048943783908577, Train score: 0.9807792207792208 and Random state: 5\n",
      "Test score: 0.7107814844742006, Train score: 0.9811255411255412 and Random state: 6\n",
      "Test score: 0.7043172111277848, Train score: 0.9813949013949014 and Random state: 7\n",
      "Test score: 0.7084728154219093, Train score: 0.9811255411255412 and Random state: 8\n",
      "Test score: 0.7083573819692947, Train score: 0.980990860990861 and Random state: 9\n",
      "Test score: 0.7085882488745239, Train score: 0.980913900913901 and Random state: 10\n",
      "Test score: 0.7104929008426643, Train score: 0.9811063011063011 and Random state: 11\n",
      "Test score: 0.7060487129170033, Train score: 0.9815488215488215 and Random state: 12\n",
      "Test score: 0.7104929008426643, Train score: 0.9812217412217412 and Random state: 13\n",
      "Test score: 0.7017199584439571, Train score: 0.9818566618566619 and Random state: 14\n",
      "Test score: 0.7066835969063835, Train score: 0.9807792207792208 and Random state: 15\n",
      "Test score: 0.7105506175689715, Train score: 0.981029341029341 and Random state: 16\n",
      "Test score: 0.7103774673900496, Train score: 0.980990860990861 and Random state: 17\n",
      "Test score: 0.7117049520951172, Train score: 0.9811255411255412 and Random state: 18\n",
      "Test score: 0.7055869791065451, Train score: 0.9813179413179414 and Random state: 19\n"
     ]
    }
   ],
   "source": [
    "for i in range(0, 20):\n",
    "    X_train, X_test, y_train, y_test = train_test_split(X, y, random_state= i)\n",
    "    X_train_scaled = scaler.fit_transform(X_train)\n",
    "    X_test_scaled = scaler.transform(X_test)\n",
    "    rfc = RandomForestClassifier(n_estimators= 100, criterion= 'entropy', random_state= i)\n",
    "    rfc.fit(X_train_scaled, y_train)\n",
    "    \n",
    "    train_score = rfc.score(X_train_scaled, y_train)\n",
    "    test_score = rfc.score(X_test_scaled, y_test)\n",
    "    \n",
    "    print('Test: {:.3f}, Train: {:.3f} and Random state: {}'.format(test_score, train_score, i))"
   ]
  },
  {
   "cell_type": "code",
   "execution_count": 33,
   "metadata": {},
   "outputs": [
    {
     "name": "stdout",
     "output_type": "stream",
     "text": [
      "Test score: 0.7087613990534457, Train score: 0.9817027417027417 and Random state: 0\n",
      "Test score: 0.7085305321482166, Train score: 0.9813371813371813 and Random state: 1\n",
      "Test score: 0.7099734503058986, Train score: 0.9811063011063011 and Random state: 2\n",
      "Test score: 0.706799030358998, Train score: 0.9816835016835017 and Random state: 3\n",
      "Test score: 0.7048366616645504, Train score: 0.9811640211640211 and Random state: 4\n",
      "Test score: 0.7051252452960868, Train score: 0.9807792207792208 and Random state: 5\n",
      "Test score: 0.7144753549578667, Train score: 0.9811447811447811 and Random state: 6\n",
      "Test score: 0.7044326445803994, Train score: 0.9813949013949014 and Random state: 7\n",
      "Test score: 0.7093962830428258, Train score: 0.9811447811447811 and Random state: 8\n",
      "Test score: 0.7103774673900496, Train score: 0.981029341029341 and Random state: 9\n",
      "Test score: 0.7091654161375966, Train score: 0.9809331409331409 and Random state: 10\n",
      "Test score: 0.7058178460117742, Train score: 0.9810870610870611 and Random state: 11\n",
      "Test score: 0.7061641463696179, Train score: 0.9815488215488215 and Random state: 12\n",
      "Test score: 0.7119935357266536, Train score: 0.9812217412217412 and Random state: 13\n",
      "Test score: 0.7038554773173266, Train score: 0.9818566618566619 and Random state: 14\n",
      "Test score: 0.7080687983377583, Train score: 0.9807792207792208 and Random state: 15\n",
      "Test score: 0.7103197506637423, Train score: 0.9810485810485811 and Random state: 16\n",
      "Test score: 0.7085305321482166, Train score: 0.981010101010101 and Random state: 17\n",
      "Test score: 0.7115318019161954, Train score: 0.9811640211640211 and Random state: 18\n",
      "Test score: 0.704952095117165, Train score: 0.9813371813371813 and Random state: 19\n"
     ]
    }
   ],
   "source": [
    "for i in range(0, 20):\n",
    "    X_train, X_test, y_train, y_test = train_test_split(X, y, random_state= i)\n",
    "    #X_train_scaled = scaler.fit_transform(X_train)\n",
    "    #X_test_scaled = scaler.transform(X_test)\n",
    "    rfc = RandomForestClassifier(n_estimators= 100, criterion= 'gini', random_state= i)\n",
    "    rfc.fit(X_train, y_train)\n",
    "    \n",
    "    train_score = rfc.score(X_train, y_train)\n",
    "    test_score = rfc.score(X_test, y_test)\n",
    "    \n",
    "    print('Test: {:.3f}, Train: {:.3f} and Random state: {}'.format(test_score, train_score, i))"
   ]
  },
  {
   "cell_type": "code",
   "execution_count": 34,
   "metadata": {},
   "outputs": [],
   "source": [
    "X_train, X_test, y_train, y_test = train_test_split(X, y, random_state= 18)\n",
    "rfc = RandomForestClassifier(n_estimators= 100, criterion= 'gini', random_state= 18).fit(X_train, y_train)"
   ]
  },
  {
   "cell_type": "code",
   "execution_count": 35,
   "metadata": {},
   "outputs": [
    {
     "data": {
      "text/plain": [
       "array([1, 1, 1, 1, 1, 0, 1, 1, 1, 1, 0, 1, 0, 0, 0])"
      ]
     },
     "execution_count": 35,
     "metadata": {},
     "output_type": "execute_result"
    }
   ],
   "source": [
    "yhat_rfc = rfc.predict(X_test)\n",
    "yhat_rfc[:15]"
   ]
  },
  {
   "cell_type": "code",
   "execution_count": 36,
   "metadata": {},
   "outputs": [
    {
     "name": "stdout",
     "output_type": "stream",
     "text": [
      "              precision    recall  f1-score   support\n",
      "\n",
      "     Absence       0.71      0.72      0.71      8667\n",
      "    Presence       0.71      0.71      0.71      8659\n",
      "\n",
      "    accuracy                           0.71     17326\n",
      "   macro avg       0.71      0.71      0.71     17326\n",
      "weighted avg       0.71      0.71      0.71     17326\n",
      "\n"
     ]
    }
   ],
   "source": [
    "print(classification_report(y_test, yhat_rfc, target_names= ['Absence', 'Presence']))"
   ]
  },
  {
   "cell_type": "markdown",
   "metadata": {},
   "source": [
    "### Adaboost Classifier"
   ]
  },
  {
   "cell_type": "code",
   "execution_count": 37,
   "metadata": {},
   "outputs": [],
   "source": [
    "from sklearn.ensemble import AdaBoostClassifier"
   ]
  },
  {
   "cell_type": "code",
   "execution_count": 45,
   "metadata": {},
   "outputs": [
    {
     "name": "stdout",
     "output_type": "stream",
     "text": [
      "Test: 0.7294239870714533, Train: 0.7319480519480519 and Random state: 0\n",
      "Test: 0.7322521066605102, Train: 0.7308321308321308 and Random state: 1\n",
      "Test: 0.7307514717765209, Train: 0.7309475709475709 and Random state: 2\n",
      "Test: 0.7289045365346878, Train: 0.7312746512746513 and Random state: 3\n",
      "Test: 0.7263650005771672, Train: 0.7333525733525733 and Random state: 4\n",
      "Test: 0.7296548539766824, Train: 0.7315824915824916 and Random state: 5\n",
      "Test: 0.7320212397552811, Train: 0.730928330928331 and Random state: 6\n",
      "Test: 0.7259609834930163, Train: 0.733044733044733 and Random state: 7\n",
      "Test: 0.7325984070183539, Train: 0.7311976911976912 and Random state: 8\n",
      "Test: 0.7323098233868175, Train: 0.7303511303511303 and Random state: 9\n",
      "Test: 0.7329447073761977, Train: 0.7306204906204906 and Random state: 10\n",
      "Test: 0.7335218746392704, Train: 0.7309475709475709 and Random state: 11\n",
      "Test: 0.7319635230289738, Train: 0.7301779701779701 and Random state: 12\n",
      "Test: 0.7286159529031513, Train: 0.7312361712361712 and Random state: 13\n",
      "Test: 0.7260187002193236, Train: 0.7351996151996152 and Random state: 14\n",
      "Test: 0.7294817037977606, Train: 0.7327753727753727 and Random state: 15\n",
      "Test: 0.7306937550502135, Train: 0.7318518518518519 and Random state: 16\n",
      "Test: 0.7295971372503751, Train: 0.731024531024531 and Random state: 17\n",
      "Test: 0.7326561237446612, Train: 0.731005291005291 and Random state: 18\n",
      "Test: 0.7273461849243911, Train: 0.7322366522366522 and Random state: 19\n"
     ]
    }
   ],
   "source": [
    "for i in range(0, 20):\n",
    "    X_train, X_test, y_train, y_test = train_test_split(X, y, random_state= i)\n",
    "    \n",
    "    ada = AdaBoostClassifier(n_estimators= 100, random_state= i).fit(X_train, y_train)\n",
    "    \n",
    "    train_score = ada.score(X_train, y_train)\n",
    "    test_score = ada.score(X_test, y_test)\n",
    "    print(\"Test: {:.3f}, Train: {:.3f} and Random state: {}\".format(test_score, train_score, i))"
   ]
  },
  {
   "cell_type": "code",
   "execution_count": 48,
   "metadata": {},
   "outputs": [],
   "source": [
    "X_train, X_test, y_train, y_test = train_test_split(X, y, random_state= 11)\n",
    "    \n",
    "ada = AdaBoostClassifier(n_estimators= 100, random_state= 11).fit(X_train, y_train)"
   ]
  },
  {
   "cell_type": "code",
   "execution_count": 51,
   "metadata": {},
   "outputs": [
    {
     "data": {
      "text/plain": [
       "array([1, 0, 0, 1, 0, 1, 1, 0, 0, 0, 1, 0, 0, 1, 1])"
      ]
     },
     "execution_count": 51,
     "metadata": {},
     "output_type": "execute_result"
    }
   ],
   "source": [
    "yhat_ada = ada.predict(X_test)\n",
    "yhat_ada[:15]"
   ]
  },
  {
   "cell_type": "code",
   "execution_count": 50,
   "metadata": {},
   "outputs": [
    {
     "name": "stdout",
     "output_type": "stream",
     "text": [
      "              precision    recall  f1-score   support\n",
      "\n",
      "     Absence       0.71      0.81      0.75      8719\n",
      "    Presence       0.77      0.66      0.71      8607\n",
      "\n",
      "    accuracy                           0.73     17326\n",
      "   macro avg       0.74      0.73      0.73     17326\n",
      "weighted avg       0.74      0.73      0.73     17326\n",
      "\n"
     ]
    }
   ],
   "source": [
    "print(classification_report(y_test, yhat_ada, target_names= ['Absence', 'Presence']))"
   ]
  },
  {
   "cell_type": "markdown",
   "metadata": {},
   "source": [
    "### Gradient Boosting Classifier"
   ]
  },
  {
   "cell_type": "code",
   "execution_count": 53,
   "metadata": {},
   "outputs": [],
   "source": [
    "from sklearn.ensemble import GradientBoostingClassifier"
   ]
  },
  {
   "cell_type": "code",
   "execution_count": 54,
   "metadata": {},
   "outputs": [
    {
     "name": "stdout",
     "output_type": "stream",
     "text": [
      "Test: 0.721, Train: 0.724 and Random state: 0.000\n",
      "Test: 0.725, Train: 0.723 and Random state: 1.000\n",
      "Test: 0.723, Train: 0.723 and Random state: 2.000\n",
      "Test: 0.722, Train: 0.724 and Random state: 3.000\n",
      "Test: 0.721, Train: 0.724 and Random state: 4.000\n",
      "Test: 0.722, Train: 0.724 and Random state: 5.000\n",
      "Test: 0.725, Train: 0.723 and Random state: 6.000\n",
      "Test: 0.720, Train: 0.724 and Random state: 7.000\n",
      "Test: 0.727, Train: 0.722 and Random state: 8.000\n",
      "Test: 0.726, Train: 0.722 and Random state: 9.000\n",
      "Test: 0.727, Train: 0.722 and Random state: 10.000\n",
      "Test: 0.729, Train: 0.721 and Random state: 11.000\n",
      "Test: 0.729, Train: 0.722 and Random state: 12.000\n",
      "Test: 0.724, Train: 0.723 and Random state: 13.000\n",
      "Test: 0.718, Train: 0.725 and Random state: 14.000\n",
      "Test: 0.722, Train: 0.724 and Random state: 15.000\n",
      "Test: 0.725, Train: 0.723 and Random state: 16.000\n",
      "Test: 0.723, Train: 0.723 and Random state: 17.000\n",
      "Test: 0.725, Train: 0.723 and Random state: 18.000\n",
      "Test: 0.720, Train: 0.724 and Random state: 19.000\n"
     ]
    }
   ],
   "source": [
    "for i in range(0, 20):\n",
    "    X_train, X_test, y_train, y_test = train_test_split(X, y, random_state= i)\n",
    "    \n",
    "    gbc = GradientBoostingClassifier(learning_rate = 0.01, max_depth = 2, random_state= i).fit(X_train, y_train)\n",
    "    \n",
    "    train_score = gbc.score(X_train, y_train)\n",
    "    test_score = gbc.score(X_test, y_test)\n",
    "    print(\"Test: {:.3f}, Train: {:.3f} and Random state: {}\".format(test_score, train_score, i))"
   ]
  },
  {
   "cell_type": "code",
   "execution_count": 55,
   "metadata": {},
   "outputs": [
    {
     "name": "stdout",
     "output_type": "stream",
     "text": [
      "Test: 0.722, Train: 0.725 and Random state: 0\n",
      "Test: 0.726, Train: 0.724 and Random state: 1\n",
      "Test: 0.726, Train: 0.726 and Random state: 2\n",
      "Test: 0.726, Train: 0.726 and Random state: 3\n",
      "Test: 0.723, Train: 0.727 and Random state: 4\n",
      "Test: 0.725, Train: 0.727 and Random state: 5\n",
      "Test: 0.725, Train: 0.724 and Random state: 6\n",
      "Test: 0.722, Train: 0.727 and Random state: 7\n",
      "Test: 0.729, Train: 0.725 and Random state: 8\n",
      "Test: 0.727, Train: 0.724 and Random state: 9\n",
      "Test: 0.728, Train: 0.725 and Random state: 10\n",
      "Test: 0.730, Train: 0.723 and Random state: 11\n",
      "Test: 0.730, Train: 0.724 and Random state: 12\n",
      "Test: 0.726, Train: 0.727 and Random state: 13\n",
      "Test: 0.720, Train: 0.728 and Random state: 14\n",
      "Test: 0.724, Train: 0.726 and Random state: 15\n",
      "Test: 0.726, Train: 0.725 and Random state: 16\n",
      "Test: 0.724, Train: 0.724 and Random state: 17\n",
      "Test: 0.725, Train: 0.724 and Random state: 18\n",
      "Test: 0.722, Train: 0.727 and Random state: 19\n"
     ]
    }
   ],
   "source": [
    "for i in range(0, 20):\n",
    "    X_train, X_test, y_train, y_test = train_test_split(X, y, random_state= i)\n",
    "    \n",
    "    gbc = GradientBoostingClassifier(learning_rate = 0.01, max_depth = 3, random_state= i).fit(X_train, y_train)\n",
    "    \n",
    "    train_score = gbc.score(X_train, y_train)\n",
    "    test_score = gbc.score(X_test, y_test)\n",
    "    print(\"Test: {:.3f}, Train: {:.3f} and Random state: {}\".format(test_score, train_score, i))"
   ]
  },
  {
   "cell_type": "code",
   "execution_count": 56,
   "metadata": {},
   "outputs": [],
   "source": [
    "X_train, X_test, y_train, y_test = train_test_split(X, y, random_state= 1)\n",
    "    \n",
    "gbc = GradientBoostingClassifier(learning_rate = 0.01, max_depth = 3, random_state= 1).fit(X_train, y_train)"
   ]
  },
  {
   "cell_type": "code",
   "execution_count": 57,
   "metadata": {},
   "outputs": [
    {
     "data": {
      "text/plain": [
       "array([0, 0, 0, 0, 0, 0, 1, 0, 1, 1, 1, 1, 1, 1, 1])"
      ]
     },
     "execution_count": 57,
     "metadata": {},
     "output_type": "execute_result"
    }
   ],
   "source": [
    "yhat_gbc = gbc.predict(X_test)\n",
    "yhat_gbc[:15]"
   ]
  },
  {
   "cell_type": "code",
   "execution_count": 58,
   "metadata": {},
   "outputs": [
    {
     "name": "stdout",
     "output_type": "stream",
     "text": [
      "              precision    recall  f1-score   support\n",
      "\n",
      "     Absence       0.70      0.79      0.74      8684\n",
      "    Presence       0.76      0.66      0.71      8642\n",
      "\n",
      "    accuracy                           0.73     17326\n",
      "   macro avg       0.73      0.73      0.72     17326\n",
      "weighted avg       0.73      0.73      0.72     17326\n",
      "\n"
     ]
    }
   ],
   "source": [
    "print(classification_report(y_test, yhat_gbc, target_names= ['Absence', 'Presence']))"
   ]
  },
  {
   "cell_type": "markdown",
   "metadata": {},
   "source": [
    "### Artificial Neural Network"
   ]
  },
  {
   "cell_type": "code",
   "execution_count": 59,
   "metadata": {},
   "outputs": [],
   "source": [
    "import keras\n",
    "from keras.models import Sequential\n",
    "from keras.layers import Dense"
   ]
  },
  {
   "cell_type": "code",
   "execution_count": 61,
   "metadata": {},
   "outputs": [
    {
     "name": "stdout",
     "output_type": "stream",
     "text": [
      "Epoch 1/15\n",
      "51975/51975 [==============================] - 8s 160us/step - loss: 0.6313 - accuracy: 0.6391\n",
      "Epoch 2/15\n",
      "51975/51975 [==============================] - 8s 156us/step - loss: 0.5825 - accuracy: 0.7097\n",
      "Epoch 3/15\n",
      "51975/51975 [==============================] - 8s 155us/step - loss: 0.5766 - accuracy: 0.7141\n",
      "Epoch 4/15\n",
      "51975/51975 [==============================] - 8s 151us/step - loss: 0.5744 - accuracy: 0.7138\n",
      "Epoch 5/15\n",
      "51975/51975 [==============================] - 8s 155us/step - loss: 0.5731 - accuracy: 0.7142\n",
      "Epoch 6/15\n",
      "51975/51975 [==============================] - 8s 153us/step - loss: 0.5718 - accuracy: 0.7160\n",
      "Epoch 7/15\n",
      "51975/51975 [==============================] - 8s 155us/step - loss: 0.5712 - accuracy: 0.7153\n",
      "Epoch 8/15\n",
      "51975/51975 [==============================] - 8s 151us/step - loss: 0.5703 - accuracy: 0.7153\n",
      "Epoch 9/15\n",
      "51975/51975 [==============================] - 8s 154us/step - loss: 0.5696 - accuracy: 0.7161\n",
      "Epoch 10/15\n",
      "51975/51975 [==============================] - 8s 151us/step - loss: 0.5696 - accuracy: 0.7158\n",
      "Epoch 11/15\n",
      "51975/51975 [==============================] - 8s 157us/step - loss: 0.5687 - accuracy: 0.7169\n",
      "Epoch 12/15\n",
      "51975/51975 [==============================] - 8s 151us/step - loss: 0.5686 - accuracy: 0.7184\n",
      "Epoch 13/15\n",
      "51975/51975 [==============================] - 8s 154us/step - loss: 0.5678 - accuracy: 0.7169\n",
      "Epoch 14/15\n",
      "51975/51975 [==============================] - 8s 149us/step - loss: 0.5671 - accuracy: 0.7185\n",
      "Epoch 15/15\n",
      "51975/51975 [==============================] - 8s 153us/step - loss: 0.5663 - accuracy: 0.7188\n"
     ]
    },
    {
     "data": {
      "text/plain": [
       "<keras.callbacks.callbacks.History at 0x7fc760ee19e8>"
      ]
     },
     "execution_count": 61,
     "metadata": {},
     "output_type": "execute_result"
    }
   ],
   "source": [
    "X_train_scaled = scaler.fit_transform(X_train)\n",
    "X_test_scaled = scaler.transform(X_test)\n",
    "\n",
    "# Initialize ANN\n",
    "ann_classifier = Sequential()\n",
    "\n",
    "# Add input and first hidden layer\n",
    "ann_classifier.add(Dense(activation= 'relu', input_dim= 11, units= 7, kernel_initializer= 'uniform'))\n",
    "\n",
    "# Add input and second hidden layer\n",
    "ann_classifier.add(Dense(activation= 'relu', units= 7, kernel_initializer= 'uniform'))\n",
    "\n",
    "# Output layer\n",
    "ann_classifier.add(Dense(activation= 'sigmoid', units= 2, kernel_initializer= 'uniform'))\n",
    "\n",
    "# Compile ANN\n",
    "ann_classifier.compile(optimizer= 'adam', loss= 'binary_crossentropy', metrics= ['accuracy'])\n",
    "ann_classifier.add(Dense(activation= 'relu', units= 7, kernel_initializer= 'uniform'))\n",
    "ann_classifier.add(Dense(activation= 'sigmoid', units= 1, kernel_initializer= 'uniform'))\n",
    "ann_classifier.compile(optimizer= 'adam', loss= 'binary_crossentropy', metrics= ['accuracy'])\n",
    "\n",
    "ann_classifier.fit(np.array(X_train), np.array(y_train), batch_size= 10, epochs= 15)"
   ]
  },
  {
   "cell_type": "code",
   "execution_count": null,
   "metadata": {},
   "outputs": [],
   "source": []
  },
  {
   "cell_type": "code",
   "execution_count": null,
   "metadata": {},
   "outputs": [],
   "source": []
  },
  {
   "cell_type": "code",
   "execution_count": null,
   "metadata": {},
   "outputs": [],
   "source": []
  }
 ],
 "metadata": {
  "kernelspec": {
   "display_name": "Python 3",
   "language": "python",
   "name": "python3"
  },
  "language_info": {
   "codemirror_mode": {
    "name": "ipython",
    "version": 3
   },
   "file_extension": ".py",
   "mimetype": "text/x-python",
   "name": "python",
   "nbconvert_exporter": "python",
   "pygments_lexer": "ipython3",
   "version": "3.7.3"
  }
 },
 "nbformat": 4,
 "nbformat_minor": 2
}
