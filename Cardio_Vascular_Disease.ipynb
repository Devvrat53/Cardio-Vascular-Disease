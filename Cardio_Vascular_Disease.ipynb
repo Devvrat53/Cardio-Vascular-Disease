{
 "cells": [
  {
   "cell_type": "code",
   "execution_count": 1,
   "metadata": {},
   "outputs": [],
   "source": [
    "%matplotlib inline\n",
    "%matplotlib notebook\n",
    "import pandas as pd\n",
    "import numpy as np\n",
    "import matplotlib.pyplot as plt\n",
    "import seaborn as sns"
   ]
  },
  {
   "cell_type": "code",
   "execution_count": 2,
   "metadata": {},
   "outputs": [],
   "source": [
    "df = pd.read_csv(\"data/cardio_train.csv\")"
   ]
  },
  {
   "cell_type": "code",
   "execution_count": 3,
   "metadata": {},
   "outputs": [
    {
     "data": {
      "text/html": [
       "<div>\n",
       "<style scoped>\n",
       "    .dataframe tbody tr th:only-of-type {\n",
       "        vertical-align: middle;\n",
       "    }\n",
       "\n",
       "    .dataframe tbody tr th {\n",
       "        vertical-align: top;\n",
       "    }\n",
       "\n",
       "    .dataframe thead th {\n",
       "        text-align: right;\n",
       "    }\n",
       "</style>\n",
       "<table border=\"1\" class=\"dataframe\">\n",
       "  <thead>\n",
       "    <tr style=\"text-align: right;\">\n",
       "      <th></th>\n",
       "      <th>id</th>\n",
       "      <th>age</th>\n",
       "      <th>gender</th>\n",
       "      <th>height</th>\n",
       "      <th>weight</th>\n",
       "      <th>ap_hi</th>\n",
       "      <th>ap_lo</th>\n",
       "      <th>cholesterol</th>\n",
       "      <th>gluc</th>\n",
       "      <th>smoke</th>\n",
       "      <th>alco</th>\n",
       "      <th>active</th>\n",
       "      <th>cardio</th>\n",
       "    </tr>\n",
       "  </thead>\n",
       "  <tbody>\n",
       "    <tr>\n",
       "      <th>0</th>\n",
       "      <td>988</td>\n",
       "      <td>22469</td>\n",
       "      <td>1</td>\n",
       "      <td>155</td>\n",
       "      <td>69.0</td>\n",
       "      <td>130</td>\n",
       "      <td>80</td>\n",
       "      <td>2</td>\n",
       "      <td>2</td>\n",
       "      <td>0</td>\n",
       "      <td>0</td>\n",
       "      <td>1</td>\n",
       "      <td>0</td>\n",
       "    </tr>\n",
       "    <tr>\n",
       "      <th>1</th>\n",
       "      <td>989</td>\n",
       "      <td>14648</td>\n",
       "      <td>1</td>\n",
       "      <td>163</td>\n",
       "      <td>71.0</td>\n",
       "      <td>110</td>\n",
       "      <td>70</td>\n",
       "      <td>1</td>\n",
       "      <td>1</td>\n",
       "      <td>0</td>\n",
       "      <td>0</td>\n",
       "      <td>1</td>\n",
       "      <td>1</td>\n",
       "    </tr>\n",
       "    <tr>\n",
       "      <th>2</th>\n",
       "      <td>990</td>\n",
       "      <td>21901</td>\n",
       "      <td>1</td>\n",
       "      <td>165</td>\n",
       "      <td>70.0</td>\n",
       "      <td>120</td>\n",
       "      <td>80</td>\n",
       "      <td>1</td>\n",
       "      <td>1</td>\n",
       "      <td>0</td>\n",
       "      <td>0</td>\n",
       "      <td>1</td>\n",
       "      <td>0</td>\n",
       "    </tr>\n",
       "    <tr>\n",
       "      <th>3</th>\n",
       "      <td>991</td>\n",
       "      <td>14549</td>\n",
       "      <td>2</td>\n",
       "      <td>165</td>\n",
       "      <td>85.0</td>\n",
       "      <td>120</td>\n",
       "      <td>80</td>\n",
       "      <td>1</td>\n",
       "      <td>1</td>\n",
       "      <td>1</td>\n",
       "      <td>1</td>\n",
       "      <td>1</td>\n",
       "      <td>0</td>\n",
       "    </tr>\n",
       "    <tr>\n",
       "      <th>4</th>\n",
       "      <td>992</td>\n",
       "      <td>23393</td>\n",
       "      <td>1</td>\n",
       "      <td>155</td>\n",
       "      <td>62.0</td>\n",
       "      <td>120</td>\n",
       "      <td>80</td>\n",
       "      <td>1</td>\n",
       "      <td>1</td>\n",
       "      <td>0</td>\n",
       "      <td>0</td>\n",
       "      <td>1</td>\n",
       "      <td>0</td>\n",
       "    </tr>\n",
       "  </tbody>\n",
       "</table>\n",
       "</div>"
      ],
      "text/plain": [
       "    id    age  gender  height  weight  ap_hi  ap_lo  cholesterol  gluc  smoke  \\\n",
       "0  988  22469       1     155    69.0    130     80            2     2      0   \n",
       "1  989  14648       1     163    71.0    110     70            1     1      0   \n",
       "2  990  21901       1     165    70.0    120     80            1     1      0   \n",
       "3  991  14549       2     165    85.0    120     80            1     1      1   \n",
       "4  992  23393       1     155    62.0    120     80            1     1      0   \n",
       "\n",
       "   alco  active  cardio  \n",
       "0     0       1       0  \n",
       "1     0       1       1  \n",
       "2     0       1       0  \n",
       "3     1       1       0  \n",
       "4     0       1       0  "
      ]
     },
     "execution_count": 3,
     "metadata": {},
     "output_type": "execute_result"
    }
   ],
   "source": [
    "df.head()"
   ]
  },
  {
   "cell_type": "markdown",
   "metadata": {},
   "source": [
    "The Dataset contains several fields which leads to the __Presence or absence of cardiovascular disease__ within a patient.\n",
    "\n",
    "1. __Age__ | Objective Feature | __age__ | int (days) |\n",
    "2. __Height__ | Objective Feature | __height__ | int (cm) |\n",
    "3. __Weight__ | Objective Feature | __weight__ | float (kg) |\n",
    "4. __Gender__ | Objective Feature | __gender__ | categorical code |\n",
    "5. __Systolic blood pressure__ | Examination Feature | __ap_hi__ | int |\n",
    "6. __Diastolic blood pressure__ | Examination Feature | __ap_lo__ | int |\n",
    "7. __Cholesterol__ | Examination Feature | __cholesterol__ | 1: normal, 2: above normal, 3: well above normal |\n",
    "8. __Glucose__ | Examination Feature | __gluc__ | 1: normal, 2: above normal, 3: well above normal |\n",
    "9. __Smoking__ | Subjective Feature | __smoke__ | binary |\n",
    "10. __Alcohol intake__ | Subjective Feature | __alco__ | binary |\n",
    "11. __Physical activity__ | Subjective Feature | __active__ | binary |\n",
    "12. __Presence or absence of cardiovascular disease__ | Target Variable | __cardio__ | binary |"
   ]
  },
  {
   "cell_type": "markdown",
   "metadata": {},
   "source": [
    "## Exploratory Data Analysis (EDA)"
   ]
  },
  {
   "cell_type": "code",
   "execution_count": 4,
   "metadata": {},
   "outputs": [
    {
     "data": {
      "text/plain": [
       "(69301, 13)"
      ]
     },
     "execution_count": 4,
     "metadata": {},
     "output_type": "execute_result"
    }
   ],
   "source": [
    "df.shape"
   ]
  },
  {
   "cell_type": "code",
   "execution_count": 5,
   "metadata": {},
   "outputs": [
    {
     "data": {
      "text/plain": [
       "id             False\n",
       "age            False\n",
       "gender         False\n",
       "height         False\n",
       "weight         False\n",
       "ap_hi          False\n",
       "ap_lo          False\n",
       "cholesterol    False\n",
       "gluc           False\n",
       "smoke          False\n",
       "alco           False\n",
       "active         False\n",
       "cardio         False\n",
       "dtype: bool"
      ]
     },
     "execution_count": 5,
     "metadata": {},
     "output_type": "execute_result"
    }
   ],
   "source": [
    "# checking for null values\n",
    "df.isnull().any()"
   ]
  },
  {
   "cell_type": "code",
   "execution_count": 6,
   "metadata": {},
   "outputs": [
    {
     "data": {
      "text/plain": [
       "id               int64\n",
       "age              int64\n",
       "gender           int64\n",
       "height           int64\n",
       "weight         float64\n",
       "ap_hi            int64\n",
       "ap_lo            int64\n",
       "cholesterol      int64\n",
       "gluc             int64\n",
       "smoke            int64\n",
       "alco             int64\n",
       "active           int64\n",
       "cardio           int64\n",
       "dtype: object"
      ]
     },
     "execution_count": 6,
     "metadata": {},
     "output_type": "execute_result"
    }
   ],
   "source": [
    "# Checking the datatypes\n",
    "df.dtypes"
   ]
  },
  {
   "cell_type": "code",
   "execution_count": 7,
   "metadata": {},
   "outputs": [],
   "source": [
    "#changing the datatype of weight column\n",
    "df['weight'] = df['weight'].astype(int)"
   ]
  },
  {
   "cell_type": "code",
   "execution_count": 8,
   "metadata": {},
   "outputs": [
    {
     "data": {
      "text/html": [
       "<div>\n",
       "<style scoped>\n",
       "    .dataframe tbody tr th:only-of-type {\n",
       "        vertical-align: middle;\n",
       "    }\n",
       "\n",
       "    .dataframe tbody tr th {\n",
       "        vertical-align: top;\n",
       "    }\n",
       "\n",
       "    .dataframe thead th {\n",
       "        text-align: right;\n",
       "    }\n",
       "</style>\n",
       "<table border=\"1\" class=\"dataframe\">\n",
       "  <thead>\n",
       "    <tr style=\"text-align: right;\">\n",
       "      <th></th>\n",
       "      <th>id</th>\n",
       "      <th>age</th>\n",
       "      <th>gender</th>\n",
       "      <th>height</th>\n",
       "      <th>weight</th>\n",
       "      <th>ap_hi</th>\n",
       "      <th>ap_lo</th>\n",
       "      <th>cholesterol</th>\n",
       "      <th>gluc</th>\n",
       "      <th>smoke</th>\n",
       "      <th>alco</th>\n",
       "      <th>active</th>\n",
       "      <th>cardio</th>\n",
       "    </tr>\n",
       "  </thead>\n",
       "  <tbody>\n",
       "    <tr>\n",
       "      <th>0</th>\n",
       "      <td>988</td>\n",
       "      <td>22469</td>\n",
       "      <td>1</td>\n",
       "      <td>155</td>\n",
       "      <td>69</td>\n",
       "      <td>130</td>\n",
       "      <td>80</td>\n",
       "      <td>2</td>\n",
       "      <td>2</td>\n",
       "      <td>0</td>\n",
       "      <td>0</td>\n",
       "      <td>1</td>\n",
       "      <td>0</td>\n",
       "    </tr>\n",
       "    <tr>\n",
       "      <th>1</th>\n",
       "      <td>989</td>\n",
       "      <td>14648</td>\n",
       "      <td>1</td>\n",
       "      <td>163</td>\n",
       "      <td>71</td>\n",
       "      <td>110</td>\n",
       "      <td>70</td>\n",
       "      <td>1</td>\n",
       "      <td>1</td>\n",
       "      <td>0</td>\n",
       "      <td>0</td>\n",
       "      <td>1</td>\n",
       "      <td>1</td>\n",
       "    </tr>\n",
       "    <tr>\n",
       "      <th>2</th>\n",
       "      <td>990</td>\n",
       "      <td>21901</td>\n",
       "      <td>1</td>\n",
       "      <td>165</td>\n",
       "      <td>70</td>\n",
       "      <td>120</td>\n",
       "      <td>80</td>\n",
       "      <td>1</td>\n",
       "      <td>1</td>\n",
       "      <td>0</td>\n",
       "      <td>0</td>\n",
       "      <td>1</td>\n",
       "      <td>0</td>\n",
       "    </tr>\n",
       "    <tr>\n",
       "      <th>3</th>\n",
       "      <td>991</td>\n",
       "      <td>14549</td>\n",
       "      <td>2</td>\n",
       "      <td>165</td>\n",
       "      <td>85</td>\n",
       "      <td>120</td>\n",
       "      <td>80</td>\n",
       "      <td>1</td>\n",
       "      <td>1</td>\n",
       "      <td>1</td>\n",
       "      <td>1</td>\n",
       "      <td>1</td>\n",
       "      <td>0</td>\n",
       "    </tr>\n",
       "    <tr>\n",
       "      <th>4</th>\n",
       "      <td>992</td>\n",
       "      <td>23393</td>\n",
       "      <td>1</td>\n",
       "      <td>155</td>\n",
       "      <td>62</td>\n",
       "      <td>120</td>\n",
       "      <td>80</td>\n",
       "      <td>1</td>\n",
       "      <td>1</td>\n",
       "      <td>0</td>\n",
       "      <td>0</td>\n",
       "      <td>1</td>\n",
       "      <td>0</td>\n",
       "    </tr>\n",
       "    <tr>\n",
       "      <th>5</th>\n",
       "      <td>995</td>\n",
       "      <td>21143</td>\n",
       "      <td>1</td>\n",
       "      <td>164</td>\n",
       "      <td>61</td>\n",
       "      <td>100</td>\n",
       "      <td>70</td>\n",
       "      <td>1</td>\n",
       "      <td>1</td>\n",
       "      <td>0</td>\n",
       "      <td>0</td>\n",
       "      <td>1</td>\n",
       "      <td>0</td>\n",
       "    </tr>\n",
       "    <tr>\n",
       "      <th>6</th>\n",
       "      <td>996</td>\n",
       "      <td>18085</td>\n",
       "      <td>1</td>\n",
       "      <td>162</td>\n",
       "      <td>72</td>\n",
       "      <td>100</td>\n",
       "      <td>70</td>\n",
       "      <td>1</td>\n",
       "      <td>1</td>\n",
       "      <td>0</td>\n",
       "      <td>0</td>\n",
       "      <td>1</td>\n",
       "      <td>0</td>\n",
       "    </tr>\n",
       "    <tr>\n",
       "      <th>7</th>\n",
       "      <td>997</td>\n",
       "      <td>22547</td>\n",
       "      <td>1</td>\n",
       "      <td>161</td>\n",
       "      <td>93</td>\n",
       "      <td>140</td>\n",
       "      <td>90</td>\n",
       "      <td>2</td>\n",
       "      <td>1</td>\n",
       "      <td>0</td>\n",
       "      <td>0</td>\n",
       "      <td>1</td>\n",
       "      <td>1</td>\n",
       "    </tr>\n",
       "    <tr>\n",
       "      <th>8</th>\n",
       "      <td>999</td>\n",
       "      <td>21250</td>\n",
       "      <td>1</td>\n",
       "      <td>157</td>\n",
       "      <td>68</td>\n",
       "      <td>110</td>\n",
       "      <td>80</td>\n",
       "      <td>1</td>\n",
       "      <td>1</td>\n",
       "      <td>0</td>\n",
       "      <td>0</td>\n",
       "      <td>1</td>\n",
       "      <td>0</td>\n",
       "    </tr>\n",
       "    <tr>\n",
       "      <th>9</th>\n",
       "      <td>1000</td>\n",
       "      <td>22446</td>\n",
       "      <td>1</td>\n",
       "      <td>158</td>\n",
       "      <td>65</td>\n",
       "      <td>140</td>\n",
       "      <td>90</td>\n",
       "      <td>3</td>\n",
       "      <td>1</td>\n",
       "      <td>0</td>\n",
       "      <td>0</td>\n",
       "      <td>1</td>\n",
       "      <td>1</td>\n",
       "    </tr>\n",
       "    <tr>\n",
       "      <th>10</th>\n",
       "      <td>1001</td>\n",
       "      <td>16621</td>\n",
       "      <td>1</td>\n",
       "      <td>153</td>\n",
       "      <td>57</td>\n",
       "      <td>120</td>\n",
       "      <td>80</td>\n",
       "      <td>3</td>\n",
       "      <td>2</td>\n",
       "      <td>0</td>\n",
       "      <td>0</td>\n",
       "      <td>1</td>\n",
       "      <td>1</td>\n",
       "    </tr>\n",
       "    <tr>\n",
       "      <th>11</th>\n",
       "      <td>1002</td>\n",
       "      <td>20442</td>\n",
       "      <td>2</td>\n",
       "      <td>169</td>\n",
       "      <td>82</td>\n",
       "      <td>130</td>\n",
       "      <td>90</td>\n",
       "      <td>1</td>\n",
       "      <td>1</td>\n",
       "      <td>0</td>\n",
       "      <td>0</td>\n",
       "      <td>1</td>\n",
       "      <td>1</td>\n",
       "    </tr>\n",
       "    <tr>\n",
       "      <th>12</th>\n",
       "      <td>1003</td>\n",
       "      <td>23168</td>\n",
       "      <td>2</td>\n",
       "      <td>150</td>\n",
       "      <td>56</td>\n",
       "      <td>130</td>\n",
       "      <td>80</td>\n",
       "      <td>2</td>\n",
       "      <td>1</td>\n",
       "      <td>0</td>\n",
       "      <td>0</td>\n",
       "      <td>1</td>\n",
       "      <td>1</td>\n",
       "    </tr>\n",
       "    <tr>\n",
       "      <th>13</th>\n",
       "      <td>1004</td>\n",
       "      <td>22598</td>\n",
       "      <td>1</td>\n",
       "      <td>176</td>\n",
       "      <td>72</td>\n",
       "      <td>130</td>\n",
       "      <td>90</td>\n",
       "      <td>1</td>\n",
       "      <td>3</td>\n",
       "      <td>0</td>\n",
       "      <td>0</td>\n",
       "      <td>1</td>\n",
       "      <td>1</td>\n",
       "    </tr>\n",
       "    <tr>\n",
       "      <th>14</th>\n",
       "      <td>1006</td>\n",
       "      <td>20317</td>\n",
       "      <td>1</td>\n",
       "      <td>154</td>\n",
       "      <td>85</td>\n",
       "      <td>160</td>\n",
       "      <td>100</td>\n",
       "      <td>3</td>\n",
       "      <td>1</td>\n",
       "      <td>0</td>\n",
       "      <td>0</td>\n",
       "      <td>1</td>\n",
       "      <td>1</td>\n",
       "    </tr>\n",
       "  </tbody>\n",
       "</table>\n",
       "</div>"
      ],
      "text/plain": [
       "      id    age  gender  height  weight  ap_hi  ap_lo  cholesterol  gluc  \\\n",
       "0    988  22469       1     155      69    130     80            2     2   \n",
       "1    989  14648       1     163      71    110     70            1     1   \n",
       "2    990  21901       1     165      70    120     80            1     1   \n",
       "3    991  14549       2     165      85    120     80            1     1   \n",
       "4    992  23393       1     155      62    120     80            1     1   \n",
       "5    995  21143       1     164      61    100     70            1     1   \n",
       "6    996  18085       1     162      72    100     70            1     1   \n",
       "7    997  22547       1     161      93    140     90            2     1   \n",
       "8    999  21250       1     157      68    110     80            1     1   \n",
       "9   1000  22446       1     158      65    140     90            3     1   \n",
       "10  1001  16621       1     153      57    120     80            3     2   \n",
       "11  1002  20442       2     169      82    130     90            1     1   \n",
       "12  1003  23168       2     150      56    130     80            2     1   \n",
       "13  1004  22598       1     176      72    130     90            1     3   \n",
       "14  1006  20317       1     154      85    160    100            3     1   \n",
       "\n",
       "    smoke  alco  active  cardio  \n",
       "0       0     0       1       0  \n",
       "1       0     0       1       1  \n",
       "2       0     0       1       0  \n",
       "3       1     1       1       0  \n",
       "4       0     0       1       0  \n",
       "5       0     0       1       0  \n",
       "6       0     0       1       0  \n",
       "7       0     0       1       1  \n",
       "8       0     0       1       0  \n",
       "9       0     0       1       1  \n",
       "10      0     0       1       1  \n",
       "11      0     0       1       1  \n",
       "12      0     0       1       1  \n",
       "13      0     0       1       1  \n",
       "14      0     0       1       1  "
      ]
     },
     "execution_count": 8,
     "metadata": {},
     "output_type": "execute_result"
    }
   ],
   "source": [
    "df.head(15)"
   ]
  },
  {
   "cell_type": "code",
   "execution_count": 9,
   "metadata": {},
   "outputs": [
    {
     "data": {
      "text/html": [
       "<div>\n",
       "<style scoped>\n",
       "    .dataframe tbody tr th:only-of-type {\n",
       "        vertical-align: middle;\n",
       "    }\n",
       "\n",
       "    .dataframe tbody tr th {\n",
       "        vertical-align: top;\n",
       "    }\n",
       "\n",
       "    .dataframe thead th {\n",
       "        text-align: right;\n",
       "    }\n",
       "</style>\n",
       "<table border=\"1\" class=\"dataframe\">\n",
       "  <thead>\n",
       "    <tr style=\"text-align: right;\">\n",
       "      <th></th>\n",
       "      <th>id</th>\n",
       "      <th>age</th>\n",
       "      <th>gender</th>\n",
       "      <th>height</th>\n",
       "      <th>weight</th>\n",
       "      <th>ap_hi</th>\n",
       "      <th>ap_lo</th>\n",
       "      <th>cholesterol</th>\n",
       "      <th>gluc</th>\n",
       "      <th>smoke</th>\n",
       "      <th>alco</th>\n",
       "      <th>active</th>\n",
       "      <th>cardio</th>\n",
       "    </tr>\n",
       "  </thead>\n",
       "  <tbody>\n",
       "    <tr>\n",
       "      <th>0</th>\n",
       "      <td>988</td>\n",
       "      <td>61</td>\n",
       "      <td>1</td>\n",
       "      <td>155</td>\n",
       "      <td>69</td>\n",
       "      <td>130</td>\n",
       "      <td>80</td>\n",
       "      <td>2</td>\n",
       "      <td>2</td>\n",
       "      <td>0</td>\n",
       "      <td>0</td>\n",
       "      <td>1</td>\n",
       "      <td>0</td>\n",
       "    </tr>\n",
       "    <tr>\n",
       "      <th>1</th>\n",
       "      <td>989</td>\n",
       "      <td>40</td>\n",
       "      <td>1</td>\n",
       "      <td>163</td>\n",
       "      <td>71</td>\n",
       "      <td>110</td>\n",
       "      <td>70</td>\n",
       "      <td>1</td>\n",
       "      <td>1</td>\n",
       "      <td>0</td>\n",
       "      <td>0</td>\n",
       "      <td>1</td>\n",
       "      <td>1</td>\n",
       "    </tr>\n",
       "    <tr>\n",
       "      <th>2</th>\n",
       "      <td>990</td>\n",
       "      <td>60</td>\n",
       "      <td>1</td>\n",
       "      <td>165</td>\n",
       "      <td>70</td>\n",
       "      <td>120</td>\n",
       "      <td>80</td>\n",
       "      <td>1</td>\n",
       "      <td>1</td>\n",
       "      <td>0</td>\n",
       "      <td>0</td>\n",
       "      <td>1</td>\n",
       "      <td>0</td>\n",
       "    </tr>\n",
       "    <tr>\n",
       "      <th>3</th>\n",
       "      <td>991</td>\n",
       "      <td>39</td>\n",
       "      <td>2</td>\n",
       "      <td>165</td>\n",
       "      <td>85</td>\n",
       "      <td>120</td>\n",
       "      <td>80</td>\n",
       "      <td>1</td>\n",
       "      <td>1</td>\n",
       "      <td>1</td>\n",
       "      <td>1</td>\n",
       "      <td>1</td>\n",
       "      <td>0</td>\n",
       "    </tr>\n",
       "    <tr>\n",
       "      <th>4</th>\n",
       "      <td>992</td>\n",
       "      <td>64</td>\n",
       "      <td>1</td>\n",
       "      <td>155</td>\n",
       "      <td>62</td>\n",
       "      <td>120</td>\n",
       "      <td>80</td>\n",
       "      <td>1</td>\n",
       "      <td>1</td>\n",
       "      <td>0</td>\n",
       "      <td>0</td>\n",
       "      <td>1</td>\n",
       "      <td>0</td>\n",
       "    </tr>\n",
       "    <tr>\n",
       "      <th>5</th>\n",
       "      <td>995</td>\n",
       "      <td>57</td>\n",
       "      <td>1</td>\n",
       "      <td>164</td>\n",
       "      <td>61</td>\n",
       "      <td>100</td>\n",
       "      <td>70</td>\n",
       "      <td>1</td>\n",
       "      <td>1</td>\n",
       "      <td>0</td>\n",
       "      <td>0</td>\n",
       "      <td>1</td>\n",
       "      <td>0</td>\n",
       "    </tr>\n",
       "    <tr>\n",
       "      <th>6</th>\n",
       "      <td>996</td>\n",
       "      <td>49</td>\n",
       "      <td>1</td>\n",
       "      <td>162</td>\n",
       "      <td>72</td>\n",
       "      <td>100</td>\n",
       "      <td>70</td>\n",
       "      <td>1</td>\n",
       "      <td>1</td>\n",
       "      <td>0</td>\n",
       "      <td>0</td>\n",
       "      <td>1</td>\n",
       "      <td>0</td>\n",
       "    </tr>\n",
       "    <tr>\n",
       "      <th>7</th>\n",
       "      <td>997</td>\n",
       "      <td>61</td>\n",
       "      <td>1</td>\n",
       "      <td>161</td>\n",
       "      <td>93</td>\n",
       "      <td>140</td>\n",
       "      <td>90</td>\n",
       "      <td>2</td>\n",
       "      <td>1</td>\n",
       "      <td>0</td>\n",
       "      <td>0</td>\n",
       "      <td>1</td>\n",
       "      <td>1</td>\n",
       "    </tr>\n",
       "    <tr>\n",
       "      <th>8</th>\n",
       "      <td>999</td>\n",
       "      <td>58</td>\n",
       "      <td>1</td>\n",
       "      <td>157</td>\n",
       "      <td>68</td>\n",
       "      <td>110</td>\n",
       "      <td>80</td>\n",
       "      <td>1</td>\n",
       "      <td>1</td>\n",
       "      <td>0</td>\n",
       "      <td>0</td>\n",
       "      <td>1</td>\n",
       "      <td>0</td>\n",
       "    </tr>\n",
       "    <tr>\n",
       "      <th>9</th>\n",
       "      <td>1000</td>\n",
       "      <td>61</td>\n",
       "      <td>1</td>\n",
       "      <td>158</td>\n",
       "      <td>65</td>\n",
       "      <td>140</td>\n",
       "      <td>90</td>\n",
       "      <td>3</td>\n",
       "      <td>1</td>\n",
       "      <td>0</td>\n",
       "      <td>0</td>\n",
       "      <td>1</td>\n",
       "      <td>1</td>\n",
       "    </tr>\n",
       "    <tr>\n",
       "      <th>10</th>\n",
       "      <td>1001</td>\n",
       "      <td>45</td>\n",
       "      <td>1</td>\n",
       "      <td>153</td>\n",
       "      <td>57</td>\n",
       "      <td>120</td>\n",
       "      <td>80</td>\n",
       "      <td>3</td>\n",
       "      <td>2</td>\n",
       "      <td>0</td>\n",
       "      <td>0</td>\n",
       "      <td>1</td>\n",
       "      <td>1</td>\n",
       "    </tr>\n",
       "    <tr>\n",
       "      <th>11</th>\n",
       "      <td>1002</td>\n",
       "      <td>56</td>\n",
       "      <td>2</td>\n",
       "      <td>169</td>\n",
       "      <td>82</td>\n",
       "      <td>130</td>\n",
       "      <td>90</td>\n",
       "      <td>1</td>\n",
       "      <td>1</td>\n",
       "      <td>0</td>\n",
       "      <td>0</td>\n",
       "      <td>1</td>\n",
       "      <td>1</td>\n",
       "    </tr>\n",
       "    <tr>\n",
       "      <th>12</th>\n",
       "      <td>1003</td>\n",
       "      <td>63</td>\n",
       "      <td>2</td>\n",
       "      <td>150</td>\n",
       "      <td>56</td>\n",
       "      <td>130</td>\n",
       "      <td>80</td>\n",
       "      <td>2</td>\n",
       "      <td>1</td>\n",
       "      <td>0</td>\n",
       "      <td>0</td>\n",
       "      <td>1</td>\n",
       "      <td>1</td>\n",
       "    </tr>\n",
       "    <tr>\n",
       "      <th>13</th>\n",
       "      <td>1004</td>\n",
       "      <td>61</td>\n",
       "      <td>1</td>\n",
       "      <td>176</td>\n",
       "      <td>72</td>\n",
       "      <td>130</td>\n",
       "      <td>90</td>\n",
       "      <td>1</td>\n",
       "      <td>3</td>\n",
       "      <td>0</td>\n",
       "      <td>0</td>\n",
       "      <td>1</td>\n",
       "      <td>1</td>\n",
       "    </tr>\n",
       "    <tr>\n",
       "      <th>14</th>\n",
       "      <td>1006</td>\n",
       "      <td>55</td>\n",
       "      <td>1</td>\n",
       "      <td>154</td>\n",
       "      <td>85</td>\n",
       "      <td>160</td>\n",
       "      <td>100</td>\n",
       "      <td>3</td>\n",
       "      <td>1</td>\n",
       "      <td>0</td>\n",
       "      <td>0</td>\n",
       "      <td>1</td>\n",
       "      <td>1</td>\n",
       "    </tr>\n",
       "  </tbody>\n",
       "</table>\n",
       "</div>"
      ],
      "text/plain": [
       "      id  age  gender  height  weight  ap_hi  ap_lo  cholesterol  gluc  smoke  \\\n",
       "0    988   61       1     155      69    130     80            2     2      0   \n",
       "1    989   40       1     163      71    110     70            1     1      0   \n",
       "2    990   60       1     165      70    120     80            1     1      0   \n",
       "3    991   39       2     165      85    120     80            1     1      1   \n",
       "4    992   64       1     155      62    120     80            1     1      0   \n",
       "5    995   57       1     164      61    100     70            1     1      0   \n",
       "6    996   49       1     162      72    100     70            1     1      0   \n",
       "7    997   61       1     161      93    140     90            2     1      0   \n",
       "8    999   58       1     157      68    110     80            1     1      0   \n",
       "9   1000   61       1     158      65    140     90            3     1      0   \n",
       "10  1001   45       1     153      57    120     80            3     2      0   \n",
       "11  1002   56       2     169      82    130     90            1     1      0   \n",
       "12  1003   63       2     150      56    130     80            2     1      0   \n",
       "13  1004   61       1     176      72    130     90            1     3      0   \n",
       "14  1006   55       1     154      85    160    100            3     1      0   \n",
       "\n",
       "    alco  active  cardio  \n",
       "0      0       1       0  \n",
       "1      0       1       1  \n",
       "2      0       1       0  \n",
       "3      1       1       0  \n",
       "4      0       1       0  \n",
       "5      0       1       0  \n",
       "6      0       1       0  \n",
       "7      0       1       1  \n",
       "8      0       1       0  \n",
       "9      0       1       1  \n",
       "10     0       1       1  \n",
       "11     0       1       1  \n",
       "12     0       1       1  \n",
       "13     0       1       1  \n",
       "14     0       1       1  "
      ]
     },
     "execution_count": 9,
     "metadata": {},
     "output_type": "execute_result"
    }
   ],
   "source": [
    "# Converting days into years in 'age' parameter\n",
    "df['age'] = df['age']/365\n",
    "df['age'] = df['age'].astype(int)\n",
    "df.head(15)"
   ]
  },
  {
   "cell_type": "code",
   "execution_count": 10,
   "metadata": {},
   "outputs": [
    {
     "data": {
      "text/plain": [
       "id             int64\n",
       "age            int64\n",
       "gender         int64\n",
       "height         int64\n",
       "weight         int64\n",
       "ap_hi          int64\n",
       "ap_lo          int64\n",
       "cholesterol    int64\n",
       "gluc           int64\n",
       "smoke          int64\n",
       "alco           int64\n",
       "active         int64\n",
       "cardio         int64\n",
       "dtype: object"
      ]
     },
     "execution_count": 10,
     "metadata": {},
     "output_type": "execute_result"
    }
   ],
   "source": [
    "df.dtypes"
   ]
  },
  {
   "cell_type": "code",
   "execution_count": 11,
   "metadata": {},
   "outputs": [
    {
     "name": "stdout",
     "output_type": "stream",
     "text": [
      "Percentage of female patients: 34.95%\n",
      "Percentage of male patients: 65.05%\n"
     ]
    }
   ],
   "source": [
    "male_count = len(df[df['gender'] == 1])\n",
    "female_count = len(df[df['gender'] == 2])\n",
    "print(\"Percentage of female patients: {:.2f}%\".format((female_count/len(df['gender'])) * 100))\n",
    "print(\"Percentage of male patients: {:.2f}%\".format((male_count/len(df['gender'])) * 100))"
   ]
  },
  {
   "cell_type": "code",
   "execution_count": 12,
   "metadata": {},
   "outputs": [
    {
     "data": {
      "text/html": [
       "<div>\n",
       "<style scoped>\n",
       "    .dataframe tbody tr th:only-of-type {\n",
       "        vertical-align: middle;\n",
       "    }\n",
       "\n",
       "    .dataframe tbody tr th {\n",
       "        vertical-align: top;\n",
       "    }\n",
       "\n",
       "    .dataframe thead th {\n",
       "        text-align: right;\n",
       "    }\n",
       "</style>\n",
       "<table border=\"1\" class=\"dataframe\">\n",
       "  <thead>\n",
       "    <tr style=\"text-align: right;\">\n",
       "      <th></th>\n",
       "      <th>gender</th>\n",
       "    </tr>\n",
       "  </thead>\n",
       "  <tbody>\n",
       "    <tr>\n",
       "      <th>1</th>\n",
       "      <td>45079</td>\n",
       "    </tr>\n",
       "    <tr>\n",
       "      <th>2</th>\n",
       "      <td>24222</td>\n",
       "    </tr>\n",
       "  </tbody>\n",
       "</table>\n",
       "</div>"
      ],
      "text/plain": [
       "   gender\n",
       "1   45079\n",
       "2   24222"
      ]
     },
     "execution_count": 12,
     "metadata": {},
     "output_type": "execute_result"
    }
   ],
   "source": [
    "df['gender'].value_counts().to_frame()"
   ]
  },
  {
   "cell_type": "code",
   "execution_count": 13,
   "metadata": {},
   "outputs": [
    {
     "data": {
      "image/png": "[encoded data removed]",
      "text/plain": [
       "<Figure size 1296x432 with 1 Axes>"
      ]
     },
     "metadata": {
      "needs_background": "light"
     },
     "output_type": "display_data"
    }
   ],
   "source": [
    "#box plot \n",
    "plt.figure(figsize=(18, 6))\n",
    "sns.boxplot(x='age', y='weight', data=df)\n",
    "plt.xticks(size=15)\n",
    "plt.yticks(size=15)\n",
    "plt.xlabel(\"Age\", size=18)\n",
    "plt.ylabel(\"Weight\", size=18)\n",
    "plt.show()"
   ]
  },
  {
   "cell_type": "code",
   "execution_count": 14,
   "metadata": {},
   "outputs": [
    {
     "data": {
      "image/png": "[encoded data removed]",
      "text/plain": [
       "<Figure size 1296x432 with 1 Axes>"
      ]
     },
     "metadata": {
      "needs_background": "light"
     },
     "output_type": "display_data"
    }
   ],
   "source": [
    "plt.figure(figsize=(18, 6))\n",
    "sns.barplot(x= 'age', y= 'ap_hi', data= df)\n",
    "plt.xticks(size= 15)\n",
    "plt.yticks(size= 15)\n",
    "plt.xlabel('Age', size= 18)\n",
    "plt.ylabel('Systolic Blood Pressure', size= 18)\n",
    "plt.show()"
   ]
  },
  {
   "cell_type": "code",
   "execution_count": 15,
   "metadata": {},
   "outputs": [
    {
     "data": {
      "image/png": "[encoded data removed]",
      "text/plain": [
       "<Figure size 1296x432 with 1 Axes>"
      ]
     },
     "metadata": {
      "needs_background": "light"
     },
     "output_type": "display_data"
    }
   ],
   "source": [
    "plt.figure(figsize=(18, 6))\n",
    "sns.barplot(x= 'age', y= 'ap_lo', data= df)\n",
    "plt.xticks(size= 15)\n",
    "plt.yticks(size= 15)\n",
    "plt.xlabel('Age', size= 18)\n",
    "plt.ylabel('Diabolic Blood Pressure', size= 18)\n",
    "plt.show()"
   ]
  },
  {
   "cell_type": "code",
   "execution_count": 16,
   "metadata": {},
   "outputs": [],
   "source": [
    "def plotAge():\n",
    "    facet_grid = sns.FacetGrid(df, hue= 'cardio')\n",
    "    facet_grid.map(sns.kdeplot, 'age', shade= True, ax= axes[0])\n",
    "    legend_labels = ['Absence', 'Presence']\n",
    "    for t, l in zip(axes[0].get_legend().texts, legend_labels):\n",
    "        t.set_text(l)\n",
    "        axes[0].set(xlabel= 'Age', ylabel= 'Density')\n",
    "        \n",
    "    avg = df[['age', 'cardio']].groupby(['age'], as_index= False).mean()\n",
    "    sns.barplot(x= 'age', y= 'cardio', data= avg, ax= axes[1])\n",
    "    axes[1].set(xlabel= 'age', ylabel= 'Disease Probability')\n",
    "    \n",
    "    plt.clf()"
   ]
  },
  {
   "cell_type": "code",
   "execution_count": 17,
   "metadata": {},
   "outputs": [
    {
     "data": {
      "image/png": "[encoded data removed]",
      "text/plain": [
       "<Figure size 1080x576 with 2 Axes>"
      ]
     },
     "metadata": {
      "needs_background": "light"
     },
     "output_type": "display_data"
    },
    {
     "data": {
      "text/plain": [
       "<Figure size 216x216 with 0 Axes>"
      ]
     },
     "metadata": {},
     "output_type": "display_data"
    }
   ],
   "source": [
    "fig_age, axes = plt.subplots(nrows= 2, ncols= 1, figsize=(15, 8))\n",
    "\n",
    "plotAge()"
   ]
  },
  {
   "cell_type": "code",
   "execution_count": 18,
   "metadata": {},
   "outputs": [
    {
     "data": {
      "image/png": "[encoded data removed]",
      "text/plain": [
       "<Figure size 864x576 with 1 Axes>"
      ]
     },
     "metadata": {
      "needs_background": "light"
     },
     "output_type": "display_data"
    }
   ],
   "source": [
    "pd.crosstab(df['gender'], df['cardio']).plot(kind= 'bar', figsize= (12, 8), color= ['blue', 'red'])\n",
    "plt.title('Cardio-Vascular disease frequency for Gender', size = 18)\n",
    "plt.xlabel('Gender (1= Male and 2= Female)', size= 15)\n",
    "plt.ylabel('Frequency', size= 15)\n",
    "plt.xticks(rotation= 0, size= 13)\n",
    "plt.yticks(size= 13)\n",
    "plt.legend(['Absence of Cardio-Vascular disease', 'Presence of Cardio-Vascular disease'])\n",
    "plt.show()"
   ]
  },
  {
   "cell_type": "code",
   "execution_count": 19,
   "metadata": {
    "scrolled": true
   },
   "outputs": [
    {
     "data": {
      "image/png": "[encoded data removed]",
      "text/plain": [
       "<Figure size 864x576 with 1 Axes>"
      ]
     },
     "metadata": {
      "needs_background": "light"
     },
     "output_type": "display_data"
    }
   ],
   "source": [
    "pd.crosstab(df['cholesterol'], df['cardio']).plot(kind= 'bar', figsize= (12, 8), color= ['orange', 'green'])\n",
    "plt.title('Cardio-Vascular disease frequency for Cholesterol', size = 18)\n",
    "plt.xlabel('Cholesterol (1= Normal, 2= Above Normal and 3= Well above normal)', size= 15)\n",
    "plt.ylabel('Frequency', size= 15)\n",
    "plt.xticks(rotation= 0, size= 13)\n",
    "plt.yticks(size= 13)\n",
    "plt.legend(['Absence of Cardio-Vascular disease', 'Presence of Cardio-Vascular disease'])\n",
    "plt.show()"
   ]
  },
  {
   "cell_type": "code",
   "execution_count": 20,
   "metadata": {},
   "outputs": [
    {
     "data": {
      "image/png": "[encoded data removed]",
      "text/plain": [
       "<Figure size 864x576 with 1 Axes>"
      ]
     },
     "metadata": {
      "needs_background": "light"
     },
     "output_type": "display_data"
    }
   ],
   "source": [
    "pd.crosstab(df['gluc'], df['cardio']).plot(kind= 'bar', figsize= (12, 8), color= ['#efa91c', '#36c5ed'])\n",
    "plt.title('Cardio-Vascular disease frequency for Glucose', size = 18)\n",
    "plt.xlabel('Glucose (1= Normal, 2= Above Normal and 3= Well above normal)', size= 15)\n",
    "plt.ylabel('Frequency', size= 15)\n",
    "plt.xticks(rotation= 0, size= 13)\n",
    "plt.yticks(size= 13)\n",
    "plt.legend(['Absence of Cardio-Vascular disease', 'Presence of Cardio-Vascular disease'])\n",
    "plt.show()"
   ]
  },
  {
   "cell_type": "code",
   "execution_count": 21,
   "metadata": {},
   "outputs": [
    {
     "data": {
      "image/png": "[encoded data removed]",
      "text/plain": [
       "<Figure size 864x576 with 1 Axes>"
      ]
     },
     "metadata": {
      "needs_background": "light"
     },
     "output_type": "display_data"
    }
   ],
   "source": [
    "pd.crosstab(df['smoke'], df['cardio']).plot(kind= 'bar', figsize= (12, 8), color= ['#ed541c', '#13d62d'])\n",
    "plt.title('Cardio-Vascular disease frequency for Smoking', size = 18)\n",
    "plt.xlabel('Smoke (0= Non-smoker and 1= Smoker)', size= 15)\n",
    "plt.ylabel('Frequency', size= 15)\n",
    "plt.xticks(rotation= 0, size= 13)\n",
    "plt.yticks(size= 13)\n",
    "plt.legend(['Absence of Cardio-Vascular disease', 'Presence of Cardio-Vascular disease'])\n",
    "plt.show()"
   ]
  },
  {
   "cell_type": "code",
   "execution_count": 22,
   "metadata": {},
   "outputs": [
    {
     "data": {
      "image/png": "[encoded data removed]",
      "text/plain": [
       "<Figure size 864x576 with 1 Axes>"
      ]
     },
     "metadata": {
      "needs_background": "light"
     },
     "output_type": "display_data"
    }
   ],
   "source": [
    "pd.crosstab(df['alco'], df['cardio']).plot(kind= 'bar', figsize= (12, 8), color= ['#1ca7ed', '#13d62d'])\n",
    "plt.title('Cardio-Vascular disease frequency for Alcohol', size = 18)\n",
    "plt.xlabel('Alcohol (0= Non-alcholic and 1= Alcholic)', size= 15)\n",
    "plt.ylabel('Frequency', size= 15)\n",
    "plt.xticks(rotation= 0, size= 13)\n",
    "plt.yticks(size= 13)\n",
    "plt.legend(['Absence of Cardio-Vascular disease', 'Presence of Cardio-Vascular disease'])\n",
    "plt.show()"
   ]
  },
  {
   "cell_type": "code",
   "execution_count": 23,
   "metadata": {},
   "outputs": [
    {
     "data": {
      "image/png": "[encoded data removed]",
      "text/plain": [
       "<Figure size 864x576 with 1 Axes>"
      ]
     },
     "metadata": {
      "needs_background": "light"
     },
     "output_type": "display_data"
    }
   ],
   "source": [
    "pd.crosstab(df['active'], df['cardio']).plot(kind= 'bar', figsize= (12, 8), color= ['#1ca7ed', '#ed1c1c'])\n",
    "plt.title('Cardio-Vascular disease frequency based on Physical activity', size = 18)\n",
    "plt.xlabel('Physical activity (0= Not active and 1= Active)', size= 15)\n",
    "plt.ylabel('Frequency', size= 15)\n",
    "plt.xticks(rotation= 0, size= 13)\n",
    "plt.yticks(size= 13)\n",
    "plt.legend(['Absence of Cardio-Vascular disease', 'Presence of Cardio-Vascular disease'])\n",
    "plt.show()"
   ]
  },
  {
   "cell_type": "code",
   "execution_count": 24,
   "metadata": {},
   "outputs": [
    {
     "data": {
      "text/html": [
       "<div>\n",
       "<style scoped>\n",
       "    .dataframe tbody tr th:only-of-type {\n",
       "        vertical-align: middle;\n",
       "    }\n",
       "\n",
       "    .dataframe tbody tr th {\n",
       "        vertical-align: top;\n",
       "    }\n",
       "\n",
       "    .dataframe thead th {\n",
       "        text-align: right;\n",
       "    }\n",
       "</style>\n",
       "<table border=\"1\" class=\"dataframe\">\n",
       "  <thead>\n",
       "    <tr style=\"text-align: right;\">\n",
       "      <th></th>\n",
       "      <th>id</th>\n",
       "      <th>age</th>\n",
       "      <th>gender</th>\n",
       "      <th>height</th>\n",
       "      <th>weight</th>\n",
       "      <th>ap_hi</th>\n",
       "      <th>ap_lo</th>\n",
       "      <th>cholesterol</th>\n",
       "      <th>gluc</th>\n",
       "      <th>smoke</th>\n",
       "      <th>alco</th>\n",
       "      <th>active</th>\n",
       "      <th>cardio</th>\n",
       "    </tr>\n",
       "  </thead>\n",
       "  <tbody>\n",
       "    <tr>\n",
       "      <th>0</th>\n",
       "      <td>988</td>\n",
       "      <td>61</td>\n",
       "      <td>1</td>\n",
       "      <td>155</td>\n",
       "      <td>69</td>\n",
       "      <td>130</td>\n",
       "      <td>80</td>\n",
       "      <td>2</td>\n",
       "      <td>2</td>\n",
       "      <td>0</td>\n",
       "      <td>0</td>\n",
       "      <td>1</td>\n",
       "      <td>0</td>\n",
       "    </tr>\n",
       "    <tr>\n",
       "      <th>1</th>\n",
       "      <td>989</td>\n",
       "      <td>40</td>\n",
       "      <td>1</td>\n",
       "      <td>163</td>\n",
       "      <td>71</td>\n",
       "      <td>110</td>\n",
       "      <td>70</td>\n",
       "      <td>1</td>\n",
       "      <td>1</td>\n",
       "      <td>0</td>\n",
       "      <td>0</td>\n",
       "      <td>1</td>\n",
       "      <td>1</td>\n",
       "    </tr>\n",
       "    <tr>\n",
       "      <th>2</th>\n",
       "      <td>990</td>\n",
       "      <td>60</td>\n",
       "      <td>1</td>\n",
       "      <td>165</td>\n",
       "      <td>70</td>\n",
       "      <td>120</td>\n",
       "      <td>80</td>\n",
       "      <td>1</td>\n",
       "      <td>1</td>\n",
       "      <td>0</td>\n",
       "      <td>0</td>\n",
       "      <td>1</td>\n",
       "      <td>0</td>\n",
       "    </tr>\n",
       "    <tr>\n",
       "      <th>3</th>\n",
       "      <td>991</td>\n",
       "      <td>39</td>\n",
       "      <td>2</td>\n",
       "      <td>165</td>\n",
       "      <td>85</td>\n",
       "      <td>120</td>\n",
       "      <td>80</td>\n",
       "      <td>1</td>\n",
       "      <td>1</td>\n",
       "      <td>1</td>\n",
       "      <td>1</td>\n",
       "      <td>1</td>\n",
       "      <td>0</td>\n",
       "    </tr>\n",
       "    <tr>\n",
       "      <th>4</th>\n",
       "      <td>992</td>\n",
       "      <td>64</td>\n",
       "      <td>1</td>\n",
       "      <td>155</td>\n",
       "      <td>62</td>\n",
       "      <td>120</td>\n",
       "      <td>80</td>\n",
       "      <td>1</td>\n",
       "      <td>1</td>\n",
       "      <td>0</td>\n",
       "      <td>0</td>\n",
       "      <td>1</td>\n",
       "      <td>0</td>\n",
       "    </tr>\n",
       "  </tbody>\n",
       "</table>\n",
       "</div>"
      ],
      "text/plain": [
       "    id  age  gender  height  weight  ap_hi  ap_lo  cholesterol  gluc  smoke  \\\n",
       "0  988   61       1     155      69    130     80            2     2      0   \n",
       "1  989   40       1     163      71    110     70            1     1      0   \n",
       "2  990   60       1     165      70    120     80            1     1      0   \n",
       "3  991   39       2     165      85    120     80            1     1      1   \n",
       "4  992   64       1     155      62    120     80            1     1      0   \n",
       "\n",
       "   alco  active  cardio  \n",
       "0     0       1       0  \n",
       "1     0       1       1  \n",
       "2     0       1       0  \n",
       "3     1       1       0  \n",
       "4     0       1       0  "
      ]
     },
     "execution_count": 24,
     "metadata": {},
     "output_type": "execute_result"
    }
   ],
   "source": [
    "df.head()"
   ]
  },
  {
   "cell_type": "code",
   "execution_count": 25,
   "metadata": {},
   "outputs": [],
   "source": [
    "# Change the column names\n",
    "df.columns = ['id', 'age', 'gender', 'height', 'weight', 'systolic_blood_pressure', 'diastolic_blood_pressure', 'cholesterol', 'glucose', 'smoke', 'alcohol', 'physical_activity', 'cardio_vascular_disease']"
   ]
  },
  {
   "cell_type": "markdown",
   "metadata": {},
   "source": [
    "#### Correlation plot"
   ]
  },
  {
   "cell_type": "code",
   "execution_count": 26,
   "metadata": {},
   "outputs": [],
   "source": [
    "cnames = ['Age', 'systolic_blood_pressure ', 'diastolic_blood_pressure', 'cholesterol', 'glucose', 'smoke', 'alcohol', 'physical_active']"
   ]
  },
  {
   "cell_type": "code",
   "execution_count": 27,
   "metadata": {},
   "outputs": [
    {
     "data": {
      "text/html": [
       "<div>\n",
       "<style scoped>\n",
       "    .dataframe tbody tr th:only-of-type {\n",
       "        vertical-align: middle;\n",
       "    }\n",
       "\n",
       "    .dataframe tbody tr th {\n",
       "        vertical-align: top;\n",
       "    }\n",
       "\n",
       "    .dataframe thead th {\n",
       "        text-align: right;\n",
       "    }\n",
       "</style>\n",
       "<table border=\"1\" class=\"dataframe\">\n",
       "  <thead>\n",
       "    <tr style=\"text-align: right;\">\n",
       "      <th></th>\n",
       "      <th>id</th>\n",
       "      <th>age</th>\n",
       "      <th>gender</th>\n",
       "      <th>height</th>\n",
       "      <th>weight</th>\n",
       "      <th>systolic_blood_pressure</th>\n",
       "      <th>diastolic_blood_pressure</th>\n",
       "      <th>cholesterol</th>\n",
       "      <th>glucose</th>\n",
       "      <th>smoke</th>\n",
       "      <th>alcohol</th>\n",
       "      <th>physical_activity</th>\n",
       "      <th>cardio_vascular_disease</th>\n",
       "    </tr>\n",
       "  </thead>\n",
       "  <tbody>\n",
       "    <tr>\n",
       "      <th>0</th>\n",
       "      <td>988</td>\n",
       "      <td>61</td>\n",
       "      <td>1</td>\n",
       "      <td>155</td>\n",
       "      <td>69</td>\n",
       "      <td>130</td>\n",
       "      <td>80</td>\n",
       "      <td>2</td>\n",
       "      <td>2</td>\n",
       "      <td>0</td>\n",
       "      <td>0</td>\n",
       "      <td>1</td>\n",
       "      <td>0</td>\n",
       "    </tr>\n",
       "    <tr>\n",
       "      <th>1</th>\n",
       "      <td>989</td>\n",
       "      <td>40</td>\n",
       "      <td>1</td>\n",
       "      <td>163</td>\n",
       "      <td>71</td>\n",
       "      <td>110</td>\n",
       "      <td>70</td>\n",
       "      <td>1</td>\n",
       "      <td>1</td>\n",
       "      <td>0</td>\n",
       "      <td>0</td>\n",
       "      <td>1</td>\n",
       "      <td>1</td>\n",
       "    </tr>\n",
       "    <tr>\n",
       "      <th>2</th>\n",
       "      <td>990</td>\n",
       "      <td>60</td>\n",
       "      <td>1</td>\n",
       "      <td>165</td>\n",
       "      <td>70</td>\n",
       "      <td>120</td>\n",
       "      <td>80</td>\n",
       "      <td>1</td>\n",
       "      <td>1</td>\n",
       "      <td>0</td>\n",
       "      <td>0</td>\n",
       "      <td>1</td>\n",
       "      <td>0</td>\n",
       "    </tr>\n",
       "    <tr>\n",
       "      <th>3</th>\n",
       "      <td>991</td>\n",
       "      <td>39</td>\n",
       "      <td>2</td>\n",
       "      <td>165</td>\n",
       "      <td>85</td>\n",
       "      <td>120</td>\n",
       "      <td>80</td>\n",
       "      <td>1</td>\n",
       "      <td>1</td>\n",
       "      <td>1</td>\n",
       "      <td>1</td>\n",
       "      <td>1</td>\n",
       "      <td>0</td>\n",
       "    </tr>\n",
       "    <tr>\n",
       "      <th>4</th>\n",
       "      <td>992</td>\n",
       "      <td>64</td>\n",
       "      <td>1</td>\n",
       "      <td>155</td>\n",
       "      <td>62</td>\n",
       "      <td>120</td>\n",
       "      <td>80</td>\n",
       "      <td>1</td>\n",
       "      <td>1</td>\n",
       "      <td>0</td>\n",
       "      <td>0</td>\n",
       "      <td>1</td>\n",
       "      <td>0</td>\n",
       "    </tr>\n",
       "  </tbody>\n",
       "</table>\n",
       "</div>"
      ],
      "text/plain": [
       "    id  age  gender  height  weight  systolic_blood_pressure  \\\n",
       "0  988   61       1     155      69                      130   \n",
       "1  989   40       1     163      71                      110   \n",
       "2  990   60       1     165      70                      120   \n",
       "3  991   39       2     165      85                      120   \n",
       "4  992   64       1     155      62                      120   \n",
       "\n",
       "   diastolic_blood_pressure  cholesterol  glucose  smoke  alcohol  \\\n",
       "0                        80            2        2      0        0   \n",
       "1                        70            1        1      0        0   \n",
       "2                        80            1        1      0        0   \n",
       "3                        80            1        1      1        1   \n",
       "4                        80            1        1      0        0   \n",
       "\n",
       "   physical_activity  cardio_vascular_disease  \n",
       "0                  1                        0  \n",
       "1                  1                        1  \n",
       "2                  1                        0  \n",
       "3                  1                        0  \n",
       "4                  1                        0  "
      ]
     },
     "execution_count": 27,
     "metadata": {},
     "output_type": "execute_result"
    }
   ],
   "source": [
    "df.head()"
   ]
  },
  {
   "cell_type": "code",
   "execution_count": 28,
   "metadata": {},
   "outputs": [
    {
     "name": "stderr",
     "output_type": "stream",
     "text": [
      "/home/devvrat/anaconda3/lib/python3.7/site-packages/pandas/core/indexing.py:1494: FutureWarning: \n",
      "Passing list-likes to .loc or [] with any missing label will raise\n",
      "KeyError in the future, you can use .reindex() as an alternative.\n",
      "\n",
      "See the documentation here:\n",
      "https://pandas.pydata.org/pandas-docs/stable/indexing.html#deprecate-loc-reindex-listlike\n",
      "  return self._getitem_tuple(key)\n"
     ]
    },
    {
     "data": {
      "image/png": "[encoded data removed]",
      "text/plain": [
       "<Figure size 864x576 with 2 Axes>"
      ]
     },
     "metadata": {
      "needs_background": "light"
     },
     "output_type": "display_data"
    }
   ],
   "source": [
    "# Setting width and height of the plot\n",
    "f, ax = plt.subplots(figsize= (12, 8))\n",
    "\n",
    "# Correlation plot\n",
    "df_corr = df.loc[:, cnames]\n",
    "\n",
    "# Generate correlation matrix\n",
    "corr = df_corr.corr()\n",
    "\n",
    "# Plotting it using Seaborn library\n",
    "sns.heatmap(corr, annot= True, cmap= 'Spectral', linewidth= 0.2)\n",
    "plt.show()"
   ]
  },
  {
   "cell_type": "code",
   "execution_count": 29,
   "metadata": {},
   "outputs": [],
   "source": [
    "save_data = df.to_csv('data/Processed_cardio.csv', index= False)"
   ]
  },
  {
   "cell_type": "markdown",
   "metadata": {},
   "source": [
    "### Feature Selection"
   ]
  },
  {
   "cell_type": "code",
   "execution_count": 30,
   "metadata": {},
   "outputs": [
    {
     "data": {
      "text/plain": [
       "array([[ 61,  69,   1, 130,  80,   2,   2,   1],\n",
       "       [ 40,  71,   1, 110,  70,   1,   1,   1],\n",
       "       [ 60,  70,   1, 120,  80,   1,   1,   1],\n",
       "       [ 39,  85,   2, 120,  80,   1,   1,   1],\n",
       "       [ 64,  62,   1, 120,  80,   1,   1,   1]])"
      ]
     },
     "execution_count": 30,
     "metadata": {},
     "output_type": "execute_result"
    }
   ],
   "source": [
    "X = df[['age', 'weight', 'gender', 'systolic_blood_pressure', 'diastolic_blood_pressure', 'cholesterol', 'glucose', 'physical_activity']].values\n",
    "#X = df.iloc[:, 1:12].values\n",
    "X[:5]"
   ]
  },
  {
   "cell_type": "code",
   "execution_count": 31,
   "metadata": {},
   "outputs": [
    {
     "data": {
      "text/plain": [
       "array([0, 1, 0, 0, 0])"
      ]
     },
     "execution_count": 31,
     "metadata": {},
     "output_type": "execute_result"
    }
   ],
   "source": [
    "y = df['cardio_vascular_disease'].values\n",
    "y[:5]"
   ]
  },
  {
   "cell_type": "code",
   "execution_count": 32,
   "metadata": {},
   "outputs": [
    {
     "data": {
      "text/plain": [
       "'from sklearn.preprocessing import MinMaxScaler\\nscaler = MinMaxScaler() '"
      ]
     },
     "execution_count": 32,
     "metadata": {},
     "output_type": "execute_result"
    }
   ],
   "source": [
    "'''from sklearn.preprocessing import MinMaxScaler\n",
    "scaler = MinMaxScaler() '''"
   ]
  },
  {
   "cell_type": "code",
   "execution_count": 33,
   "metadata": {},
   "outputs": [],
   "source": [
    "from sklearn.model_selection import train_test_split\n",
    "from sklearn.metrics import classification_report\n",
    "from sklearn.metrics import precision_score, recall_score, f1_score, accuracy_score"
   ]
  },
  {
   "cell_type": "markdown",
   "metadata": {},
   "source": [
    "### Logistic Regression"
   ]
  },
  {
   "cell_type": "code",
   "execution_count": 34,
   "metadata": {},
   "outputs": [],
   "source": [
    "from sklearn.linear_model import LogisticRegression"
   ]
  },
  {
   "cell_type": "code",
   "execution_count": 35,
   "metadata": {
    "scrolled": true
   },
   "outputs": [
    {
     "data": {
      "text/plain": [
       "'\\nfor i in range(0, 30):\\n    X_train, X_test, y_train, y_test = train_test_split(X, y, test_size= 0.25, random_state= i)\\n    lr = LogisticRegression(C= 0.01, solver= \\'liblinear\\').fit(X_train, y_train)\\n    lr.fit(X_train, y_train)\\n    \\n    train_score = lr.score(X_train, y_train)\\n    test_score = lr.score(X_test, y_test)\\n    print(\"Test: {:.3f}, Train: {:.3f} and Random state: {}\".format(train_score, test_score, i))\\n'"
      ]
     },
     "execution_count": 35,
     "metadata": {},
     "output_type": "execute_result"
    }
   ],
   "source": [
    "'''\n",
    "for i in range(0, 30):\n",
    "    X_train, X_test, y_train, y_test = train_test_split(X, y, test_size= 0.25, random_state= i)\n",
    "    lr = LogisticRegression(C= 0.01, solver= 'liblinear').fit(X_train, y_train)\n",
    "    lr.fit(X_train, y_train)\n",
    "    \n",
    "    train_score = lr.score(X_train, y_train)\n",
    "    test_score = lr.score(X_test, y_test)\n",
    "    print(\"Test: {:.3f}, Train: {:.3f} and Random state: {}\".format(train_score, test_score, i))\n",
    "'''"
   ]
  },
  {
   "cell_type": "code",
   "execution_count": 36,
   "metadata": {},
   "outputs": [
    {
     "data": {
      "text/plain": [
       "LogisticRegression(C=0.01, class_weight=None, dual=False, fit_intercept=True,\n",
       "                   intercept_scaling=1, l1_ratio=None, max_iter=100,\n",
       "                   multi_class='warn', n_jobs=None, penalty='l2',\n",
       "                   random_state=None, solver='liblinear', tol=0.0001, verbose=0,\n",
       "                   warm_start=False)"
      ]
     },
     "execution_count": 36,
     "metadata": {},
     "output_type": "execute_result"
    }
   ],
   "source": [
    "X_train, X_test, y_train, y_test = train_test_split(X, y, test_size= 0.25, random_state= 17)\n",
    "lr = LogisticRegression(C= 0.01, solver= 'liblinear').fit(X_train, y_train)\n",
    "lr.fit(X_train, y_train)"
   ]
  },
  {
   "cell_type": "code",
   "execution_count": 37,
   "metadata": {},
   "outputs": [
    {
     "data": {
      "text/plain": [
       "array([0, 0, 1, 0, 0, 0, 1, 1, 0, 1, 1, 0, 1, 1, 0])"
      ]
     },
     "execution_count": 37,
     "metadata": {},
     "output_type": "execute_result"
    }
   ],
   "source": [
    "yhat_lr = lr.predict(X_test)\n",
    "yhat_lr[:15]"
   ]
  },
  {
   "cell_type": "code",
   "execution_count": 38,
   "metadata": {},
   "outputs": [
    {
     "name": "stdout",
     "output_type": "stream",
     "text": [
      "              precision    recall  f1-score   support\n",
      "\n",
      "     Absence       0.70      0.76      0.73      8677\n",
      "    Presence       0.73      0.67      0.70      8649\n",
      "\n",
      "    accuracy                           0.71     17326\n",
      "   macro avg       0.72      0.71      0.71     17326\n",
      "weighted avg       0.72      0.71      0.71     17326\n",
      "\n"
     ]
    }
   ],
   "source": [
    "print(classification_report(y_test, yhat_lr, target_names= ['Absence', 'Presence']))"
   ]
  },
  {
   "cell_type": "code",
   "execution_count": 39,
   "metadata": {},
   "outputs": [],
   "source": [
    "lr_precision = precision_score(y_test, yhat_lr)\n",
    "lr_recall = recall_score(y_test, yhat_lr)\n",
    "lr_f1 = f1_score(y_test, yhat_lr)\n",
    "lr_accuracy = accuracy_score(y_test, yhat_lr)"
   ]
  },
  {
   "cell_type": "markdown",
   "metadata": {},
   "source": [
    "### Naive Bayes Classifier"
   ]
  },
  {
   "cell_type": "code",
   "execution_count": 40,
   "metadata": {},
   "outputs": [],
   "source": [
    "from sklearn.naive_bayes import GaussianNB"
   ]
  },
  {
   "cell_type": "code",
   "execution_count": 41,
   "metadata": {},
   "outputs": [
    {
     "data": {
      "text/plain": [
       "'\\nfor i in range(0, 30):\\n    X_train, X_test, y_train, y_test = train_test_split(X, y, random_state= i)\\n    gnb = GaussianNB()\\n    gnb.fit(X_train, y_train)\\n    \\n    train_score = gnb.score(X_train, y_train)\\n    test_score = gnb.score(X_test, y_test)\\n    \\n    print(\"Test: {:.3f}, Train: {:.3f} and Random state: {}\".format(train_score, test_score, i))\\n'"
      ]
     },
     "execution_count": 41,
     "metadata": {},
     "output_type": "execute_result"
    }
   ],
   "source": [
    "'''\n",
    "for i in range(0, 30):\n",
    "    X_train, X_test, y_train, y_test = train_test_split(X, y, random_state= i)\n",
    "    gnb = GaussianNB()\n",
    "    gnb.fit(X_train, y_train)\n",
    "    \n",
    "    train_score = gnb.score(X_train, y_train)\n",
    "    test_score = gnb.score(X_test, y_test)\n",
    "    \n",
    "    print(\"Test: {:.3f}, Train: {:.3f} and Random state: {}\".format(train_score, test_score, i))\n",
    "'''"
   ]
  },
  {
   "cell_type": "code",
   "execution_count": 42,
   "metadata": {},
   "outputs": [],
   "source": [
    "X_train, X_test, y_train, y_test = train_test_split(X, y, random_state= 10)\n",
    "gnb = GaussianNB().fit(X_train, y_train)"
   ]
  },
  {
   "cell_type": "code",
   "execution_count": 43,
   "metadata": {},
   "outputs": [
    {
     "data": {
      "text/plain": [
       "array([0, 0, 1, 0, 1, 0, 1, 0, 0, 0, 0, 0, 0, 0, 1])"
      ]
     },
     "execution_count": 43,
     "metadata": {},
     "output_type": "execute_result"
    }
   ],
   "source": [
    "yhat_gaussian = gnb.predict(X_test)\n",
    "yhat_gaussian[:15]"
   ]
  },
  {
   "cell_type": "code",
   "execution_count": 44,
   "metadata": {},
   "outputs": [
    {
     "name": "stdout",
     "output_type": "stream",
     "text": [
      "              precision    recall  f1-score   support\n",
      "\n",
      "     Absence       0.58      0.82      0.68      8700\n",
      "    Presence       0.69      0.40      0.51      8626\n",
      "\n",
      "    accuracy                           0.61     17326\n",
      "   macro avg       0.63      0.61      0.59     17326\n",
      "weighted avg       0.63      0.61      0.59     17326\n",
      "\n"
     ]
    }
   ],
   "source": [
    "print(classification_report(y_test, yhat_gaussian, target_names= ['Absence', 'Presence']))"
   ]
  },
  {
   "cell_type": "code",
   "execution_count": 45,
   "metadata": {},
   "outputs": [],
   "source": [
    "gnb_precision = precision_score(y_test, yhat_gaussian)\n",
    "gnb_recall = recall_score(y_test, yhat_gaussian)\n",
    "gnb_f1 = f1_score(y_test, yhat_gaussian)\n",
    "gnb_accuracy = accuracy_score(y_test, yhat_gaussian)"
   ]
  },
  {
   "cell_type": "markdown",
   "metadata": {},
   "source": [
    "### Random Forest Classifier"
   ]
  },
  {
   "cell_type": "code",
   "execution_count": 46,
   "metadata": {},
   "outputs": [],
   "source": [
    "from sklearn.ensemble import RandomForestClassifier"
   ]
  },
  {
   "cell_type": "code",
   "execution_count": 47,
   "metadata": {},
   "outputs": [
    {
     "data": {
      "text/plain": [
       "\"\\nfor i in range(0, 20):\\n    X_train, X_test, y_train, y_test = train_test_split(X, y, random_state= i)\\n    rfc = RandomForestClassifier(n_estimators= 100, criterion= 'entropy', random_state= i)\\n    rfc.fit(X_train, y_train)\\n    \\n    train_score = rfc.score(X_train, y_train)\\n    test_score = rfc.score(X_test, y_test)\\n    \\n    print('Test: {:.3f}, Train: {:.3f} and Random state: {}'.format(test_score, train_score, i))\\n\""
      ]
     },
     "execution_count": 47,
     "metadata": {},
     "output_type": "execute_result"
    }
   ],
   "source": [
    "'''\n",
    "for i in range(0, 20):\n",
    "    X_train, X_test, y_train, y_test = train_test_split(X, y, random_state= i)\n",
    "    rfc = RandomForestClassifier(n_estimators= 100, criterion= 'entropy', random_state= i)\n",
    "    rfc.fit(X_train, y_train)\n",
    "    \n",
    "    train_score = rfc.score(X_train, y_train)\n",
    "    test_score = rfc.score(X_test, y_test)\n",
    "    \n",
    "    print('Test: {:.3f}, Train: {:.3f} and Random state: {}'.format(test_score, train_score, i))\n",
    "'''"
   ]
  },
  {
   "cell_type": "code",
   "execution_count": 48,
   "metadata": {},
   "outputs": [
    {
     "data": {
      "text/plain": [
       "\"\\nfor i in range(0, 20):\\n    X_train, X_test, y_train, y_test = train_test_split(X, y, random_state= i)\\n    #X_train_scaled = scaler.fit_transform(X_train)\\n    #X_test_scaled = scaler.transform(X_test)\\n    rfc = RandomForestClassifier(n_estimators= 100, criterion= 'gini', random_state= i)\\n    rfc.fit(X_train, y_train)\\n    \\n    train_score = rfc.score(X_train, y_train)\\n    test_score = rfc.score(X_test, y_test)\\n    \\n    print('Test: {:.3f}, Train: {:.3f} and Random state: {}'.format(test_score, train_score, i))\\n\""
      ]
     },
     "execution_count": 48,
     "metadata": {},
     "output_type": "execute_result"
    }
   ],
   "source": [
    "'''\n",
    "for i in range(0, 20):\n",
    "    X_train, X_test, y_train, y_test = train_test_split(X, y, random_state= i)\n",
    "    #X_train_scaled = scaler.fit_transform(X_train)\n",
    "    #X_test_scaled = scaler.transform(X_test)\n",
    "    rfc = RandomForestClassifier(n_estimators= 100, criterion= 'gini', random_state= i)\n",
    "    rfc.fit(X_train, y_train)\n",
    "    \n",
    "    train_score = rfc.score(X_train, y_train)\n",
    "    test_score = rfc.score(X_test, y_test)\n",
    "    \n",
    "    print('Test: {:.3f}, Train: {:.3f} and Random state: {}'.format(test_score, train_score, i))\n",
    "'''"
   ]
  },
  {
   "cell_type": "code",
   "execution_count": 49,
   "metadata": {},
   "outputs": [],
   "source": [
    "X_train, X_test, y_train, y_test = train_test_split(X, y, random_state= 18)\n",
    "rfc = RandomForestClassifier(n_estimators= 100, criterion= 'gini', random_state= 18).fit(X_train, y_train)"
   ]
  },
  {
   "cell_type": "code",
   "execution_count": 50,
   "metadata": {},
   "outputs": [
    {
     "data": {
      "text/plain": [
       "array([1, 1, 1, 1, 1, 1, 1, 0, 1, 1, 0, 1, 0, 1, 0])"
      ]
     },
     "execution_count": 50,
     "metadata": {},
     "output_type": "execute_result"
    }
   ],
   "source": [
    "yhat_rfc = rfc.predict(X_test)\n",
    "yhat_rfc[:15]"
   ]
  },
  {
   "cell_type": "code",
   "execution_count": 51,
   "metadata": {},
   "outputs": [
    {
     "name": "stdout",
     "output_type": "stream",
     "text": [
      "              precision    recall  f1-score   support\n",
      "\n",
      "     Absence       0.69      0.71      0.70      8667\n",
      "    Presence       0.70      0.68      0.69      8659\n",
      "\n",
      "    accuracy                           0.70     17326\n",
      "   macro avg       0.70      0.70      0.70     17326\n",
      "weighted avg       0.70      0.70      0.70     17326\n",
      "\n"
     ]
    }
   ],
   "source": [
    "print(classification_report(y_test, yhat_rfc, target_names= ['Absence', 'Presence']))"
   ]
  },
  {
   "cell_type": "code",
   "execution_count": 52,
   "metadata": {},
   "outputs": [],
   "source": [
    "rfc_precision = precision_score(y_test, yhat_rfc)\n",
    "rfc_recall = recall_score(y_test, yhat_rfc)\n",
    "rfc_f1 = f1_score(y_test, yhat_rfc)\n",
    "rfc_accuracy = accuracy_score(y_test, yhat_rfc)"
   ]
  },
  {
   "cell_type": "markdown",
   "metadata": {},
   "source": [
    "### Adaboost Classifier"
   ]
  },
  {
   "cell_type": "code",
   "execution_count": 53,
   "metadata": {},
   "outputs": [],
   "source": [
    "from sklearn.ensemble import AdaBoostClassifier"
   ]
  },
  {
   "cell_type": "code",
   "execution_count": 54,
   "metadata": {},
   "outputs": [
    {
     "data": {
      "text/plain": [
       "'\\nfor i in range(0, 20):\\n    X_train, X_test, y_train, y_test = train_test_split(X, y, random_state= i)\\n    \\n    ada = AdaBoostClassifier(n_estimators= 100, random_state= i).fit(X_train, y_train)\\n    \\n    train_score = ada.score(X_train, y_train)\\n    test_score = ada.score(X_test, y_test)\\n    print(\"Test: {:.3f}, Train: {:.3f} and Random state: {}\".format(test_score, train_score, i))\\n'"
      ]
     },
     "execution_count": 54,
     "metadata": {},
     "output_type": "execute_result"
    }
   ],
   "source": [
    "'''\n",
    "for i in range(0, 20):\n",
    "    X_train, X_test, y_train, y_test = train_test_split(X, y, random_state= i)\n",
    "    \n",
    "    ada = AdaBoostClassifier(n_estimators= 100, random_state= i).fit(X_train, y_train)\n",
    "    \n",
    "    train_score = ada.score(X_train, y_train)\n",
    "    test_score = ada.score(X_test, y_test)\n",
    "    print(\"Test: {:.3f}, Train: {:.3f} and Random state: {}\".format(test_score, train_score, i))\n",
    "'''"
   ]
  },
  {
   "cell_type": "code",
   "execution_count": 55,
   "metadata": {},
   "outputs": [],
   "source": [
    "X_train, X_test, y_train, y_test = train_test_split(X, y, random_state= 11)\n",
    "    \n",
    "ada = AdaBoostClassifier(n_estimators= 100, random_state= 11).fit(X_train, y_train)"
   ]
  },
  {
   "cell_type": "code",
   "execution_count": 56,
   "metadata": {},
   "outputs": [
    {
     "data": {
      "text/plain": [
       "array([1, 0, 0, 1, 0, 1, 1, 0, 0, 0, 1, 0, 0, 1, 1])"
      ]
     },
     "execution_count": 56,
     "metadata": {},
     "output_type": "execute_result"
    }
   ],
   "source": [
    "yhat_ada = ada.predict(X_test)\n",
    "yhat_ada[:15]"
   ]
  },
  {
   "cell_type": "code",
   "execution_count": 57,
   "metadata": {},
   "outputs": [
    {
     "name": "stdout",
     "output_type": "stream",
     "text": [
      "              precision    recall  f1-score   support\n",
      "\n",
      "     Absence       0.71      0.81      0.75      8719\n",
      "    Presence       0.77      0.66      0.71      8607\n",
      "\n",
      "    accuracy                           0.73     17326\n",
      "   macro avg       0.74      0.73      0.73     17326\n",
      "weighted avg       0.74      0.73      0.73     17326\n",
      "\n"
     ]
    }
   ],
   "source": [
    "print(classification_report(y_test, yhat_ada, target_names= ['Absence', 'Presence']))"
   ]
  },
  {
   "cell_type": "code",
   "execution_count": 58,
   "metadata": {},
   "outputs": [],
   "source": [
    "ada_precision = precision_score(y_test, yhat_ada)\n",
    "ada_recall = recall_score(y_test, yhat_ada)\n",
    "ada_f1 = f1_score(y_test, yhat_ada)\n",
    "ada_accuracy = accuracy_score(y_test, yhat_ada)"
   ]
  },
  {
   "cell_type": "markdown",
   "metadata": {},
   "source": [
    "### Gradient Boosting Classifier"
   ]
  },
  {
   "cell_type": "code",
   "execution_count": 59,
   "metadata": {},
   "outputs": [],
   "source": [
    "from sklearn.ensemble import GradientBoostingClassifier"
   ]
  },
  {
   "cell_type": "code",
   "execution_count": 60,
   "metadata": {},
   "outputs": [
    {
     "data": {
      "text/plain": [
       "'\\nfor i in range(0, 20):\\n    X_train, X_test, y_train, y_test = train_test_split(X, y, random_state= i)\\n    \\n    gbc = GradientBoostingClassifier(learning_rate = 0.01, max_depth = 2, random_state= i).fit(X_train, y_train)\\n    \\n    train_score = gbc.score(X_train, y_train)\\n    test_score = gbc.score(X_test, y_test)\\n    print(\"Test: {:.3f}, Train: {:.3f} and Random state: {}\".format(test_score, train_score, i))\\n'"
      ]
     },
     "execution_count": 60,
     "metadata": {},
     "output_type": "execute_result"
    }
   ],
   "source": [
    "'''\n",
    "for i in range(0, 20):\n",
    "    X_train, X_test, y_train, y_test = train_test_split(X, y, random_state= i)\n",
    "    \n",
    "    gbc = GradientBoostingClassifier(learning_rate = 0.01, max_depth = 2, random_state= i).fit(X_train, y_train)\n",
    "    \n",
    "    train_score = gbc.score(X_train, y_train)\n",
    "    test_score = gbc.score(X_test, y_test)\n",
    "    print(\"Test: {:.3f}, Train: {:.3f} and Random state: {}\".format(test_score, train_score, i))\n",
    "'''"
   ]
  },
  {
   "cell_type": "code",
   "execution_count": 61,
   "metadata": {},
   "outputs": [
    {
     "data": {
      "text/plain": [
       "'\\nfor i in range(0, 20):\\n    X_train, X_test, y_train, y_test = train_test_split(X, y, random_state= i)\\n    \\n    gbc = GradientBoostingClassifier(learning_rate = 0.01, max_depth = 3, random_state= i).fit(X_train, y_train)\\n    \\n    train_score = gbc.score(X_train, y_train)\\n    test_score = gbc.score(X_test, y_test)\\n    print(\"Test: {:.3f}, Train: {:.3f} and Random state: {}\".format(test_score, train_score, i))\\n'"
      ]
     },
     "execution_count": 61,
     "metadata": {},
     "output_type": "execute_result"
    }
   ],
   "source": [
    "'''\n",
    "for i in range(0, 20):\n",
    "    X_train, X_test, y_train, y_test = train_test_split(X, y, random_state= i)\n",
    "    \n",
    "    gbc = GradientBoostingClassifier(learning_rate = 0.01, max_depth = 3, random_state= i).fit(X_train, y_train)\n",
    "    \n",
    "    train_score = gbc.score(X_train, y_train)\n",
    "    test_score = gbc.score(X_test, y_test)\n",
    "    print(\"Test: {:.3f}, Train: {:.3f} and Random state: {}\".format(test_score, train_score, i))\n",
    "'''"
   ]
  },
  {
   "cell_type": "code",
   "execution_count": 62,
   "metadata": {},
   "outputs": [],
   "source": [
    "X_train, X_test, y_train, y_test = train_test_split(X, y, random_state= 1)\n",
    "    \n",
    "gbc = GradientBoostingClassifier(learning_rate = 0.01, max_depth = 3, random_state= 1).fit(X_train, y_train)"
   ]
  },
  {
   "cell_type": "code",
   "execution_count": 63,
   "metadata": {},
   "outputs": [
    {
     "data": {
      "text/plain": [
       "array([0, 0, 0, 0, 0, 0, 1, 0, 1, 1, 1, 1, 1, 1, 1])"
      ]
     },
     "execution_count": 63,
     "metadata": {},
     "output_type": "execute_result"
    }
   ],
   "source": [
    "yhat_gbc = gbc.predict(X_test)\n",
    "yhat_gbc[:15]"
   ]
  },
  {
   "cell_type": "code",
   "execution_count": 64,
   "metadata": {},
   "outputs": [
    {
     "name": "stdout",
     "output_type": "stream",
     "text": [
      "              precision    recall  f1-score   support\n",
      "\n",
      "     Absence       0.70      0.79      0.74      8684\n",
      "    Presence       0.76      0.66      0.71      8642\n",
      "\n",
      "    accuracy                           0.73     17326\n",
      "   macro avg       0.73      0.73      0.72     17326\n",
      "weighted avg       0.73      0.73      0.72     17326\n",
      "\n"
     ]
    }
   ],
   "source": [
    "print(classification_report(y_test, yhat_gbc, target_names= ['Absence', 'Presence']))"
   ]
  },
  {
   "cell_type": "code",
   "execution_count": 65,
   "metadata": {},
   "outputs": [],
   "source": [
    "gbc_precision = precision_score(y_test, yhat_gbc)\n",
    "gbc_recall = recall_score(y_test, yhat_gbc)\n",
    "gbc_f1 = f1_score(y_test, yhat_gbc)\n",
    "gbc_accuracy = accuracy_score(y_test, yhat_gbc)"
   ]
  },
  {
   "cell_type": "markdown",
   "metadata": {},
   "source": [
    "### MLP Classifier"
   ]
  },
  {
   "cell_type": "code",
   "execution_count": 66,
   "metadata": {},
   "outputs": [],
   "source": [
    "from sklearn.neural_network import MLPClassifier"
   ]
  },
  {
   "cell_type": "code",
   "execution_count": 67,
   "metadata": {},
   "outputs": [
    {
     "data": {
      "text/plain": [
       "'\\nfor i in range(0, 20):\\n    X_train, X_test, y_train, y_test = train_test_split(X, y, random_state= i)\\n    \\n    mlp_classifier = MLPClassifier(random_state= i).fit(X_train, y_train)\\n    \\n    train_score = mlp_classifier.score(X_train, y_train)\\n    test_score = mlp_classifier.score(X_test, y_test)\\n    print(\"Test: {:.3f}, Train: {:.3f} and Random state: {}\".format(test_score, train_score, i))\\n'"
      ]
     },
     "execution_count": 67,
     "metadata": {},
     "output_type": "execute_result"
    }
   ],
   "source": [
    "'''\n",
    "for i in range(0, 20):\n",
    "    X_train, X_test, y_train, y_test = train_test_split(X, y, random_state= i)\n",
    "    \n",
    "    mlp_classifier = MLPClassifier(random_state= i).fit(X_train, y_train)\n",
    "    \n",
    "    train_score = mlp_classifier.score(X_train, y_train)\n",
    "    test_score = mlp_classifier.score(X_test, y_test)\n",
    "    print(\"Test: {:.3f}, Train: {:.3f} and Random state: {}\".format(test_score, train_score, i))\n",
    "'''"
   ]
  },
  {
   "cell_type": "code",
   "execution_count": 68,
   "metadata": {},
   "outputs": [],
   "source": [
    "X_train, X_test, y_train, y_test = train_test_split(X, y, random_state= 5)\n",
    "\n",
    "mlp_classifier = MLPClassifier(random_state= 5).fit(X_train, y_train)"
   ]
  },
  {
   "cell_type": "code",
   "execution_count": 69,
   "metadata": {},
   "outputs": [
    {
     "data": {
      "text/plain": [
       "array([1, 0, 1, 0, 1, 0, 0, 1, 0, 1, 0, 0, 0, 1, 1])"
      ]
     },
     "execution_count": 69,
     "metadata": {},
     "output_type": "execute_result"
    }
   ],
   "source": [
    "yhat_mlp = mlp_classifier.predict(X_test)\n",
    "yhat_mlp[:15]"
   ]
  },
  {
   "cell_type": "code",
   "execution_count": 70,
   "metadata": {},
   "outputs": [
    {
     "name": "stdout",
     "output_type": "stream",
     "text": [
      "              precision    recall  f1-score   support\n",
      "\n",
      "     Absence       0.72      0.77      0.74      8723\n",
      "    Presence       0.74      0.69      0.72      8603\n",
      "\n",
      "    accuracy                           0.73     17326\n",
      "   macro avg       0.73      0.73      0.73     17326\n",
      "weighted avg       0.73      0.73      0.73     17326\n",
      "\n"
     ]
    }
   ],
   "source": [
    "print(classification_report(y_test, yhat_mlp, target_names= ['Absence', 'Presence']))"
   ]
  },
  {
   "cell_type": "code",
   "execution_count": 71,
   "metadata": {},
   "outputs": [],
   "source": [
    "mlp_precision = precision_score(y_test, yhat_mlp)\n",
    "mlp_recall = recall_score(y_test, yhat_mlp)\n",
    "mlp_f1 = f1_score(y_test, yhat_mlp)\n",
    "mlp_accuracy = accuracy_score(y_test, yhat_mlp)"
   ]
  },
  {
   "cell_type": "markdown",
   "metadata": {},
   "source": [
    "### Evaluation DataFrame"
   ]
  },
  {
   "cell_type": "code",
   "execution_count": 72,
   "metadata": {},
   "outputs": [
    {
     "data": {
      "text/html": [
       "<div>\n",
       "<style scoped>\n",
       "    .dataframe tbody tr th:only-of-type {\n",
       "        vertical-align: middle;\n",
       "    }\n",
       "\n",
       "    .dataframe tbody tr th {\n",
       "        vertical-align: top;\n",
       "    }\n",
       "\n",
       "    .dataframe thead th {\n",
       "        text-align: right;\n",
       "    }\n",
       "</style>\n",
       "<table border=\"1\" class=\"dataframe\">\n",
       "  <thead>\n",
       "    <tr style=\"text-align: right;\">\n",
       "      <th></th>\n",
       "      <th>Precision</th>\n",
       "      <th>Recall</th>\n",
       "      <th>F1-score</th>\n",
       "      <th>Accuracy</th>\n",
       "    </tr>\n",
       "  </thead>\n",
       "  <tbody>\n",
       "    <tr>\n",
       "      <th>Logistic Regression Classification</th>\n",
       "      <td>0.732627</td>\n",
       "      <td>0.671638</td>\n",
       "      <td>0.700808</td>\n",
       "      <td>0.713725</td>\n",
       "    </tr>\n",
       "    <tr>\n",
       "      <th>Naive Bayes Classifier</th>\n",
       "      <td>0.689717</td>\n",
       "      <td>0.398910</td>\n",
       "      <td>0.505472</td>\n",
       "      <td>0.611393</td>\n",
       "    </tr>\n",
       "    <tr>\n",
       "      <th>Random Forest Classifier</th>\n",
       "      <td>0.702054</td>\n",
       "      <td>0.682758</td>\n",
       "      <td>0.692272</td>\n",
       "      <td>0.696641</td>\n",
       "    </tr>\n",
       "    <tr>\n",
       "      <th>AdaBoost Classifier</th>\n",
       "      <td>0.772343</td>\n",
       "      <td>0.658650</td>\n",
       "      <td>0.710980</td>\n",
       "      <td>0.733984</td>\n",
       "    </tr>\n",
       "    <tr>\n",
       "      <th>Gradient Boosting Classifier</th>\n",
       "      <td>0.757411</td>\n",
       "      <td>0.662231</td>\n",
       "      <td>0.706630</td>\n",
       "      <td>0.725730</td>\n",
       "    </tr>\n",
       "    <tr>\n",
       "      <th>MLP Classifier</th>\n",
       "      <td>0.744282</td>\n",
       "      <td>0.692200</td>\n",
       "      <td>0.717297</td>\n",
       "      <td>0.729078</td>\n",
       "    </tr>\n",
       "  </tbody>\n",
       "</table>\n",
       "</div>"
      ],
      "text/plain": [
       "                                    Precision    Recall  F1-score  Accuracy\n",
       "Logistic Regression Classification   0.732627  0.671638  0.700808  0.713725\n",
       "Naive Bayes Classifier               0.689717  0.398910  0.505472  0.611393\n",
       "Random Forest Classifier             0.702054  0.682758  0.692272  0.696641\n",
       "AdaBoost Classifier                  0.772343  0.658650  0.710980  0.733984\n",
       "Gradient Boosting Classifier         0.757411  0.662231  0.706630  0.725730\n",
       "MLP Classifier                       0.744282  0.692200  0.717297  0.729078"
      ]
     },
     "execution_count": 72,
     "metadata": {},
     "output_type": "execute_result"
    }
   ],
   "source": [
    "columns = ['Precision', 'Recall', 'F1-score', 'Accuracy']\n",
    "classifiers = ['Logistic Regression Classification', 'Naive Bayes Classifier', 'Random Forest Classifier', 'AdaBoost Classifier', 'Gradient Boosting Classifier', 'MLP Classifier']\n",
    "data = [[lr_precision, lr_recall, lr_f1, lr_accuracy], \n",
    "        [gnb_precision, gnb_recall, gnb_f1, gnb_accuracy], \n",
    "        [rfc_precision, rfc_recall, rfc_f1, rfc_accuracy], \n",
    "        [ada_precision, ada_recall, ada_f1, ada_accuracy],\n",
    "        [gbc_precision, gbc_recall, gbc_f1, gbc_accuracy],\n",
    "        [mlp_precision, mlp_recall, mlp_f1, mlp_accuracy]\n",
    "       ]\n",
    "\n",
    "df_evaluation = pd.DataFrame(columns= columns, index= classifiers, data= data)\n",
    "df_evaluation"
   ]
  },
  {
   "cell_type": "markdown",
   "metadata": {},
   "source": [
    "Here, if we see the different values of **Precision**, **Recall**, **F1-score** and **Accuracy**, we can see that __AdaBoost Classifier__ preferbly balances the evaluation metrics and gives as optimum results"
   ]
  },
  {
   "cell_type": "code",
   "execution_count": null,
   "metadata": {},
   "outputs": [],
   "source": []
  }
 ],
 "metadata": {
  "kernelspec": {
   "display_name": "Python 3",
   "language": "python",
   "name": "python3"
  },
  "language_info": {
   "codemirror_mode": {
    "name": "ipython",
    "version": 3
   },
   "file_extension": ".py",
   "mimetype": "text/x-python",
   "name": "python",
   "nbconvert_exporter": "python",
   "pygments_lexer": "ipython3",
   "version": "3.7.3"
  }
 },
 "nbformat": 4,
 "nbformat_minor": 2
}
