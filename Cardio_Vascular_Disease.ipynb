{
 "cells": [
  {
   "cell_type": "code",
   "execution_count": 1,
   "metadata": {},
   "outputs": [],
   "source": [
    "import pandas as pd\n",
    "import numpy as np\n",
    "import matplotlib.pyplot as plt\n",
    "import seaborn as sns\n",
    "%matplotlib inline"
   ]
  },
  {
   "cell_type": "code",
   "execution_count": 2,
   "metadata": {},
   "outputs": [],
   "source": [
    "df = pd.read_csv(\"Data/cardio_train.csv\")"
   ]
  },
  {
   "cell_type": "code",
   "execution_count": 3,
   "metadata": {},
   "outputs": [
    {
     "data": {
      "text/html": [
       "<div>\n",
       "<style scoped>\n",
       "    .dataframe tbody tr th:only-of-type {\n",
       "        vertical-align: middle;\n",
       "    }\n",
       "\n",
       "    .dataframe tbody tr th {\n",
       "        vertical-align: top;\n",
       "    }\n",
       "\n",
       "    .dataframe thead th {\n",
       "        text-align: right;\n",
       "    }\n",
       "</style>\n",
       "<table border=\"1\" class=\"dataframe\">\n",
       "  <thead>\n",
       "    <tr style=\"text-align: right;\">\n",
       "      <th></th>\n",
       "      <th>id</th>\n",
       "      <th>age</th>\n",
       "      <th>gender</th>\n",
       "      <th>height</th>\n",
       "      <th>weight</th>\n",
       "      <th>ap_hi</th>\n",
       "      <th>ap_lo</th>\n",
       "      <th>cholesterol</th>\n",
       "      <th>gluc</th>\n",
       "      <th>smoke</th>\n",
       "      <th>alco</th>\n",
       "      <th>active</th>\n",
       "      <th>cardio</th>\n",
       "    </tr>\n",
       "  </thead>\n",
       "  <tbody>\n",
       "    <tr>\n",
       "      <th>0</th>\n",
       "      <td>988</td>\n",
       "      <td>22469</td>\n",
       "      <td>1</td>\n",
       "      <td>155</td>\n",
       "      <td>69.0</td>\n",
       "      <td>130</td>\n",
       "      <td>80</td>\n",
       "      <td>2</td>\n",
       "      <td>2</td>\n",
       "      <td>0</td>\n",
       "      <td>0</td>\n",
       "      <td>1</td>\n",
       "      <td>0</td>\n",
       "    </tr>\n",
       "    <tr>\n",
       "      <th>1</th>\n",
       "      <td>989</td>\n",
       "      <td>14648</td>\n",
       "      <td>1</td>\n",
       "      <td>163</td>\n",
       "      <td>71.0</td>\n",
       "      <td>110</td>\n",
       "      <td>70</td>\n",
       "      <td>1</td>\n",
       "      <td>1</td>\n",
       "      <td>0</td>\n",
       "      <td>0</td>\n",
       "      <td>1</td>\n",
       "      <td>1</td>\n",
       "    </tr>\n",
       "    <tr>\n",
       "      <th>2</th>\n",
       "      <td>990</td>\n",
       "      <td>21901</td>\n",
       "      <td>1</td>\n",
       "      <td>165</td>\n",
       "      <td>70.0</td>\n",
       "      <td>120</td>\n",
       "      <td>80</td>\n",
       "      <td>1</td>\n",
       "      <td>1</td>\n",
       "      <td>0</td>\n",
       "      <td>0</td>\n",
       "      <td>1</td>\n",
       "      <td>0</td>\n",
       "    </tr>\n",
       "    <tr>\n",
       "      <th>3</th>\n",
       "      <td>991</td>\n",
       "      <td>14549</td>\n",
       "      <td>2</td>\n",
       "      <td>165</td>\n",
       "      <td>85.0</td>\n",
       "      <td>120</td>\n",
       "      <td>80</td>\n",
       "      <td>1</td>\n",
       "      <td>1</td>\n",
       "      <td>1</td>\n",
       "      <td>1</td>\n",
       "      <td>1</td>\n",
       "      <td>0</td>\n",
       "    </tr>\n",
       "    <tr>\n",
       "      <th>4</th>\n",
       "      <td>992</td>\n",
       "      <td>23393</td>\n",
       "      <td>1</td>\n",
       "      <td>155</td>\n",
       "      <td>62.0</td>\n",
       "      <td>120</td>\n",
       "      <td>80</td>\n",
       "      <td>1</td>\n",
       "      <td>1</td>\n",
       "      <td>0</td>\n",
       "      <td>0</td>\n",
       "      <td>1</td>\n",
       "      <td>0</td>\n",
       "    </tr>\n",
       "  </tbody>\n",
       "</table>\n",
       "</div>"
      ],
      "text/plain": [
       "    id    age  gender  height  weight  ap_hi  ap_lo  cholesterol  gluc  smoke  \\\n",
       "0  988  22469       1     155    69.0    130     80            2     2      0   \n",
       "1  989  14648       1     163    71.0    110     70            1     1      0   \n",
       "2  990  21901       1     165    70.0    120     80            1     1      0   \n",
       "3  991  14549       2     165    85.0    120     80            1     1      1   \n",
       "4  992  23393       1     155    62.0    120     80            1     1      0   \n",
       "\n",
       "   alco  active  cardio  \n",
       "0     0       1       0  \n",
       "1     0       1       1  \n",
       "2     0       1       0  \n",
       "3     1       1       0  \n",
       "4     0       1       0  "
      ]
     },
     "execution_count": 3,
     "metadata": {},
     "output_type": "execute_result"
    }
   ],
   "source": [
    "df.head()"
   ]
  },
  {
   "cell_type": "markdown",
   "metadata": {},
   "source": [
    "The Dataset contains several fields which leads to the __Presence or absence of cardiovascular disease__ within a patient.\n",
    "\n",
    "1. __Age__ | Objective Feature | __age__ | int (days) |\n",
    "2. __Height__ | Objective Feature | __height__ | int (cm) |\n",
    "3. __Weight__ | Objective Feature | __weight__ | float (kg) |\n",
    "4. __Gender__ | Objective Feature | __gender__ | categorical code |\n",
    "5. __Systolic blood pressure__ | Examination Feature | __ap_hi__ | int |\n",
    "6. __Diastolic blood pressure__ | Examination Feature | __ap_lo__ | int |\n",
    "7. __Cholesterol__ | Examination Feature | __cholesterol__ | 1: normal, 2: above normal, 3: well above normal |\n",
    "8. __Glucose__ | Examination Feature | __gluc__ | 1: normal, 2: above normal, 3: well above normal |\n",
    "9. __Smoking__ | Subjective Feature | __smoke__ | binary |\n",
    "10. __Alcohol intake__ | Subjective Feature | __alco__ | binary |\n",
    "11. __Physical activity__ | Subjective Feature | __active__ | binary |\n",
    "12. __Presence or absence of cardiovascular disease__ | Target Variable | __cardio__ | binary |"
   ]
  },
  {
   "cell_type": "markdown",
   "metadata": {},
   "source": [
    "## Exploratory Data Analysis (EDA)"
   ]
  },
  {
   "cell_type": "code",
   "execution_count": 4,
   "metadata": {},
   "outputs": [
    {
     "data": {
      "text/plain": [
       "id             False\n",
       "age            False\n",
       "gender         False\n",
       "height         False\n",
       "weight         False\n",
       "ap_hi          False\n",
       "ap_lo          False\n",
       "cholesterol    False\n",
       "gluc           False\n",
       "smoke          False\n",
       "alco           False\n",
       "active         False\n",
       "cardio         False\n",
       "dtype: bool"
      ]
     },
     "execution_count": 4,
     "metadata": {},
     "output_type": "execute_result"
    }
   ],
   "source": [
    "# checking for null values\n",
    "df.isnull().any()"
   ]
  },
  {
   "cell_type": "code",
   "execution_count": 5,
   "metadata": {},
   "outputs": [
    {
     "data": {
      "text/plain": [
       "id               int64\n",
       "age              int64\n",
       "gender           int64\n",
       "height           int64\n",
       "weight         float64\n",
       "ap_hi            int64\n",
       "ap_lo            int64\n",
       "cholesterol      int64\n",
       "gluc             int64\n",
       "smoke            int64\n",
       "alco             int64\n",
       "active           int64\n",
       "cardio           int64\n",
       "dtype: object"
      ]
     },
     "execution_count": 5,
     "metadata": {},
     "output_type": "execute_result"
    }
   ],
   "source": [
    "# Checking the datatypes\n",
    "df.dtypes"
   ]
  },
  {
   "cell_type": "code",
   "execution_count": 6,
   "metadata": {},
   "outputs": [],
   "source": [
    "#changing the datatype of weight column\n",
    "df['weight'] = df['weight'].astype(int)"
   ]
  },
  {
   "cell_type": "code",
   "execution_count": 7,
   "metadata": {},
   "outputs": [
    {
     "data": {
      "text/html": [
       "<div>\n",
       "<style scoped>\n",
       "    .dataframe tbody tr th:only-of-type {\n",
       "        vertical-align: middle;\n",
       "    }\n",
       "\n",
       "    .dataframe tbody tr th {\n",
       "        vertical-align: top;\n",
       "    }\n",
       "\n",
       "    .dataframe thead th {\n",
       "        text-align: right;\n",
       "    }\n",
       "</style>\n",
       "<table border=\"1\" class=\"dataframe\">\n",
       "  <thead>\n",
       "    <tr style=\"text-align: right;\">\n",
       "      <th></th>\n",
       "      <th>id</th>\n",
       "      <th>age</th>\n",
       "      <th>gender</th>\n",
       "      <th>height</th>\n",
       "      <th>weight</th>\n",
       "      <th>ap_hi</th>\n",
       "      <th>ap_lo</th>\n",
       "      <th>cholesterol</th>\n",
       "      <th>gluc</th>\n",
       "      <th>smoke</th>\n",
       "      <th>alco</th>\n",
       "      <th>active</th>\n",
       "      <th>cardio</th>\n",
       "    </tr>\n",
       "  </thead>\n",
       "  <tbody>\n",
       "    <tr>\n",
       "      <th>0</th>\n",
       "      <td>988</td>\n",
       "      <td>22469</td>\n",
       "      <td>1</td>\n",
       "      <td>155</td>\n",
       "      <td>69</td>\n",
       "      <td>130</td>\n",
       "      <td>80</td>\n",
       "      <td>2</td>\n",
       "      <td>2</td>\n",
       "      <td>0</td>\n",
       "      <td>0</td>\n",
       "      <td>1</td>\n",
       "      <td>0</td>\n",
       "    </tr>\n",
       "    <tr>\n",
       "      <th>1</th>\n",
       "      <td>989</td>\n",
       "      <td>14648</td>\n",
       "      <td>1</td>\n",
       "      <td>163</td>\n",
       "      <td>71</td>\n",
       "      <td>110</td>\n",
       "      <td>70</td>\n",
       "      <td>1</td>\n",
       "      <td>1</td>\n",
       "      <td>0</td>\n",
       "      <td>0</td>\n",
       "      <td>1</td>\n",
       "      <td>1</td>\n",
       "    </tr>\n",
       "    <tr>\n",
       "      <th>2</th>\n",
       "      <td>990</td>\n",
       "      <td>21901</td>\n",
       "      <td>1</td>\n",
       "      <td>165</td>\n",
       "      <td>70</td>\n",
       "      <td>120</td>\n",
       "      <td>80</td>\n",
       "      <td>1</td>\n",
       "      <td>1</td>\n",
       "      <td>0</td>\n",
       "      <td>0</td>\n",
       "      <td>1</td>\n",
       "      <td>0</td>\n",
       "    </tr>\n",
       "    <tr>\n",
       "      <th>3</th>\n",
       "      <td>991</td>\n",
       "      <td>14549</td>\n",
       "      <td>2</td>\n",
       "      <td>165</td>\n",
       "      <td>85</td>\n",
       "      <td>120</td>\n",
       "      <td>80</td>\n",
       "      <td>1</td>\n",
       "      <td>1</td>\n",
       "      <td>1</td>\n",
       "      <td>1</td>\n",
       "      <td>1</td>\n",
       "      <td>0</td>\n",
       "    </tr>\n",
       "    <tr>\n",
       "      <th>4</th>\n",
       "      <td>992</td>\n",
       "      <td>23393</td>\n",
       "      <td>1</td>\n",
       "      <td>155</td>\n",
       "      <td>62</td>\n",
       "      <td>120</td>\n",
       "      <td>80</td>\n",
       "      <td>1</td>\n",
       "      <td>1</td>\n",
       "      <td>0</td>\n",
       "      <td>0</td>\n",
       "      <td>1</td>\n",
       "      <td>0</td>\n",
       "    </tr>\n",
       "    <tr>\n",
       "      <th>5</th>\n",
       "      <td>995</td>\n",
       "      <td>21143</td>\n",
       "      <td>1</td>\n",
       "      <td>164</td>\n",
       "      <td>61</td>\n",
       "      <td>100</td>\n",
       "      <td>70</td>\n",
       "      <td>1</td>\n",
       "      <td>1</td>\n",
       "      <td>0</td>\n",
       "      <td>0</td>\n",
       "      <td>1</td>\n",
       "      <td>0</td>\n",
       "    </tr>\n",
       "    <tr>\n",
       "      <th>6</th>\n",
       "      <td>996</td>\n",
       "      <td>18085</td>\n",
       "      <td>1</td>\n",
       "      <td>162</td>\n",
       "      <td>72</td>\n",
       "      <td>100</td>\n",
       "      <td>70</td>\n",
       "      <td>1</td>\n",
       "      <td>1</td>\n",
       "      <td>0</td>\n",
       "      <td>0</td>\n",
       "      <td>1</td>\n",
       "      <td>0</td>\n",
       "    </tr>\n",
       "    <tr>\n",
       "      <th>7</th>\n",
       "      <td>997</td>\n",
       "      <td>22547</td>\n",
       "      <td>1</td>\n",
       "      <td>161</td>\n",
       "      <td>93</td>\n",
       "      <td>140</td>\n",
       "      <td>90</td>\n",
       "      <td>2</td>\n",
       "      <td>1</td>\n",
       "      <td>0</td>\n",
       "      <td>0</td>\n",
       "      <td>1</td>\n",
       "      <td>1</td>\n",
       "    </tr>\n",
       "    <tr>\n",
       "      <th>8</th>\n",
       "      <td>999</td>\n",
       "      <td>21250</td>\n",
       "      <td>1</td>\n",
       "      <td>157</td>\n",
       "      <td>68</td>\n",
       "      <td>110</td>\n",
       "      <td>80</td>\n",
       "      <td>1</td>\n",
       "      <td>1</td>\n",
       "      <td>0</td>\n",
       "      <td>0</td>\n",
       "      <td>1</td>\n",
       "      <td>0</td>\n",
       "    </tr>\n",
       "    <tr>\n",
       "      <th>9</th>\n",
       "      <td>1000</td>\n",
       "      <td>22446</td>\n",
       "      <td>1</td>\n",
       "      <td>158</td>\n",
       "      <td>65</td>\n",
       "      <td>140</td>\n",
       "      <td>90</td>\n",
       "      <td>3</td>\n",
       "      <td>1</td>\n",
       "      <td>0</td>\n",
       "      <td>0</td>\n",
       "      <td>1</td>\n",
       "      <td>1</td>\n",
       "    </tr>\n",
       "    <tr>\n",
       "      <th>10</th>\n",
       "      <td>1001</td>\n",
       "      <td>16621</td>\n",
       "      <td>1</td>\n",
       "      <td>153</td>\n",
       "      <td>57</td>\n",
       "      <td>120</td>\n",
       "      <td>80</td>\n",
       "      <td>3</td>\n",
       "      <td>2</td>\n",
       "      <td>0</td>\n",
       "      <td>0</td>\n",
       "      <td>1</td>\n",
       "      <td>1</td>\n",
       "    </tr>\n",
       "    <tr>\n",
       "      <th>11</th>\n",
       "      <td>1002</td>\n",
       "      <td>20442</td>\n",
       "      <td>2</td>\n",
       "      <td>169</td>\n",
       "      <td>82</td>\n",
       "      <td>130</td>\n",
       "      <td>90</td>\n",
       "      <td>1</td>\n",
       "      <td>1</td>\n",
       "      <td>0</td>\n",
       "      <td>0</td>\n",
       "      <td>1</td>\n",
       "      <td>1</td>\n",
       "    </tr>\n",
       "    <tr>\n",
       "      <th>12</th>\n",
       "      <td>1003</td>\n",
       "      <td>23168</td>\n",
       "      <td>2</td>\n",
       "      <td>150</td>\n",
       "      <td>56</td>\n",
       "      <td>130</td>\n",
       "      <td>80</td>\n",
       "      <td>2</td>\n",
       "      <td>1</td>\n",
       "      <td>0</td>\n",
       "      <td>0</td>\n",
       "      <td>1</td>\n",
       "      <td>1</td>\n",
       "    </tr>\n",
       "    <tr>\n",
       "      <th>13</th>\n",
       "      <td>1004</td>\n",
       "      <td>22598</td>\n",
       "      <td>1</td>\n",
       "      <td>176</td>\n",
       "      <td>72</td>\n",
       "      <td>130</td>\n",
       "      <td>90</td>\n",
       "      <td>1</td>\n",
       "      <td>3</td>\n",
       "      <td>0</td>\n",
       "      <td>0</td>\n",
       "      <td>1</td>\n",
       "      <td>1</td>\n",
       "    </tr>\n",
       "    <tr>\n",
       "      <th>14</th>\n",
       "      <td>1006</td>\n",
       "      <td>20317</td>\n",
       "      <td>1</td>\n",
       "      <td>154</td>\n",
       "      <td>85</td>\n",
       "      <td>160</td>\n",
       "      <td>100</td>\n",
       "      <td>3</td>\n",
       "      <td>1</td>\n",
       "      <td>0</td>\n",
       "      <td>0</td>\n",
       "      <td>1</td>\n",
       "      <td>1</td>\n",
       "    </tr>\n",
       "  </tbody>\n",
       "</table>\n",
       "</div>"
      ],
      "text/plain": [
       "      id    age  gender  height  weight  ap_hi  ap_lo  cholesterol  gluc  \\\n",
       "0    988  22469       1     155      69    130     80            2     2   \n",
       "1    989  14648       1     163      71    110     70            1     1   \n",
       "2    990  21901       1     165      70    120     80            1     1   \n",
       "3    991  14549       2     165      85    120     80            1     1   \n",
       "4    992  23393       1     155      62    120     80            1     1   \n",
       "5    995  21143       1     164      61    100     70            1     1   \n",
       "6    996  18085       1     162      72    100     70            1     1   \n",
       "7    997  22547       1     161      93    140     90            2     1   \n",
       "8    999  21250       1     157      68    110     80            1     1   \n",
       "9   1000  22446       1     158      65    140     90            3     1   \n",
       "10  1001  16621       1     153      57    120     80            3     2   \n",
       "11  1002  20442       2     169      82    130     90            1     1   \n",
       "12  1003  23168       2     150      56    130     80            2     1   \n",
       "13  1004  22598       1     176      72    130     90            1     3   \n",
       "14  1006  20317       1     154      85    160    100            3     1   \n",
       "\n",
       "    smoke  alco  active  cardio  \n",
       "0       0     0       1       0  \n",
       "1       0     0       1       1  \n",
       "2       0     0       1       0  \n",
       "3       1     1       1       0  \n",
       "4       0     0       1       0  \n",
       "5       0     0       1       0  \n",
       "6       0     0       1       0  \n",
       "7       0     0       1       1  \n",
       "8       0     0       1       0  \n",
       "9       0     0       1       1  \n",
       "10      0     0       1       1  \n",
       "11      0     0       1       1  \n",
       "12      0     0       1       1  \n",
       "13      0     0       1       1  \n",
       "14      0     0       1       1  "
      ]
     },
     "execution_count": 7,
     "metadata": {},
     "output_type": "execute_result"
    }
   ],
   "source": [
    "df.head(15)"
   ]
  },
  {
   "cell_type": "code",
   "execution_count": 8,
   "metadata": {},
   "outputs": [
    {
     "data": {
      "text/html": [
       "<div>\n",
       "<style scoped>\n",
       "    .dataframe tbody tr th:only-of-type {\n",
       "        vertical-align: middle;\n",
       "    }\n",
       "\n",
       "    .dataframe tbody tr th {\n",
       "        vertical-align: top;\n",
       "    }\n",
       "\n",
       "    .dataframe thead th {\n",
       "        text-align: right;\n",
       "    }\n",
       "</style>\n",
       "<table border=\"1\" class=\"dataframe\">\n",
       "  <thead>\n",
       "    <tr style=\"text-align: right;\">\n",
       "      <th></th>\n",
       "      <th>id</th>\n",
       "      <th>age</th>\n",
       "      <th>gender</th>\n",
       "      <th>height</th>\n",
       "      <th>weight</th>\n",
       "      <th>ap_hi</th>\n",
       "      <th>ap_lo</th>\n",
       "      <th>cholesterol</th>\n",
       "      <th>gluc</th>\n",
       "      <th>smoke</th>\n",
       "      <th>alco</th>\n",
       "      <th>active</th>\n",
       "      <th>cardio</th>\n",
       "    </tr>\n",
       "  </thead>\n",
       "  <tbody>\n",
       "    <tr>\n",
       "      <th>0</th>\n",
       "      <td>988</td>\n",
       "      <td>61</td>\n",
       "      <td>1</td>\n",
       "      <td>155</td>\n",
       "      <td>69</td>\n",
       "      <td>130</td>\n",
       "      <td>80</td>\n",
       "      <td>2</td>\n",
       "      <td>2</td>\n",
       "      <td>0</td>\n",
       "      <td>0</td>\n",
       "      <td>1</td>\n",
       "      <td>0</td>\n",
       "    </tr>\n",
       "    <tr>\n",
       "      <th>1</th>\n",
       "      <td>989</td>\n",
       "      <td>40</td>\n",
       "      <td>1</td>\n",
       "      <td>163</td>\n",
       "      <td>71</td>\n",
       "      <td>110</td>\n",
       "      <td>70</td>\n",
       "      <td>1</td>\n",
       "      <td>1</td>\n",
       "      <td>0</td>\n",
       "      <td>0</td>\n",
       "      <td>1</td>\n",
       "      <td>1</td>\n",
       "    </tr>\n",
       "    <tr>\n",
       "      <th>2</th>\n",
       "      <td>990</td>\n",
       "      <td>60</td>\n",
       "      <td>1</td>\n",
       "      <td>165</td>\n",
       "      <td>70</td>\n",
       "      <td>120</td>\n",
       "      <td>80</td>\n",
       "      <td>1</td>\n",
       "      <td>1</td>\n",
       "      <td>0</td>\n",
       "      <td>0</td>\n",
       "      <td>1</td>\n",
       "      <td>0</td>\n",
       "    </tr>\n",
       "    <tr>\n",
       "      <th>3</th>\n",
       "      <td>991</td>\n",
       "      <td>39</td>\n",
       "      <td>2</td>\n",
       "      <td>165</td>\n",
       "      <td>85</td>\n",
       "      <td>120</td>\n",
       "      <td>80</td>\n",
       "      <td>1</td>\n",
       "      <td>1</td>\n",
       "      <td>1</td>\n",
       "      <td>1</td>\n",
       "      <td>1</td>\n",
       "      <td>0</td>\n",
       "    </tr>\n",
       "    <tr>\n",
       "      <th>4</th>\n",
       "      <td>992</td>\n",
       "      <td>64</td>\n",
       "      <td>1</td>\n",
       "      <td>155</td>\n",
       "      <td>62</td>\n",
       "      <td>120</td>\n",
       "      <td>80</td>\n",
       "      <td>1</td>\n",
       "      <td>1</td>\n",
       "      <td>0</td>\n",
       "      <td>0</td>\n",
       "      <td>1</td>\n",
       "      <td>0</td>\n",
       "    </tr>\n",
       "    <tr>\n",
       "      <th>5</th>\n",
       "      <td>995</td>\n",
       "      <td>57</td>\n",
       "      <td>1</td>\n",
       "      <td>164</td>\n",
       "      <td>61</td>\n",
       "      <td>100</td>\n",
       "      <td>70</td>\n",
       "      <td>1</td>\n",
       "      <td>1</td>\n",
       "      <td>0</td>\n",
       "      <td>0</td>\n",
       "      <td>1</td>\n",
       "      <td>0</td>\n",
       "    </tr>\n",
       "    <tr>\n",
       "      <th>6</th>\n",
       "      <td>996</td>\n",
       "      <td>49</td>\n",
       "      <td>1</td>\n",
       "      <td>162</td>\n",
       "      <td>72</td>\n",
       "      <td>100</td>\n",
       "      <td>70</td>\n",
       "      <td>1</td>\n",
       "      <td>1</td>\n",
       "      <td>0</td>\n",
       "      <td>0</td>\n",
       "      <td>1</td>\n",
       "      <td>0</td>\n",
       "    </tr>\n",
       "    <tr>\n",
       "      <th>7</th>\n",
       "      <td>997</td>\n",
       "      <td>61</td>\n",
       "      <td>1</td>\n",
       "      <td>161</td>\n",
       "      <td>93</td>\n",
       "      <td>140</td>\n",
       "      <td>90</td>\n",
       "      <td>2</td>\n",
       "      <td>1</td>\n",
       "      <td>0</td>\n",
       "      <td>0</td>\n",
       "      <td>1</td>\n",
       "      <td>1</td>\n",
       "    </tr>\n",
       "    <tr>\n",
       "      <th>8</th>\n",
       "      <td>999</td>\n",
       "      <td>58</td>\n",
       "      <td>1</td>\n",
       "      <td>157</td>\n",
       "      <td>68</td>\n",
       "      <td>110</td>\n",
       "      <td>80</td>\n",
       "      <td>1</td>\n",
       "      <td>1</td>\n",
       "      <td>0</td>\n",
       "      <td>0</td>\n",
       "      <td>1</td>\n",
       "      <td>0</td>\n",
       "    </tr>\n",
       "    <tr>\n",
       "      <th>9</th>\n",
       "      <td>1000</td>\n",
       "      <td>61</td>\n",
       "      <td>1</td>\n",
       "      <td>158</td>\n",
       "      <td>65</td>\n",
       "      <td>140</td>\n",
       "      <td>90</td>\n",
       "      <td>3</td>\n",
       "      <td>1</td>\n",
       "      <td>0</td>\n",
       "      <td>0</td>\n",
       "      <td>1</td>\n",
       "      <td>1</td>\n",
       "    </tr>\n",
       "    <tr>\n",
       "      <th>10</th>\n",
       "      <td>1001</td>\n",
       "      <td>45</td>\n",
       "      <td>1</td>\n",
       "      <td>153</td>\n",
       "      <td>57</td>\n",
       "      <td>120</td>\n",
       "      <td>80</td>\n",
       "      <td>3</td>\n",
       "      <td>2</td>\n",
       "      <td>0</td>\n",
       "      <td>0</td>\n",
       "      <td>1</td>\n",
       "      <td>1</td>\n",
       "    </tr>\n",
       "    <tr>\n",
       "      <th>11</th>\n",
       "      <td>1002</td>\n",
       "      <td>56</td>\n",
       "      <td>2</td>\n",
       "      <td>169</td>\n",
       "      <td>82</td>\n",
       "      <td>130</td>\n",
       "      <td>90</td>\n",
       "      <td>1</td>\n",
       "      <td>1</td>\n",
       "      <td>0</td>\n",
       "      <td>0</td>\n",
       "      <td>1</td>\n",
       "      <td>1</td>\n",
       "    </tr>\n",
       "    <tr>\n",
       "      <th>12</th>\n",
       "      <td>1003</td>\n",
       "      <td>63</td>\n",
       "      <td>2</td>\n",
       "      <td>150</td>\n",
       "      <td>56</td>\n",
       "      <td>130</td>\n",
       "      <td>80</td>\n",
       "      <td>2</td>\n",
       "      <td>1</td>\n",
       "      <td>0</td>\n",
       "      <td>0</td>\n",
       "      <td>1</td>\n",
       "      <td>1</td>\n",
       "    </tr>\n",
       "    <tr>\n",
       "      <th>13</th>\n",
       "      <td>1004</td>\n",
       "      <td>61</td>\n",
       "      <td>1</td>\n",
       "      <td>176</td>\n",
       "      <td>72</td>\n",
       "      <td>130</td>\n",
       "      <td>90</td>\n",
       "      <td>1</td>\n",
       "      <td>3</td>\n",
       "      <td>0</td>\n",
       "      <td>0</td>\n",
       "      <td>1</td>\n",
       "      <td>1</td>\n",
       "    </tr>\n",
       "    <tr>\n",
       "      <th>14</th>\n",
       "      <td>1006</td>\n",
       "      <td>55</td>\n",
       "      <td>1</td>\n",
       "      <td>154</td>\n",
       "      <td>85</td>\n",
       "      <td>160</td>\n",
       "      <td>100</td>\n",
       "      <td>3</td>\n",
       "      <td>1</td>\n",
       "      <td>0</td>\n",
       "      <td>0</td>\n",
       "      <td>1</td>\n",
       "      <td>1</td>\n",
       "    </tr>\n",
       "  </tbody>\n",
       "</table>\n",
       "</div>"
      ],
      "text/plain": [
       "      id  age  gender  height  weight  ap_hi  ap_lo  cholesterol  gluc  smoke  \\\n",
       "0    988   61       1     155      69    130     80            2     2      0   \n",
       "1    989   40       1     163      71    110     70            1     1      0   \n",
       "2    990   60       1     165      70    120     80            1     1      0   \n",
       "3    991   39       2     165      85    120     80            1     1      1   \n",
       "4    992   64       1     155      62    120     80            1     1      0   \n",
       "5    995   57       1     164      61    100     70            1     1      0   \n",
       "6    996   49       1     162      72    100     70            1     1      0   \n",
       "7    997   61       1     161      93    140     90            2     1      0   \n",
       "8    999   58       1     157      68    110     80            1     1      0   \n",
       "9   1000   61       1     158      65    140     90            3     1      0   \n",
       "10  1001   45       1     153      57    120     80            3     2      0   \n",
       "11  1002   56       2     169      82    130     90            1     1      0   \n",
       "12  1003   63       2     150      56    130     80            2     1      0   \n",
       "13  1004   61       1     176      72    130     90            1     3      0   \n",
       "14  1006   55       1     154      85    160    100            3     1      0   \n",
       "\n",
       "    alco  active  cardio  \n",
       "0      0       1       0  \n",
       "1      0       1       1  \n",
       "2      0       1       0  \n",
       "3      1       1       0  \n",
       "4      0       1       0  \n",
       "5      0       1       0  \n",
       "6      0       1       0  \n",
       "7      0       1       1  \n",
       "8      0       1       0  \n",
       "9      0       1       1  \n",
       "10     0       1       1  \n",
       "11     0       1       1  \n",
       "12     0       1       1  \n",
       "13     0       1       1  \n",
       "14     0       1       1  "
      ]
     },
     "execution_count": 8,
     "metadata": {},
     "output_type": "execute_result"
    }
   ],
   "source": [
    "# Converting days into years in 'age' parameter\n",
    "df['age'] = df['age']/365\n",
    "df['age'] = df['age'].astype(int)\n",
    "df.head(15)"
   ]
  },
  {
   "cell_type": "code",
   "execution_count": 9,
   "metadata": {},
   "outputs": [
    {
     "data": {
      "text/plain": [
       "id             int64\n",
       "age            int64\n",
       "gender         int64\n",
       "height         int64\n",
       "weight         int64\n",
       "ap_hi          int64\n",
       "ap_lo          int64\n",
       "cholesterol    int64\n",
       "gluc           int64\n",
       "smoke          int64\n",
       "alco           int64\n",
       "active         int64\n",
       "cardio         int64\n",
       "dtype: object"
      ]
     },
     "execution_count": 9,
     "metadata": {},
     "output_type": "execute_result"
    }
   ],
   "source": [
    "df.dtypes"
   ]
  },
  {
   "cell_type": "code",
   "execution_count": 10,
   "metadata": {},
   "outputs": [
    {
     "name": "stdout",
     "output_type": "stream",
     "text": [
      "Percentage of female patients: 34.95%\n",
      "Percentage of male patients: 65.05%\n"
     ]
    }
   ],
   "source": [
    "male_count = len(df[df['gender'] == 1])\n",
    "female_count = len(df[df['gender'] == 2])\n",
    "print(\"Percentage of female patients: {:.2f}%\".format((female_count/len(df['gender'])) * 100))\n",
    "print(\"Percentage of male patients: {:.2f}%\".format((male_count/len(df['gender'])) * 100))"
   ]
  },
  {
   "cell_type": "code",
   "execution_count": 11,
   "metadata": {},
   "outputs": [
    {
     "data": {
      "text/html": [
       "<div>\n",
       "<style scoped>\n",
       "    .dataframe tbody tr th:only-of-type {\n",
       "        vertical-align: middle;\n",
       "    }\n",
       "\n",
       "    .dataframe tbody tr th {\n",
       "        vertical-align: top;\n",
       "    }\n",
       "\n",
       "    .dataframe thead th {\n",
       "        text-align: right;\n",
       "    }\n",
       "</style>\n",
       "<table border=\"1\" class=\"dataframe\">\n",
       "  <thead>\n",
       "    <tr style=\"text-align: right;\">\n",
       "      <th></th>\n",
       "      <th>gender</th>\n",
       "    </tr>\n",
       "  </thead>\n",
       "  <tbody>\n",
       "    <tr>\n",
       "      <th>1</th>\n",
       "      <td>45079</td>\n",
       "    </tr>\n",
       "    <tr>\n",
       "      <th>2</th>\n",
       "      <td>24222</td>\n",
       "    </tr>\n",
       "  </tbody>\n",
       "</table>\n",
       "</div>"
      ],
      "text/plain": [
       "   gender\n",
       "1   45079\n",
       "2   24222"
      ]
     },
     "execution_count": 11,
     "metadata": {},
     "output_type": "execute_result"
    }
   ],
   "source": [
    "df['gender'].value_counts().to_frame()"
   ]
  },
  {
   "cell_type": "code",
   "execution_count": 12,
   "metadata": {},
   "outputs": [
    {
     "data": {
      "image/png": "[encoded data removed]",
      "text/plain": [
       "<Figure size 1296x432 with 1 Axes>"
      ]
     },
     "metadata": {
      "needs_background": "light"
     },
     "output_type": "display_data"
    }
   ],
   "source": [
    "#box plot \n",
    "plt.figure(figsize=(18, 6))\n",
    "sns.boxplot(x='age', y='weight', data=df)\n",
    "plt.xticks(size=15)\n",
    "plt.yticks(size=15)\n",
    "plt.xlabel(\"Age\", size=18)\n",
    "plt.ylabel(\"Weight\", size=18)\n",
    "plt.show()"
   ]
  },
  {
   "cell_type": "code",
   "execution_count": 13,
   "metadata": {},
   "outputs": [
    {
     "data": {
      "image/png": "[encoded data removed]",
      "text/plain": [
       "<Figure size 1296x432 with 1 Axes>"
      ]
     },
     "metadata": {
      "needs_background": "light"
     },
     "output_type": "display_data"
    }
   ],
   "source": [
    "plt.figure(figsize=(18, 6))\n",
    "sns.barplot(x= 'age', y= 'ap_hi', data= df)\n",
    "plt.xticks(size= 15)\n",
    "plt.yticks(size= 15)\n",
    "plt.xlabel('Age', size= 18)\n",
    "plt.ylabel('Systolic Blood Pressure', size= 18)\n",
    "plt.show()"
   ]
  },
  {
   "cell_type": "code",
   "execution_count": 14,
   "metadata": {},
   "outputs": [
    {
     "data": {
      "image/png": "[encoded data removed]",
      "text/plain": [
       "<Figure size 1296x432 with 1 Axes>"
      ]
     },
     "metadata": {
      "needs_background": "light"
     },
     "output_type": "display_data"
    }
   ],
   "source": [
    "plt.figure(figsize=(18, 6))\n",
    "sns.barplot(x= 'age', y= 'ap_lo', data= df)\n",
    "plt.xticks(size= 15)\n",
    "plt.yticks(size= 15)\n",
    "plt.xlabel('Age', size= 18)\n",
    "plt.ylabel('Diabolic Blood Pressure', size= 18)\n",
    "plt.show()"
   ]
  },
  {
   "cell_type": "code",
   "execution_count": 15,
   "metadata": {},
   "outputs": [],
   "source": [
    "def plotAge():\n",
    "    facet_grid = sns.FacetGrid(df, hue= 'cardio')\n",
    "    facet_grid.map(sns.kdeplot, 'age', shade= True, ax= axes[0])\n",
    "    legend_labels = ['Absence', 'Presence']\n",
    "    for t, l in zip(axes[0].get_legend().texts, legend_labels):\n",
    "        t.set_text(l)\n",
    "        axes[0].set(xlabel= 'Age', ylabel= 'Density')\n",
    "        \n",
    "    avg = df[['age', 'cardio']].groupby(['age'], as_index= False).mean()\n",
    "    sns.barplot(x= 'age', y= 'cardio', data= avg, ax= axes[1])\n",
    "    axes[1].set(xlabel= 'age', ylabel= 'Disease Probability')\n",
    "    \n",
    "    plt.clf()"
   ]
  },
  {
   "cell_type": "code",
   "execution_count": 16,
   "metadata": {},
   "outputs": [
    {
     "data": {
      "image/png": "[encoded data removed]",
      "text/plain": [
       "<Figure size 1080x576 with 2 Axes>"
      ]
     },
     "metadata": {
      "needs_background": "light"
     },
     "output_type": "display_data"
    },
    {
     "data": {
      "text/plain": [
       "<Figure size 216x216 with 0 Axes>"
      ]
     },
     "metadata": {},
     "output_type": "display_data"
    }
   ],
   "source": [
    "fig_age, axes = plt.subplots(nrows= 2, ncols= 1, figsize=(15, 8))\n",
    "\n",
    "plotAge()"
   ]
  },
  {
   "cell_type": "code",
   "execution_count": 17,
   "metadata": {},
   "outputs": [
    {
     "data": {
      "image/png": "[encoded data removed]",
      "text/plain": [
       "<Figure size 864x576 with 1 Axes>"
      ]
     },
     "metadata": {
      "needs_background": "light"
     },
     "output_type": "display_data"
    }
   ],
   "source": [
    "pd.crosstab(df['gender'], df['cardio']).plot(kind= 'bar', figsize= (12, 8), color= ['blue', 'red'])\n",
    "plt.title('Cardio-Vascular disease frequency for Gender', size = 18)\n",
    "plt.xlabel('Gender (1= Male and 2= Female)', size= 15)\n",
    "plt.ylabel('Frequency', size= 15)\n",
    "plt.xticks(rotation= 0, size= 13)\n",
    "plt.yticks(size= 13)\n",
    "plt.legend(['Absence of Cardio-Vascular disease', 'Presence of Cardio-Vascular disease'])\n",
    "plt.show()"
   ]
  },
  {
   "cell_type": "code",
   "execution_count": 18,
   "metadata": {
    "scrolled": true
   },
   "outputs": [
    {
     "data": {
      "image/png": "[encoded data removed]",
      "text/plain": [
       "<Figure size 864x576 with 1 Axes>"
      ]
     },
     "metadata": {
      "needs_background": "light"
     },
     "output_type": "display_data"
    }
   ],
   "source": [
    "pd.crosstab(df['cholesterol'], df['cardio']).plot(kind= 'bar', figsize= (12, 8), color= ['orange', 'green'])\n",
    "plt.title('Cardio-Vascular disease frequency for Cholesterol', size = 18)\n",
    "plt.xlabel('Cholesterol (1= Normal, 2= Above Normal and 3= Well above normal)', size= 15)\n",
    "plt.ylabel('Frequency', size= 15)\n",
    "plt.xticks(rotation= 0, size= 13)\n",
    "plt.yticks(size= 13)\n",
    "plt.legend(['Absence of Cardio-Vascular disease', 'Presence of Cardio-Vascular disease'])\n",
    "plt.show()"
   ]
  },
  {
   "cell_type": "code",
   "execution_count": 19,
   "metadata": {},
   "outputs": [
    {
     "data": {
      "image/png": "[encoded data removed]",
      "text/plain": [
       "<Figure size 864x576 with 1 Axes>"
      ]
     },
     "metadata": {
      "needs_background": "light"
     },
     "output_type": "display_data"
    }
   ],
   "source": [
    "pd.crosstab(df['gluc'], df['cardio']).plot(kind= 'bar', figsize= (12, 8), color= ['#efa91c', '#36c5ed'])\n",
    "plt.title('Cardio-Vascular disease frequency for Glucose', size = 18)\n",
    "plt.xlabel('Glucose (1= Normal, 2= Above Normal and 3= Well above normal)', size= 15)\n",
    "plt.ylabel('Frequency', size= 15)\n",
    "plt.xticks(rotation= 0, size= 13)\n",
    "plt.yticks(size= 13)\n",
    "plt.legend(['Absence of Cardio-Vascular disease', 'Presence of Cardio-Vascular disease'])\n",
    "plt.show()"
   ]
  },
  {
   "cell_type": "code",
   "execution_count": 20,
   "metadata": {},
   "outputs": [
    {
     "data": {
      "image/png": "[encoded data removed]",
      "text/plain": [
       "<Figure size 864x576 with 1 Axes>"
      ]
     },
     "metadata": {
      "needs_background": "light"
     },
     "output_type": "display_data"
    }
   ],
   "source": [
    "pd.crosstab(df['smoke'], df['cardio']).plot(kind= 'bar', figsize= (12, 8), color= ['#ed541c', '#13d62d'])\n",
    "plt.title('Cardio-Vascular disease frequency for Smoking', size = 18)\n",
    "plt.xlabel('Smoke (0= Non-smoker and 1= Smoker)', size= 15)\n",
    "plt.ylabel('Frequency', size= 15)\n",
    "plt.xticks(rotation= 0, size= 13)\n",
    "plt.yticks(size= 13)\n",
    "plt.legend(['Absence of Cardio-Vascular disease', 'Presence of Cardio-Vascular disease'])\n",
    "plt.show()"
   ]
  },
  {
   "cell_type": "code",
   "execution_count": 21,
   "metadata": {},
   "outputs": [
    {
     "data": {
      "image/png": "[encoded data removed]",
      "text/plain": [
       "<Figure size 864x576 with 1 Axes>"
      ]
     },
     "metadata": {
      "needs_background": "light"
     },
     "output_type": "display_data"
    }
   ],
   "source": [
    "pd.crosstab(df['alco'], df['cardio']).plot(kind= 'bar', figsize= (12, 8), color= ['#1ca7ed', '#13d62d'])\n",
    "plt.title('Cardio-Vascular disease frequency for Alcohol', size = 18)\n",
    "plt.xlabel('Alcohol (0= Non-alcholic and 1= Alcholic)', size= 15)\n",
    "plt.ylabel('Frequency', size= 15)\n",
    "plt.xticks(rotation= 0, size= 13)\n",
    "plt.yticks(size= 13)\n",
    "plt.legend(['Absence of Cardio-Vascular disease', 'Presence of Cardio-Vascular disease'])\n",
    "plt.show()"
   ]
  },
  {
   "cell_type": "code",
   "execution_count": 22,
   "metadata": {},
   "outputs": [
    {
     "data": {
      "image/png": "[encoded data removed]",
      "text/plain": [
       "<Figure size 864x576 with 1 Axes>"
      ]
     },
     "metadata": {
      "needs_background": "light"
     },
     "output_type": "display_data"
    }
   ],
   "source": [
    "pd.crosstab(df['active'], df['cardio']).plot(kind= 'bar', figsize= (12, 8), color= ['#1ca7ed', '#ed1c1c'])\n",
    "plt.title('Cardio-Vascular disease frequency based on Physical activity', size = 18)\n",
    "plt.xlabel('Physical activity (0= Not active and 1= Active)', size= 15)\n",
    "plt.ylabel('Frequency', size= 15)\n",
    "plt.xticks(rotation= 0, size= 13)\n",
    "plt.yticks(size= 13)\n",
    "plt.legend(['Absence of Cardio-Vascular disease', 'Presence of Cardio-Vascular disease'])\n",
    "plt.show()"
   ]
  },
  {
   "cell_type": "code",
   "execution_count": 23,
   "metadata": {},
   "outputs": [
    {
     "data": {
      "text/html": [
       "<div>\n",
       "<style scoped>\n",
       "    .dataframe tbody tr th:only-of-type {\n",
       "        vertical-align: middle;\n",
       "    }\n",
       "\n",
       "    .dataframe tbody tr th {\n",
       "        vertical-align: top;\n",
       "    }\n",
       "\n",
       "    .dataframe thead th {\n",
       "        text-align: right;\n",
       "    }\n",
       "</style>\n",
       "<table border=\"1\" class=\"dataframe\">\n",
       "  <thead>\n",
       "    <tr style=\"text-align: right;\">\n",
       "      <th></th>\n",
       "      <th>id</th>\n",
       "      <th>age</th>\n",
       "      <th>gender</th>\n",
       "      <th>height</th>\n",
       "      <th>weight</th>\n",
       "      <th>ap_hi</th>\n",
       "      <th>ap_lo</th>\n",
       "      <th>cholesterol</th>\n",
       "      <th>gluc</th>\n",
       "      <th>smoke</th>\n",
       "      <th>alco</th>\n",
       "      <th>active</th>\n",
       "      <th>cardio</th>\n",
       "    </tr>\n",
       "  </thead>\n",
       "  <tbody>\n",
       "    <tr>\n",
       "      <th>0</th>\n",
       "      <td>988</td>\n",
       "      <td>61</td>\n",
       "      <td>1</td>\n",
       "      <td>155</td>\n",
       "      <td>69</td>\n",
       "      <td>130</td>\n",
       "      <td>80</td>\n",
       "      <td>2</td>\n",
       "      <td>2</td>\n",
       "      <td>0</td>\n",
       "      <td>0</td>\n",
       "      <td>1</td>\n",
       "      <td>0</td>\n",
       "    </tr>\n",
       "    <tr>\n",
       "      <th>1</th>\n",
       "      <td>989</td>\n",
       "      <td>40</td>\n",
       "      <td>1</td>\n",
       "      <td>163</td>\n",
       "      <td>71</td>\n",
       "      <td>110</td>\n",
       "      <td>70</td>\n",
       "      <td>1</td>\n",
       "      <td>1</td>\n",
       "      <td>0</td>\n",
       "      <td>0</td>\n",
       "      <td>1</td>\n",
       "      <td>1</td>\n",
       "    </tr>\n",
       "    <tr>\n",
       "      <th>2</th>\n",
       "      <td>990</td>\n",
       "      <td>60</td>\n",
       "      <td>1</td>\n",
       "      <td>165</td>\n",
       "      <td>70</td>\n",
       "      <td>120</td>\n",
       "      <td>80</td>\n",
       "      <td>1</td>\n",
       "      <td>1</td>\n",
       "      <td>0</td>\n",
       "      <td>0</td>\n",
       "      <td>1</td>\n",
       "      <td>0</td>\n",
       "    </tr>\n",
       "    <tr>\n",
       "      <th>3</th>\n",
       "      <td>991</td>\n",
       "      <td>39</td>\n",
       "      <td>2</td>\n",
       "      <td>165</td>\n",
       "      <td>85</td>\n",
       "      <td>120</td>\n",
       "      <td>80</td>\n",
       "      <td>1</td>\n",
       "      <td>1</td>\n",
       "      <td>1</td>\n",
       "      <td>1</td>\n",
       "      <td>1</td>\n",
       "      <td>0</td>\n",
       "    </tr>\n",
       "    <tr>\n",
       "      <th>4</th>\n",
       "      <td>992</td>\n",
       "      <td>64</td>\n",
       "      <td>1</td>\n",
       "      <td>155</td>\n",
       "      <td>62</td>\n",
       "      <td>120</td>\n",
       "      <td>80</td>\n",
       "      <td>1</td>\n",
       "      <td>1</td>\n",
       "      <td>0</td>\n",
       "      <td>0</td>\n",
       "      <td>1</td>\n",
       "      <td>0</td>\n",
       "    </tr>\n",
       "  </tbody>\n",
       "</table>\n",
       "</div>"
      ],
      "text/plain": [
       "    id  age  gender  height  weight  ap_hi  ap_lo  cholesterol  gluc  smoke  \\\n",
       "0  988   61       1     155      69    130     80            2     2      0   \n",
       "1  989   40       1     163      71    110     70            1     1      0   \n",
       "2  990   60       1     165      70    120     80            1     1      0   \n",
       "3  991   39       2     165      85    120     80            1     1      1   \n",
       "4  992   64       1     155      62    120     80            1     1      0   \n",
       "\n",
       "   alco  active  cardio  \n",
       "0     0       1       0  \n",
       "1     0       1       1  \n",
       "2     0       1       0  \n",
       "3     1       1       0  \n",
       "4     0       1       0  "
      ]
     },
     "execution_count": 23,
     "metadata": {},
     "output_type": "execute_result"
    }
   ],
   "source": [
    "df.head()"
   ]
  },
  {
   "cell_type": "code",
   "execution_count": null,
   "metadata": {},
   "outputs": [],
   "source": []
  },
  {
   "cell_type": "markdown",
   "metadata": {},
   "source": [
    "### Feature Selection"
   ]
  },
  {
   "cell_type": "code",
   "execution_count": 24,
   "metadata": {},
   "outputs": [
    {
     "data": {
      "text/html": [
       "<div>\n",
       "<style scoped>\n",
       "    .dataframe tbody tr th:only-of-type {\n",
       "        vertical-align: middle;\n",
       "    }\n",
       "\n",
       "    .dataframe tbody tr th {\n",
       "        vertical-align: top;\n",
       "    }\n",
       "\n",
       "    .dataframe thead th {\n",
       "        text-align: right;\n",
       "    }\n",
       "</style>\n",
       "<table border=\"1\" class=\"dataframe\">\n",
       "  <thead>\n",
       "    <tr style=\"text-align: right;\">\n",
       "      <th></th>\n",
       "      <th>id</th>\n",
       "      <th>age</th>\n",
       "      <th>gender</th>\n",
       "      <th>height</th>\n",
       "      <th>weight</th>\n",
       "      <th>ap_hi</th>\n",
       "      <th>ap_lo</th>\n",
       "      <th>cholesterol</th>\n",
       "      <th>gluc</th>\n",
       "      <th>smoke</th>\n",
       "      <th>alco</th>\n",
       "      <th>active</th>\n",
       "      <th>cardio</th>\n",
       "    </tr>\n",
       "  </thead>\n",
       "  <tbody>\n",
       "    <tr>\n",
       "      <th>0</th>\n",
       "      <td>988</td>\n",
       "      <td>61</td>\n",
       "      <td>1</td>\n",
       "      <td>155</td>\n",
       "      <td>69</td>\n",
       "      <td>130</td>\n",
       "      <td>80</td>\n",
       "      <td>2</td>\n",
       "      <td>2</td>\n",
       "      <td>0</td>\n",
       "      <td>0</td>\n",
       "      <td>1</td>\n",
       "      <td>0</td>\n",
       "    </tr>\n",
       "    <tr>\n",
       "      <th>1</th>\n",
       "      <td>989</td>\n",
       "      <td>40</td>\n",
       "      <td>1</td>\n",
       "      <td>163</td>\n",
       "      <td>71</td>\n",
       "      <td>110</td>\n",
       "      <td>70</td>\n",
       "      <td>1</td>\n",
       "      <td>1</td>\n",
       "      <td>0</td>\n",
       "      <td>0</td>\n",
       "      <td>1</td>\n",
       "      <td>1</td>\n",
       "    </tr>\n",
       "    <tr>\n",
       "      <th>2</th>\n",
       "      <td>990</td>\n",
       "      <td>60</td>\n",
       "      <td>1</td>\n",
       "      <td>165</td>\n",
       "      <td>70</td>\n",
       "      <td>120</td>\n",
       "      <td>80</td>\n",
       "      <td>1</td>\n",
       "      <td>1</td>\n",
       "      <td>0</td>\n",
       "      <td>0</td>\n",
       "      <td>1</td>\n",
       "      <td>0</td>\n",
       "    </tr>\n",
       "    <tr>\n",
       "      <th>3</th>\n",
       "      <td>991</td>\n",
       "      <td>39</td>\n",
       "      <td>2</td>\n",
       "      <td>165</td>\n",
       "      <td>85</td>\n",
       "      <td>120</td>\n",
       "      <td>80</td>\n",
       "      <td>1</td>\n",
       "      <td>1</td>\n",
       "      <td>1</td>\n",
       "      <td>1</td>\n",
       "      <td>1</td>\n",
       "      <td>0</td>\n",
       "    </tr>\n",
       "    <tr>\n",
       "      <th>4</th>\n",
       "      <td>992</td>\n",
       "      <td>64</td>\n",
       "      <td>1</td>\n",
       "      <td>155</td>\n",
       "      <td>62</td>\n",
       "      <td>120</td>\n",
       "      <td>80</td>\n",
       "      <td>1</td>\n",
       "      <td>1</td>\n",
       "      <td>0</td>\n",
       "      <td>0</td>\n",
       "      <td>1</td>\n",
       "      <td>0</td>\n",
       "    </tr>\n",
       "  </tbody>\n",
       "</table>\n",
       "</div>"
      ],
      "text/plain": [
       "    id  age  gender  height  weight  ap_hi  ap_lo  cholesterol  gluc  smoke  \\\n",
       "0  988   61       1     155      69    130     80            2     2      0   \n",
       "1  989   40       1     163      71    110     70            1     1      0   \n",
       "2  990   60       1     165      70    120     80            1     1      0   \n",
       "3  991   39       2     165      85    120     80            1     1      1   \n",
       "4  992   64       1     155      62    120     80            1     1      0   \n",
       "\n",
       "   alco  active  cardio  \n",
       "0     0       1       0  \n",
       "1     0       1       1  \n",
       "2     0       1       0  \n",
       "3     1       1       0  \n",
       "4     0       1       0  "
      ]
     },
     "execution_count": 24,
     "metadata": {},
     "output_type": "execute_result"
    }
   ],
   "source": [
    "df.head()"
   ]
  },
  {
   "cell_type": "code",
   "execution_count": 25,
   "metadata": {},
   "outputs": [
    {
     "data": {
      "text/plain": [
       "array([[ 61,   1, 155,  69, 130,  80,   2,   2,   1],\n",
       "       [ 40,   1, 163,  71, 110,  70,   1,   1,   1],\n",
       "       [ 60,   1, 165,  70, 120,  80,   1,   1,   1],\n",
       "       [ 39,   2, 165,  85, 120,  80,   1,   1,   1],\n",
       "       [ 64,   1, 155,  62, 120,  80,   1,   1,   1]])"
      ]
     },
     "execution_count": 25,
     "metadata": {},
     "output_type": "execute_result"
    }
   ],
   "source": [
    "X = df[['age', 'gender', 'height', 'weight', 'ap_hi', 'ap_lo', 'cholesterol', 'gluc', 'active']].values\n",
    "#X = df.iloc[:, 1:12].values\n",
    "X[:5]"
   ]
  },
  {
   "cell_type": "code",
   "execution_count": 26,
   "metadata": {},
   "outputs": [
    {
     "data": {
      "text/plain": [
       "array([0, 1, 0, 0, 0])"
      ]
     },
     "execution_count": 26,
     "metadata": {},
     "output_type": "execute_result"
    }
   ],
   "source": [
    "y = df['cardio'].values\n",
    "y[:5]"
   ]
  },
  {
   "cell_type": "code",
   "execution_count": 27,
   "metadata": {},
   "outputs": [
    {
     "data": {
      "text/plain": [
       "'from sklearn.preprocessing import MinMaxScaler\\nscaler = MinMaxScaler() '"
      ]
     },
     "execution_count": 27,
     "metadata": {},
     "output_type": "execute_result"
    }
   ],
   "source": [
    "'''from sklearn.preprocessing import MinMaxScaler\n",
    "scaler = MinMaxScaler() '''"
   ]
  },
  {
   "cell_type": "markdown",
   "metadata": {},
   "source": [
    "### Logistic Regression"
   ]
  },
  {
   "cell_type": "code",
   "execution_count": 28,
   "metadata": {},
   "outputs": [],
   "source": [
    "from sklearn.model_selection import train_test_split\n",
    "from sklearn.linear_model import LogisticRegression"
   ]
  },
  {
   "cell_type": "code",
   "execution_count": 29,
   "metadata": {
    "scrolled": true
   },
   "outputs": [
    {
     "name": "stdout",
     "output_type": "stream",
     "text": [
      "Test: 0.708, Train: 0.706 and Random state: 0\n",
      "Test: 0.708, Train: 0.708 and Random state: 1\n",
      "Test: 0.708, Train: 0.703 and Random state: 2\n",
      "Test: 0.713, Train: 0.711 and Random state: 3\n",
      "Test: 0.708, Train: 0.707 and Random state: 4\n",
      "Test: 0.708, Train: 0.705 and Random state: 5\n",
      "Test: 0.706, Train: 0.707 and Random state: 6\n",
      "Test: 0.714, Train: 0.707 and Random state: 7\n",
      "Test: 0.712, Train: 0.716 and Random state: 8\n",
      "Test: 0.713, Train: 0.710 and Random state: 9\n",
      "Test: 0.708, Train: 0.708 and Random state: 10\n",
      "Test: 0.711, Train: 0.712 and Random state: 11\n",
      "Test: 0.714, Train: 0.718 and Random state: 12\n",
      "Test: 0.708, Train: 0.703 and Random state: 13\n",
      "Test: 0.711, Train: 0.700 and Random state: 14\n",
      "Test: 0.713, Train: 0.710 and Random state: 15\n",
      "Test: 0.706, Train: 0.713 and Random state: 16\n",
      "Test: 0.714, Train: 0.717 and Random state: 17\n",
      "Test: 0.711, Train: 0.713 and Random state: 18\n",
      "Test: 0.711, Train: 0.712 and Random state: 19\n",
      "Test: 0.714, Train: 0.706 and Random state: 20\n",
      "Test: 0.707, Train: 0.708 and Random state: 21\n",
      "Test: 0.712, Train: 0.713 and Random state: 22\n",
      "Test: 0.713, Train: 0.709 and Random state: 23\n",
      "Test: 0.707, Train: 0.707 and Random state: 24\n",
      "Test: 0.710, Train: 0.704 and Random state: 25\n",
      "Test: 0.707, Train: 0.707 and Random state: 26\n",
      "Test: 0.711, Train: 0.711 and Random state: 27\n",
      "Test: 0.709, Train: 0.710 and Random state: 28\n",
      "Test: 0.709, Train: 0.708 and Random state: 29\n"
     ]
    }
   ],
   "source": [
    "for i in range(0, 30):\n",
    "    X_train, X_test, y_train, y_test = train_test_split(X, y, test_size= 0.25, random_state= i)\n",
    "    lr = LogisticRegression(C= 0.01, solver= 'liblinear').fit(X_train, y_train)\n",
    "    lr.fit(X_train, y_train)\n",
    "    \n",
    "    train_score = lr.score(X_train, y_train)\n",
    "    test_score = lr.score(X_test, y_test)\n",
    "    print(\"Test: {:.3f}, Train: {:.3f} and Random state: {}\".format(train_score, test_score, i))"
   ]
  },
  {
   "cell_type": "code",
   "execution_count": 30,
   "metadata": {},
   "outputs": [
    {
     "data": {
      "text/plain": [
       "LogisticRegression(C=0.01, class_weight=None, dual=False, fit_intercept=True,\n",
       "                   intercept_scaling=1, l1_ratio=None, max_iter=100,\n",
       "                   multi_class='warn', n_jobs=None, penalty='l2',\n",
       "                   random_state=None, solver='liblinear', tol=0.0001, verbose=0,\n",
       "                   warm_start=False)"
      ]
     },
     "execution_count": 30,
     "metadata": {},
     "output_type": "execute_result"
    }
   ],
   "source": [
    "X_train, X_test, y_train, y_test = train_test_split(X, y, test_size= 0.25, random_state= 7)\n",
    "lr = LogisticRegression(C= 0.01, solver= 'liblinear').fit(X_train, y_train)\n",
    "lr.fit(X_train, y_train)"
   ]
  },
  {
   "cell_type": "code",
   "execution_count": 31,
   "metadata": {},
   "outputs": [
    {
     "data": {
      "text/plain": [
       "array([1, 1, 1, 0, 1, 0, 1, 1, 0, 1, 1, 0, 0, 1, 1])"
      ]
     },
     "execution_count": 31,
     "metadata": {},
     "output_type": "execute_result"
    }
   ],
   "source": [
    "yhat_logistic = lr.predict(X_test)\n",
    "yhat_logistic[:15]"
   ]
  },
  {
   "cell_type": "code",
   "execution_count": 32,
   "metadata": {},
   "outputs": [],
   "source": [
    "from sklearn.metrics import classification_report"
   ]
  },
  {
   "cell_type": "code",
   "execution_count": 33,
   "metadata": {},
   "outputs": [
    {
     "name": "stdout",
     "output_type": "stream",
     "text": [
      "              precision    recall  f1-score   support\n",
      "\n",
      "     Absence       0.68      0.75      0.72      8557\n",
      "    Presence       0.73      0.66      0.70      8769\n",
      "\n",
      "    accuracy                           0.71     17326\n",
      "   macro avg       0.71      0.71      0.71     17326\n",
      "weighted avg       0.71      0.71      0.71     17326\n",
      "\n"
     ]
    }
   ],
   "source": [
    "print(classification_report(y_test, yhat_logistic, target_names= ['Absence', 'Presence']))"
   ]
  },
  {
   "cell_type": "markdown",
   "metadata": {},
   "source": [
    "### Naive Bayes Classifier"
   ]
  },
  {
   "cell_type": "code",
   "execution_count": 34,
   "metadata": {},
   "outputs": [],
   "source": [
    "from sklearn.naive_bayes import GaussianNB"
   ]
  },
  {
   "cell_type": "code",
   "execution_count": 35,
   "metadata": {},
   "outputs": [
    {
     "name": "stdout",
     "output_type": "stream",
     "text": [
      "Test: 0.590, Train: 0.586 and Random state: 0\n",
      "Test: 0.590, Train: 0.592 and Random state: 1\n",
      "Test: 0.604, Train: 0.601 and Random state: 2\n",
      "Test: 0.584, Train: 0.582 and Random state: 3\n",
      "Test: 0.590, Train: 0.586 and Random state: 4\n",
      "Test: 0.589, Train: 0.590 and Random state: 5\n",
      "Test: 0.600, Train: 0.603 and Random state: 6\n",
      "Test: 0.591, Train: 0.577 and Random state: 7\n",
      "Test: 0.589, Train: 0.586 and Random state: 8\n",
      "Test: 0.589, Train: 0.590 and Random state: 9\n",
      "Test: 0.613, Train: 0.612 and Random state: 10\n",
      "Test: 0.583, Train: 0.587 and Random state: 11\n",
      "Test: 0.588, Train: 0.595 and Random state: 12\n",
      "Test: 0.593, Train: 0.592 and Random state: 13\n",
      "Test: 0.591, Train: 0.591 and Random state: 14\n",
      "Test: 0.587, Train: 0.590 and Random state: 15\n",
      "Test: 0.585, Train: 0.594 and Random state: 16\n",
      "Test: 0.586, Train: 0.588 and Random state: 17\n",
      "Test: 0.589, Train: 0.585 and Random state: 18\n",
      "Test: 0.592, Train: 0.591 and Random state: 19\n",
      "Test: 0.589, Train: 0.584 and Random state: 20\n",
      "Test: 0.597, Train: 0.596 and Random state: 21\n",
      "Test: 0.583, Train: 0.581 and Random state: 22\n",
      "Test: 0.591, Train: 0.580 and Random state: 23\n",
      "Test: 0.595, Train: 0.586 and Random state: 24\n",
      "Test: 0.603, Train: 0.599 and Random state: 25\n",
      "Test: 0.592, Train: 0.591 and Random state: 26\n",
      "Test: 0.587, Train: 0.588 and Random state: 27\n",
      "Test: 0.591, Train: 0.589 and Random state: 28\n",
      "Test: 0.598, Train: 0.600 and Random state: 29\n"
     ]
    }
   ],
   "source": [
    "for i in range(0, 30):\n",
    "    X_train, X_test, y_train, y_test = train_test_split(X, y, random_state= i)\n",
    "    gnb = GaussianNB()\n",
    "    gnb.fit(X_train, y_train)\n",
    "    \n",
    "    train_score = gnb.score(X_train, y_train)\n",
    "    test_score = gnb.score(X_test, y_test)\n",
    "    \n",
    "    print(\"Test: {:.3f}, Train: {:.3f} and Random state: {}\".format(train_score, test_score, i))"
   ]
  },
  {
   "cell_type": "code",
   "execution_count": 36,
   "metadata": {},
   "outputs": [],
   "source": [
    "X_train, X_test, y_train, y_test = train_test_split(X, y, random_state= 10)\n",
    "gnb = GaussianNB().fit(X_train, y_train)"
   ]
  },
  {
   "cell_type": "code",
   "execution_count": 37,
   "metadata": {},
   "outputs": [
    {
     "data": {
      "text/plain": [
       "array([0, 0, 1, 0, 1, 0, 1, 0, 0, 0, 0, 0, 0, 0, 1])"
      ]
     },
     "execution_count": 37,
     "metadata": {},
     "output_type": "execute_result"
    }
   ],
   "source": [
    "yhat_gaussian = gnb.predict(X_test)\n",
    "yhat_gaussian[:15]"
   ]
  },
  {
   "cell_type": "code",
   "execution_count": 38,
   "metadata": {},
   "outputs": [
    {
     "name": "stdout",
     "output_type": "stream",
     "text": [
      "              precision    recall  f1-score   support\n",
      "\n",
      "     Absence       0.58      0.82      0.68      8700\n",
      "    Presence       0.69      0.40      0.51      8626\n",
      "\n",
      "    accuracy                           0.61     17326\n",
      "   macro avg       0.63      0.61      0.59     17326\n",
      "weighted avg       0.63      0.61      0.59     17326\n",
      "\n"
     ]
    }
   ],
   "source": [
    "print(classification_report(y_test, yhat_gaussian, target_names= ['Absence', 'Presence']))"
   ]
  },
  {
   "cell_type": "markdown",
   "metadata": {},
   "source": [
    "### Random Forest Classifier"
   ]
  },
  {
   "cell_type": "code",
   "execution_count": 39,
   "metadata": {},
   "outputs": [],
   "source": [
    "from sklearn.ensemble import RandomForestClassifier"
   ]
  },
  {
   "cell_type": "code",
   "execution_count": 40,
   "metadata": {},
   "outputs": [
    {
     "name": "stdout",
     "output_type": "stream",
     "text": [
      "Test: 0.708, Train: 0.980 and Random state: 0\n",
      "Test: 0.706, Train: 0.979 and Random state: 1\n",
      "Test: 0.707, Train: 0.979 and Random state: 2\n",
      "Test: 0.703, Train: 0.980 and Random state: 3\n",
      "Test: 0.700, Train: 0.979 and Random state: 4\n",
      "Test: 0.703, Train: 0.979 and Random state: 5\n",
      "Test: 0.710, Train: 0.979 and Random state: 6\n",
      "Test: 0.703, Train: 0.979 and Random state: 7\n",
      "Test: 0.707, Train: 0.979 and Random state: 8\n",
      "Test: 0.710, Train: 0.979 and Random state: 9\n",
      "Test: 0.708, Train: 0.979 and Random state: 10\n",
      "Test: 0.707, Train: 0.979 and Random state: 11\n",
      "Test: 0.703, Train: 0.980 and Random state: 12\n",
      "Test: 0.708, Train: 0.979 and Random state: 13\n",
      "Test: 0.700, Train: 0.980 and Random state: 14\n",
      "Test: 0.706, Train: 0.979 and Random state: 15\n",
      "Test: 0.705, Train: 0.980 and Random state: 16\n",
      "Test: 0.706, Train: 0.979 and Random state: 17\n",
      "Test: 0.712, Train: 0.979 and Random state: 18\n",
      "Test: 0.706, Train: 0.979 and Random state: 19\n"
     ]
    }
   ],
   "source": [
    "for i in range(0, 20):\n",
    "    X_train, X_test, y_train, y_test = train_test_split(X, y, random_state= i)\n",
    "    rfc = RandomForestClassifier(n_estimators= 100, criterion= 'entropy', random_state= i)\n",
    "    rfc.fit(X_train, y_train)\n",
    "    \n",
    "    train_score = rfc.score(X_train, y_train)\n",
    "    test_score = rfc.score(X_test, y_test)\n",
    "    \n",
    "    print('Test: {:.3f}, Train: {:.3f} and Random state: {}'.format(test_score, train_score, i))"
   ]
  },
  {
   "cell_type": "code",
   "execution_count": 41,
   "metadata": {},
   "outputs": [
    {
     "name": "stdout",
     "output_type": "stream",
     "text": [
      "Test: 0.706, Train: 0.980 and Random state: 0\n",
      "Test: 0.705, Train: 0.979 and Random state: 1\n",
      "Test: 0.707, Train: 0.979 and Random state: 2\n",
      "Test: 0.702, Train: 0.980 and Random state: 3\n",
      "Test: 0.701, Train: 0.979 and Random state: 4\n",
      "Test: 0.702, Train: 0.979 and Random state: 5\n",
      "Test: 0.709, Train: 0.979 and Random state: 6\n",
      "Test: 0.703, Train: 0.979 and Random state: 7\n",
      "Test: 0.707, Train: 0.979 and Random state: 8\n",
      "Test: 0.708, Train: 0.979 and Random state: 9\n",
      "Test: 0.706, Train: 0.979 and Random state: 10\n",
      "Test: 0.708, Train: 0.979 and Random state: 11\n",
      "Test: 0.703, Train: 0.980 and Random state: 12\n",
      "Test: 0.709, Train: 0.979 and Random state: 13\n",
      "Test: 0.701, Train: 0.980 and Random state: 14\n",
      "Test: 0.706, Train: 0.979 and Random state: 15\n",
      "Test: 0.703, Train: 0.979 and Random state: 16\n",
      "Test: 0.706, Train: 0.979 and Random state: 17\n",
      "Test: 0.710, Train: 0.979 and Random state: 18\n",
      "Test: 0.705, Train: 0.979 and Random state: 19\n"
     ]
    }
   ],
   "source": [
    "for i in range(0, 20):\n",
    "    X_train, X_test, y_train, y_test = train_test_split(X, y, random_state= i)\n",
    "    #X_train_scaled = scaler.fit_transform(X_train)\n",
    "    #X_test_scaled = scaler.transform(X_test)\n",
    "    rfc = RandomForestClassifier(n_estimators= 100, criterion= 'gini', random_state= i)\n",
    "    rfc.fit(X_train, y_train)\n",
    "    \n",
    "    train_score = rfc.score(X_train, y_train)\n",
    "    test_score = rfc.score(X_test, y_test)\n",
    "    \n",
    "    print('Test: {:.3f}, Train: {:.3f} and Random state: {}'.format(test_score, train_score, i))"
   ]
  },
  {
   "cell_type": "code",
   "execution_count": 42,
   "metadata": {},
   "outputs": [],
   "source": [
    "X_train, X_test, y_train, y_test = train_test_split(X, y, random_state= 18)\n",
    "rfc = RandomForestClassifier(n_estimators= 100, criterion= 'gini', random_state= 18).fit(X_train, y_train)"
   ]
  },
  {
   "cell_type": "code",
   "execution_count": 43,
   "metadata": {},
   "outputs": [
    {
     "data": {
      "text/plain": [
       "array([1, 1, 1, 1, 1, 0, 1, 1, 1, 1, 0, 1, 0, 0, 0])"
      ]
     },
     "execution_count": 43,
     "metadata": {},
     "output_type": "execute_result"
    }
   ],
   "source": [
    "yhat_rfc = rfc.predict(X_test)\n",
    "yhat_rfc[:15]"
   ]
  },
  {
   "cell_type": "code",
   "execution_count": 44,
   "metadata": {},
   "outputs": [
    {
     "name": "stdout",
     "output_type": "stream",
     "text": [
      "              precision    recall  f1-score   support\n",
      "\n",
      "     Absence       0.71      0.71      0.71      8667\n",
      "    Presence       0.71      0.71      0.71      8659\n",
      "\n",
      "    accuracy                           0.71     17326\n",
      "   macro avg       0.71      0.71      0.71     17326\n",
      "weighted avg       0.71      0.71      0.71     17326\n",
      "\n"
     ]
    }
   ],
   "source": [
    "print(classification_report(y_test, yhat_rfc, target_names= ['Absence', 'Presence']))"
   ]
  },
  {
   "cell_type": "markdown",
   "metadata": {},
   "source": [
    "### Adaboost Classifier"
   ]
  },
  {
   "cell_type": "code",
   "execution_count": 45,
   "metadata": {},
   "outputs": [],
   "source": [
    "from sklearn.ensemble import AdaBoostClassifier"
   ]
  },
  {
   "cell_type": "code",
   "execution_count": 46,
   "metadata": {},
   "outputs": [
    {
     "name": "stdout",
     "output_type": "stream",
     "text": [
      "Test: 0.730, Train: 0.732 and Random state: 0\n",
      "Test: 0.733, Train: 0.731 and Random state: 1\n",
      "Test: 0.730, Train: 0.731 and Random state: 2\n",
      "Test: 0.729, Train: 0.730 and Random state: 3\n",
      "Test: 0.726, Train: 0.733 and Random state: 4\n",
      "Test: 0.729, Train: 0.732 and Random state: 5\n",
      "Test: 0.733, Train: 0.730 and Random state: 6\n",
      "Test: 0.727, Train: 0.733 and Random state: 7\n",
      "Test: 0.732, Train: 0.731 and Random state: 8\n",
      "Test: 0.732, Train: 0.730 and Random state: 9\n",
      "Test: 0.732, Train: 0.731 and Random state: 10\n",
      "Test: 0.733, Train: 0.730 and Random state: 11\n",
      "Test: 0.732, Train: 0.729 and Random state: 12\n",
      "Test: 0.728, Train: 0.731 and Random state: 13\n",
      "Test: 0.725, Train: 0.735 and Random state: 14\n",
      "Test: 0.730, Train: 0.733 and Random state: 15\n",
      "Test: 0.732, Train: 0.731 and Random state: 16\n",
      "Test: 0.729, Train: 0.731 and Random state: 17\n",
      "Test: 0.731, Train: 0.731 and Random state: 18\n",
      "Test: 0.727, Train: 0.733 and Random state: 19\n"
     ]
    }
   ],
   "source": [
    "for i in range(0, 20):\n",
    "    X_train, X_test, y_train, y_test = train_test_split(X, y, random_state= i)\n",
    "    \n",
    "    ada = AdaBoostClassifier(n_estimators= 100, random_state= i).fit(X_train, y_train)\n",
    "    \n",
    "    train_score = ada.score(X_train, y_train)\n",
    "    test_score = ada.score(X_test, y_test)\n",
    "    print(\"Test: {:.3f}, Train: {:.3f} and Random state: {}\".format(test_score, train_score, i))"
   ]
  },
  {
   "cell_type": "code",
   "execution_count": 47,
   "metadata": {},
   "outputs": [],
   "source": [
    "X_train, X_test, y_train, y_test = train_test_split(X, y, random_state= 11)\n",
    "    \n",
    "ada = AdaBoostClassifier(n_estimators= 100, random_state= 11).fit(X_train, y_train)"
   ]
  },
  {
   "cell_type": "code",
   "execution_count": 48,
   "metadata": {},
   "outputs": [
    {
     "data": {
      "text/plain": [
       "array([1, 0, 0, 1, 0, 1, 1, 0, 0, 0, 1, 0, 0, 1, 1])"
      ]
     },
     "execution_count": 48,
     "metadata": {},
     "output_type": "execute_result"
    }
   ],
   "source": [
    "yhat_ada = ada.predict(X_test)\n",
    "yhat_ada[:15]"
   ]
  },
  {
   "cell_type": "code",
   "execution_count": 49,
   "metadata": {},
   "outputs": [
    {
     "name": "stdout",
     "output_type": "stream",
     "text": [
      "              precision    recall  f1-score   support\n",
      "\n",
      "     Absence       0.70      0.81      0.75      8719\n",
      "    Presence       0.77      0.66      0.71      8607\n",
      "\n",
      "    accuracy                           0.73     17326\n",
      "   macro avg       0.74      0.73      0.73     17326\n",
      "weighted avg       0.74      0.73      0.73     17326\n",
      "\n"
     ]
    }
   ],
   "source": [
    "print(classification_report(y_test, yhat_ada, target_names= ['Absence', 'Presence']))"
   ]
  },
  {
   "cell_type": "markdown",
   "metadata": {},
   "source": [
    "### Gradient Boosting Classifier"
   ]
  },
  {
   "cell_type": "code",
   "execution_count": 50,
   "metadata": {},
   "outputs": [],
   "source": [
    "from sklearn.ensemble import GradientBoostingClassifier"
   ]
  },
  {
   "cell_type": "code",
   "execution_count": 51,
   "metadata": {},
   "outputs": [
    {
     "name": "stdout",
     "output_type": "stream",
     "text": [
      "Test: 0.721, Train: 0.724 and Random state: 0\n",
      "Test: 0.725, Train: 0.723 and Random state: 1\n",
      "Test: 0.723, Train: 0.723 and Random state: 2\n",
      "Test: 0.722, Train: 0.724 and Random state: 3\n",
      "Test: 0.721, Train: 0.724 and Random state: 4\n",
      "Test: 0.722, Train: 0.724 and Random state: 5\n",
      "Test: 0.725, Train: 0.723 and Random state: 6\n",
      "Test: 0.720, Train: 0.724 and Random state: 7\n",
      "Test: 0.727, Train: 0.722 and Random state: 8\n",
      "Test: 0.726, Train: 0.722 and Random state: 9\n",
      "Test: 0.727, Train: 0.722 and Random state: 10\n",
      "Test: 0.729, Train: 0.721 and Random state: 11\n",
      "Test: 0.729, Train: 0.722 and Random state: 12\n",
      "Test: 0.724, Train: 0.723 and Random state: 13\n",
      "Test: 0.718, Train: 0.725 and Random state: 14\n",
      "Test: 0.722, Train: 0.724 and Random state: 15\n",
      "Test: 0.725, Train: 0.723 and Random state: 16\n",
      "Test: 0.723, Train: 0.723 and Random state: 17\n",
      "Test: 0.725, Train: 0.723 and Random state: 18\n",
      "Test: 0.720, Train: 0.724 and Random state: 19\n"
     ]
    }
   ],
   "source": [
    "for i in range(0, 20):\n",
    "    X_train, X_test, y_train, y_test = train_test_split(X, y, random_state= i)\n",
    "    \n",
    "    gbc = GradientBoostingClassifier(learning_rate = 0.01, max_depth = 2, random_state= i).fit(X_train, y_train)\n",
    "    \n",
    "    train_score = gbc.score(X_train, y_train)\n",
    "    test_score = gbc.score(X_test, y_test)\n",
    "    print(\"Test: {:.3f}, Train: {:.3f} and Random state: {}\".format(test_score, train_score, i))"
   ]
  },
  {
   "cell_type": "code",
   "execution_count": 52,
   "metadata": {},
   "outputs": [
    {
     "name": "stdout",
     "output_type": "stream",
     "text": [
      "Test: 0.722, Train: 0.725 and Random state: 0\n",
      "Test: 0.726, Train: 0.724 and Random state: 1\n",
      "Test: 0.726, Train: 0.726 and Random state: 2\n",
      "Test: 0.726, Train: 0.726 and Random state: 3\n",
      "Test: 0.723, Train: 0.727 and Random state: 4\n",
      "Test: 0.725, Train: 0.727 and Random state: 5\n",
      "Test: 0.725, Train: 0.724 and Random state: 6\n",
      "Test: 0.722, Train: 0.727 and Random state: 7\n",
      "Test: 0.729, Train: 0.725 and Random state: 8\n",
      "Test: 0.727, Train: 0.724 and Random state: 9\n",
      "Test: 0.728, Train: 0.725 and Random state: 10\n",
      "Test: 0.730, Train: 0.723 and Random state: 11\n",
      "Test: 0.730, Train: 0.724 and Random state: 12\n",
      "Test: 0.726, Train: 0.727 and Random state: 13\n",
      "Test: 0.720, Train: 0.728 and Random state: 14\n",
      "Test: 0.724, Train: 0.726 and Random state: 15\n",
      "Test: 0.726, Train: 0.725 and Random state: 16\n",
      "Test: 0.724, Train: 0.724 and Random state: 17\n",
      "Test: 0.725, Train: 0.724 and Random state: 18\n",
      "Test: 0.722, Train: 0.727 and Random state: 19\n"
     ]
    }
   ],
   "source": [
    "for i in range(0, 20):\n",
    "    X_train, X_test, y_train, y_test = train_test_split(X, y, random_state= i)\n",
    "    \n",
    "    gbc = GradientBoostingClassifier(learning_rate = 0.01, max_depth = 3, random_state= i).fit(X_train, y_train)\n",
    "    \n",
    "    train_score = gbc.score(X_train, y_train)\n",
    "    test_score = gbc.score(X_test, y_test)\n",
    "    print(\"Test: {:.3f}, Train: {:.3f} and Random state: {}\".format(test_score, train_score, i))"
   ]
  },
  {
   "cell_type": "code",
   "execution_count": 53,
   "metadata": {},
   "outputs": [],
   "source": [
    "X_train, X_test, y_train, y_test = train_test_split(X, y, random_state= 1)\n",
    "    \n",
    "gbc = GradientBoostingClassifier(learning_rate = 0.01, max_depth = 3, random_state= 1).fit(X_train, y_train)"
   ]
  },
  {
   "cell_type": "code",
   "execution_count": 54,
   "metadata": {},
   "outputs": [
    {
     "data": {
      "text/plain": [
       "array([0, 0, 0, 0, 0, 0, 1, 0, 1, 1, 1, 1, 1, 1, 1])"
      ]
     },
     "execution_count": 54,
     "metadata": {},
     "output_type": "execute_result"
    }
   ],
   "source": [
    "yhat_gbc = gbc.predict(X_test)\n",
    "yhat_gbc[:15]"
   ]
  },
  {
   "cell_type": "code",
   "execution_count": 55,
   "metadata": {},
   "outputs": [
    {
     "name": "stdout",
     "output_type": "stream",
     "text": [
      "              precision    recall  f1-score   support\n",
      "\n",
      "     Absence       0.70      0.79      0.74      8684\n",
      "    Presence       0.76      0.66      0.71      8642\n",
      "\n",
      "    accuracy                           0.73     17326\n",
      "   macro avg       0.73      0.73      0.72     17326\n",
      "weighted avg       0.73      0.73      0.72     17326\n",
      "\n"
     ]
    }
   ],
   "source": [
    "print(classification_report(y_test, yhat_gbc, target_names= ['Absence', 'Presence']))"
   ]
  },
  {
   "cell_type": "code",
   "execution_count": null,
   "metadata": {},
   "outputs": [],
   "source": []
  },
  {
   "cell_type": "code",
   "execution_count": null,
   "metadata": {},
   "outputs": [],
   "source": []
  },
  {
   "cell_type": "code",
   "execution_count": null,
   "metadata": {},
   "outputs": [],
   "source": []
  }
 ],
 "metadata": {
  "kernelspec": {
   "display_name": "Python 3",
   "language": "python",
   "name": "python3"
  },
  "language_info": {
   "codemirror_mode": {
    "name": "ipython",
    "version": 3
   },
   "file_extension": ".py",
   "mimetype": "text/x-python",
   "name": "python",
   "nbconvert_exporter": "python",
   "pygments_lexer": "ipython3",
   "version": "3.7.3"
  }
 },
 "nbformat": 4,
 "nbformat_minor": 2
}
